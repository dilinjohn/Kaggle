{
  "nbformat": 4,
  "nbformat_minor": 0,
  "metadata": {
    "colab": {
      "name": "Question Answering with a Fine-Tuned BERT.ipynb",
      "provenance": []
    },
    "kernelspec": {
      "name": "python3",
      "display_name": "Python 3"
    },
    "widgets": {
      "application/vnd.jupyter.widget-state+json": {
        "43092d8bdea740fc8323b98b1c10d470": {
          "model_module": "@jupyter-widgets/controls",
          "model_name": "HBoxModel",
          "state": {
            "_view_name": "HBoxView",
            "_dom_classes": [],
            "_model_name": "HBoxModel",
            "_view_module": "@jupyter-widgets/controls",
            "_model_module_version": "1.5.0",
            "_view_count": null,
            "_view_module_version": "1.5.0",
            "box_style": "",
            "layout": "IPY_MODEL_035910cca0a64bbfb8c2c2a0c490d864",
            "_model_module": "@jupyter-widgets/controls",
            "children": [
              "IPY_MODEL_a58b6bc6f85140f684cdb7d1754dd159",
              "IPY_MODEL_7c675a1873484180aa64401da387dedd"
            ]
          }
        },
        "035910cca0a64bbfb8c2c2a0c490d864": {
          "model_module": "@jupyter-widgets/base",
          "model_name": "LayoutModel",
          "state": {
            "_view_name": "LayoutView",
            "grid_template_rows": null,
            "right": null,
            "justify_content": null,
            "_view_module": "@jupyter-widgets/base",
            "overflow": null,
            "_model_module_version": "1.2.0",
            "_view_count": null,
            "flex_flow": null,
            "width": null,
            "min_width": null,
            "border": null,
            "align_items": null,
            "bottom": null,
            "_model_module": "@jupyter-widgets/base",
            "top": null,
            "grid_column": null,
            "overflow_y": null,
            "overflow_x": null,
            "grid_auto_flow": null,
            "grid_area": null,
            "grid_template_columns": null,
            "flex": null,
            "_model_name": "LayoutModel",
            "justify_items": null,
            "grid_row": null,
            "max_height": null,
            "align_content": null,
            "visibility": null,
            "align_self": null,
            "height": null,
            "min_height": null,
            "padding": null,
            "grid_auto_rows": null,
            "grid_gap": null,
            "max_width": null,
            "order": null,
            "_view_module_version": "1.2.0",
            "grid_template_areas": null,
            "object_position": null,
            "object_fit": null,
            "grid_auto_columns": null,
            "margin": null,
            "display": null,
            "left": null
          }
        },
        "a58b6bc6f85140f684cdb7d1754dd159": {
          "model_module": "@jupyter-widgets/controls",
          "model_name": "FloatProgressModel",
          "state": {
            "_view_name": "ProgressView",
            "style": "IPY_MODEL_e8760110c7894a45ae6b514d2bdc73b9",
            "_dom_classes": [],
            "description": "Downloading: 100%",
            "_model_name": "FloatProgressModel",
            "bar_style": "success",
            "max": 443,
            "_view_module": "@jupyter-widgets/controls",
            "_model_module_version": "1.5.0",
            "value": 443,
            "_view_count": null,
            "_view_module_version": "1.5.0",
            "orientation": "horizontal",
            "min": 0,
            "description_tooltip": null,
            "_model_module": "@jupyter-widgets/controls",
            "layout": "IPY_MODEL_1fd3dab3f13342c0a4091ff2690d8464"
          }
        },
        "7c675a1873484180aa64401da387dedd": {
          "model_module": "@jupyter-widgets/controls",
          "model_name": "HTMLModel",
          "state": {
            "_view_name": "HTMLView",
            "style": "IPY_MODEL_e8370c343e9e4387aed22d4fe9b9ffc3",
            "_dom_classes": [],
            "description": "",
            "_model_name": "HTMLModel",
            "placeholder": "​",
            "_view_module": "@jupyter-widgets/controls",
            "_model_module_version": "1.5.0",
            "value": " 443/443 [00:00&lt;00:00, 1.00kB/s]",
            "_view_count": null,
            "_view_module_version": "1.5.0",
            "description_tooltip": null,
            "_model_module": "@jupyter-widgets/controls",
            "layout": "IPY_MODEL_0d7950a95caa42d9b6df194bc19dc2a2"
          }
        },
        "e8760110c7894a45ae6b514d2bdc73b9": {
          "model_module": "@jupyter-widgets/controls",
          "model_name": "ProgressStyleModel",
          "state": {
            "_view_name": "StyleView",
            "_model_name": "ProgressStyleModel",
            "description_width": "initial",
            "_view_module": "@jupyter-widgets/base",
            "_model_module_version": "1.5.0",
            "_view_count": null,
            "_view_module_version": "1.2.0",
            "bar_color": null,
            "_model_module": "@jupyter-widgets/controls"
          }
        },
        "1fd3dab3f13342c0a4091ff2690d8464": {
          "model_module": "@jupyter-widgets/base",
          "model_name": "LayoutModel",
          "state": {
            "_view_name": "LayoutView",
            "grid_template_rows": null,
            "right": null,
            "justify_content": null,
            "_view_module": "@jupyter-widgets/base",
            "overflow": null,
            "_model_module_version": "1.2.0",
            "_view_count": null,
            "flex_flow": null,
            "width": null,
            "min_width": null,
            "border": null,
            "align_items": null,
            "bottom": null,
            "_model_module": "@jupyter-widgets/base",
            "top": null,
            "grid_column": null,
            "overflow_y": null,
            "overflow_x": null,
            "grid_auto_flow": null,
            "grid_area": null,
            "grid_template_columns": null,
            "flex": null,
            "_model_name": "LayoutModel",
            "justify_items": null,
            "grid_row": null,
            "max_height": null,
            "align_content": null,
            "visibility": null,
            "align_self": null,
            "height": null,
            "min_height": null,
            "padding": null,
            "grid_auto_rows": null,
            "grid_gap": null,
            "max_width": null,
            "order": null,
            "_view_module_version": "1.2.0",
            "grid_template_areas": null,
            "object_position": null,
            "object_fit": null,
            "grid_auto_columns": null,
            "margin": null,
            "display": null,
            "left": null
          }
        },
        "e8370c343e9e4387aed22d4fe9b9ffc3": {
          "model_module": "@jupyter-widgets/controls",
          "model_name": "DescriptionStyleModel",
          "state": {
            "_view_name": "StyleView",
            "_model_name": "DescriptionStyleModel",
            "description_width": "",
            "_view_module": "@jupyter-widgets/base",
            "_model_module_version": "1.5.0",
            "_view_count": null,
            "_view_module_version": "1.2.0",
            "_model_module": "@jupyter-widgets/controls"
          }
        },
        "0d7950a95caa42d9b6df194bc19dc2a2": {
          "model_module": "@jupyter-widgets/base",
          "model_name": "LayoutModel",
          "state": {
            "_view_name": "LayoutView",
            "grid_template_rows": null,
            "right": null,
            "justify_content": null,
            "_view_module": "@jupyter-widgets/base",
            "overflow": null,
            "_model_module_version": "1.2.0",
            "_view_count": null,
            "flex_flow": null,
            "width": null,
            "min_width": null,
            "border": null,
            "align_items": null,
            "bottom": null,
            "_model_module": "@jupyter-widgets/base",
            "top": null,
            "grid_column": null,
            "overflow_y": null,
            "overflow_x": null,
            "grid_auto_flow": null,
            "grid_area": null,
            "grid_template_columns": null,
            "flex": null,
            "_model_name": "LayoutModel",
            "justify_items": null,
            "grid_row": null,
            "max_height": null,
            "align_content": null,
            "visibility": null,
            "align_self": null,
            "height": null,
            "min_height": null,
            "padding": null,
            "grid_auto_rows": null,
            "grid_gap": null,
            "max_width": null,
            "order": null,
            "_view_module_version": "1.2.0",
            "grid_template_areas": null,
            "object_position": null,
            "object_fit": null,
            "grid_auto_columns": null,
            "margin": null,
            "display": null,
            "left": null
          }
        },
        "2701c8b069a3494ba0a5a29aba1e2542": {
          "model_module": "@jupyter-widgets/controls",
          "model_name": "HBoxModel",
          "state": {
            "_view_name": "HBoxView",
            "_dom_classes": [],
            "_model_name": "HBoxModel",
            "_view_module": "@jupyter-widgets/controls",
            "_model_module_version": "1.5.0",
            "_view_count": null,
            "_view_module_version": "1.5.0",
            "box_style": "",
            "layout": "IPY_MODEL_2b56fb5af3514a8c91d7310773c2033c",
            "_model_module": "@jupyter-widgets/controls",
            "children": [
              "IPY_MODEL_72fcce39b2a24ff08033b4dc09510472",
              "IPY_MODEL_c412f02379cc42deb97e211f5168fe58"
            ]
          }
        },
        "2b56fb5af3514a8c91d7310773c2033c": {
          "model_module": "@jupyter-widgets/base",
          "model_name": "LayoutModel",
          "state": {
            "_view_name": "LayoutView",
            "grid_template_rows": null,
            "right": null,
            "justify_content": null,
            "_view_module": "@jupyter-widgets/base",
            "overflow": null,
            "_model_module_version": "1.2.0",
            "_view_count": null,
            "flex_flow": null,
            "width": null,
            "min_width": null,
            "border": null,
            "align_items": null,
            "bottom": null,
            "_model_module": "@jupyter-widgets/base",
            "top": null,
            "grid_column": null,
            "overflow_y": null,
            "overflow_x": null,
            "grid_auto_flow": null,
            "grid_area": null,
            "grid_template_columns": null,
            "flex": null,
            "_model_name": "LayoutModel",
            "justify_items": null,
            "grid_row": null,
            "max_height": null,
            "align_content": null,
            "visibility": null,
            "align_self": null,
            "height": null,
            "min_height": null,
            "padding": null,
            "grid_auto_rows": null,
            "grid_gap": null,
            "max_width": null,
            "order": null,
            "_view_module_version": "1.2.0",
            "grid_template_areas": null,
            "object_position": null,
            "object_fit": null,
            "grid_auto_columns": null,
            "margin": null,
            "display": null,
            "left": null
          }
        },
        "72fcce39b2a24ff08033b4dc09510472": {
          "model_module": "@jupyter-widgets/controls",
          "model_name": "FloatProgressModel",
          "state": {
            "_view_name": "ProgressView",
            "style": "IPY_MODEL_518d32c3b79540039cb11e005ec528f1",
            "_dom_classes": [],
            "description": "Downloading: 100%",
            "_model_name": "FloatProgressModel",
            "bar_style": "success",
            "max": 1340675298,
            "_view_module": "@jupyter-widgets/controls",
            "_model_module_version": "1.5.0",
            "value": 1340675298,
            "_view_count": null,
            "_view_module_version": "1.5.0",
            "orientation": "horizontal",
            "min": 0,
            "description_tooltip": null,
            "_model_module": "@jupyter-widgets/controls",
            "layout": "IPY_MODEL_0a033c42e7eb4b05bfa2694290f03591"
          }
        },
        "c412f02379cc42deb97e211f5168fe58": {
          "model_module": "@jupyter-widgets/controls",
          "model_name": "HTMLModel",
          "state": {
            "_view_name": "HTMLView",
            "style": "IPY_MODEL_ec587356ae554dd5a07f5731498b8259",
            "_dom_classes": [],
            "description": "",
            "_model_name": "HTMLModel",
            "placeholder": "​",
            "_view_module": "@jupyter-widgets/controls",
            "_model_module_version": "1.5.0",
            "value": " 1.34G/1.34G [01:15&lt;00:00, 17.8MB/s]",
            "_view_count": null,
            "_view_module_version": "1.5.0",
            "description_tooltip": null,
            "_model_module": "@jupyter-widgets/controls",
            "layout": "IPY_MODEL_7bf9b943e5e748b89a6a1634519e1068"
          }
        },
        "518d32c3b79540039cb11e005ec528f1": {
          "model_module": "@jupyter-widgets/controls",
          "model_name": "ProgressStyleModel",
          "state": {
            "_view_name": "StyleView",
            "_model_name": "ProgressStyleModel",
            "description_width": "initial",
            "_view_module": "@jupyter-widgets/base",
            "_model_module_version": "1.5.0",
            "_view_count": null,
            "_view_module_version": "1.2.0",
            "bar_color": null,
            "_model_module": "@jupyter-widgets/controls"
          }
        },
        "0a033c42e7eb4b05bfa2694290f03591": {
          "model_module": "@jupyter-widgets/base",
          "model_name": "LayoutModel",
          "state": {
            "_view_name": "LayoutView",
            "grid_template_rows": null,
            "right": null,
            "justify_content": null,
            "_view_module": "@jupyter-widgets/base",
            "overflow": null,
            "_model_module_version": "1.2.0",
            "_view_count": null,
            "flex_flow": null,
            "width": null,
            "min_width": null,
            "border": null,
            "align_items": null,
            "bottom": null,
            "_model_module": "@jupyter-widgets/base",
            "top": null,
            "grid_column": null,
            "overflow_y": null,
            "overflow_x": null,
            "grid_auto_flow": null,
            "grid_area": null,
            "grid_template_columns": null,
            "flex": null,
            "_model_name": "LayoutModel",
            "justify_items": null,
            "grid_row": null,
            "max_height": null,
            "align_content": null,
            "visibility": null,
            "align_self": null,
            "height": null,
            "min_height": null,
            "padding": null,
            "grid_auto_rows": null,
            "grid_gap": null,
            "max_width": null,
            "order": null,
            "_view_module_version": "1.2.0",
            "grid_template_areas": null,
            "object_position": null,
            "object_fit": null,
            "grid_auto_columns": null,
            "margin": null,
            "display": null,
            "left": null
          }
        },
        "ec587356ae554dd5a07f5731498b8259": {
          "model_module": "@jupyter-widgets/controls",
          "model_name": "DescriptionStyleModel",
          "state": {
            "_view_name": "StyleView",
            "_model_name": "DescriptionStyleModel",
            "description_width": "",
            "_view_module": "@jupyter-widgets/base",
            "_model_module_version": "1.5.0",
            "_view_count": null,
            "_view_module_version": "1.2.0",
            "_model_module": "@jupyter-widgets/controls"
          }
        },
        "7bf9b943e5e748b89a6a1634519e1068": {
          "model_module": "@jupyter-widgets/base",
          "model_name": "LayoutModel",
          "state": {
            "_view_name": "LayoutView",
            "grid_template_rows": null,
            "right": null,
            "justify_content": null,
            "_view_module": "@jupyter-widgets/base",
            "overflow": null,
            "_model_module_version": "1.2.0",
            "_view_count": null,
            "flex_flow": null,
            "width": null,
            "min_width": null,
            "border": null,
            "align_items": null,
            "bottom": null,
            "_model_module": "@jupyter-widgets/base",
            "top": null,
            "grid_column": null,
            "overflow_y": null,
            "overflow_x": null,
            "grid_auto_flow": null,
            "grid_area": null,
            "grid_template_columns": null,
            "flex": null,
            "_model_name": "LayoutModel",
            "justify_items": null,
            "grid_row": null,
            "max_height": null,
            "align_content": null,
            "visibility": null,
            "align_self": null,
            "height": null,
            "min_height": null,
            "padding": null,
            "grid_auto_rows": null,
            "grid_gap": null,
            "max_width": null,
            "order": null,
            "_view_module_version": "1.2.0",
            "grid_template_areas": null,
            "object_position": null,
            "object_fit": null,
            "grid_auto_columns": null,
            "margin": null,
            "display": null,
            "left": null
          }
        },
        "c2dd178a9b8242b0a199174ce4240c45": {
          "model_module": "@jupyter-widgets/controls",
          "model_name": "HBoxModel",
          "state": {
            "_view_name": "HBoxView",
            "_dom_classes": [],
            "_model_name": "HBoxModel",
            "_view_module": "@jupyter-widgets/controls",
            "_model_module_version": "1.5.0",
            "_view_count": null,
            "_view_module_version": "1.5.0",
            "box_style": "",
            "layout": "IPY_MODEL_3071af02ddba49adbbbcb60fab2b4e82",
            "_model_module": "@jupyter-widgets/controls",
            "children": [
              "IPY_MODEL_b2d2efa233c04711ae88519f7f16a3b3",
              "IPY_MODEL_b8ea006b641f49eba9357b8e34af1c24"
            ]
          }
        },
        "3071af02ddba49adbbbcb60fab2b4e82": {
          "model_module": "@jupyter-widgets/base",
          "model_name": "LayoutModel",
          "state": {
            "_view_name": "LayoutView",
            "grid_template_rows": null,
            "right": null,
            "justify_content": null,
            "_view_module": "@jupyter-widgets/base",
            "overflow": null,
            "_model_module_version": "1.2.0",
            "_view_count": null,
            "flex_flow": null,
            "width": null,
            "min_width": null,
            "border": null,
            "align_items": null,
            "bottom": null,
            "_model_module": "@jupyter-widgets/base",
            "top": null,
            "grid_column": null,
            "overflow_y": null,
            "overflow_x": null,
            "grid_auto_flow": null,
            "grid_area": null,
            "grid_template_columns": null,
            "flex": null,
            "_model_name": "LayoutModel",
            "justify_items": null,
            "grid_row": null,
            "max_height": null,
            "align_content": null,
            "visibility": null,
            "align_self": null,
            "height": null,
            "min_height": null,
            "padding": null,
            "grid_auto_rows": null,
            "grid_gap": null,
            "max_width": null,
            "order": null,
            "_view_module_version": "1.2.0",
            "grid_template_areas": null,
            "object_position": null,
            "object_fit": null,
            "grid_auto_columns": null,
            "margin": null,
            "display": null,
            "left": null
          }
        },
        "b2d2efa233c04711ae88519f7f16a3b3": {
          "model_module": "@jupyter-widgets/controls",
          "model_name": "FloatProgressModel",
          "state": {
            "_view_name": "ProgressView",
            "style": "IPY_MODEL_80d50d5e9a4c4366abdff99ed643a4e7",
            "_dom_classes": [],
            "description": "Downloading: 100%",
            "_model_name": "FloatProgressModel",
            "bar_style": "success",
            "max": 231508,
            "_view_module": "@jupyter-widgets/controls",
            "_model_module_version": "1.5.0",
            "value": 231508,
            "_view_count": null,
            "_view_module_version": "1.5.0",
            "orientation": "horizontal",
            "min": 0,
            "description_tooltip": null,
            "_model_module": "@jupyter-widgets/controls",
            "layout": "IPY_MODEL_3ea3f98b6e5a48198c88366fb5cb8711"
          }
        },
        "b8ea006b641f49eba9357b8e34af1c24": {
          "model_module": "@jupyter-widgets/controls",
          "model_name": "HTMLModel",
          "state": {
            "_view_name": "HTMLView",
            "style": "IPY_MODEL_051689b1650e49da851037bab446522c",
            "_dom_classes": [],
            "description": "",
            "_model_name": "HTMLModel",
            "placeholder": "​",
            "_view_module": "@jupyter-widgets/controls",
            "_model_module_version": "1.5.0",
            "value": " 232k/232k [00:00&lt;00:00, 2.47MB/s]",
            "_view_count": null,
            "_view_module_version": "1.5.0",
            "description_tooltip": null,
            "_model_module": "@jupyter-widgets/controls",
            "layout": "IPY_MODEL_90e7d2264a7b4388a41e197b3b369017"
          }
        },
        "80d50d5e9a4c4366abdff99ed643a4e7": {
          "model_module": "@jupyter-widgets/controls",
          "model_name": "ProgressStyleModel",
          "state": {
            "_view_name": "StyleView",
            "_model_name": "ProgressStyleModel",
            "description_width": "initial",
            "_view_module": "@jupyter-widgets/base",
            "_model_module_version": "1.5.0",
            "_view_count": null,
            "_view_module_version": "1.2.0",
            "bar_color": null,
            "_model_module": "@jupyter-widgets/controls"
          }
        },
        "3ea3f98b6e5a48198c88366fb5cb8711": {
          "model_module": "@jupyter-widgets/base",
          "model_name": "LayoutModel",
          "state": {
            "_view_name": "LayoutView",
            "grid_template_rows": null,
            "right": null,
            "justify_content": null,
            "_view_module": "@jupyter-widgets/base",
            "overflow": null,
            "_model_module_version": "1.2.0",
            "_view_count": null,
            "flex_flow": null,
            "width": null,
            "min_width": null,
            "border": null,
            "align_items": null,
            "bottom": null,
            "_model_module": "@jupyter-widgets/base",
            "top": null,
            "grid_column": null,
            "overflow_y": null,
            "overflow_x": null,
            "grid_auto_flow": null,
            "grid_area": null,
            "grid_template_columns": null,
            "flex": null,
            "_model_name": "LayoutModel",
            "justify_items": null,
            "grid_row": null,
            "max_height": null,
            "align_content": null,
            "visibility": null,
            "align_self": null,
            "height": null,
            "min_height": null,
            "padding": null,
            "grid_auto_rows": null,
            "grid_gap": null,
            "max_width": null,
            "order": null,
            "_view_module_version": "1.2.0",
            "grid_template_areas": null,
            "object_position": null,
            "object_fit": null,
            "grid_auto_columns": null,
            "margin": null,
            "display": null,
            "left": null
          }
        },
        "051689b1650e49da851037bab446522c": {
          "model_module": "@jupyter-widgets/controls",
          "model_name": "DescriptionStyleModel",
          "state": {
            "_view_name": "StyleView",
            "_model_name": "DescriptionStyleModel",
            "description_width": "",
            "_view_module": "@jupyter-widgets/base",
            "_model_module_version": "1.5.0",
            "_view_count": null,
            "_view_module_version": "1.2.0",
            "_model_module": "@jupyter-widgets/controls"
          }
        },
        "90e7d2264a7b4388a41e197b3b369017": {
          "model_module": "@jupyter-widgets/base",
          "model_name": "LayoutModel",
          "state": {
            "_view_name": "LayoutView",
            "grid_template_rows": null,
            "right": null,
            "justify_content": null,
            "_view_module": "@jupyter-widgets/base",
            "overflow": null,
            "_model_module_version": "1.2.0",
            "_view_count": null,
            "flex_flow": null,
            "width": null,
            "min_width": null,
            "border": null,
            "align_items": null,
            "bottom": null,
            "_model_module": "@jupyter-widgets/base",
            "top": null,
            "grid_column": null,
            "overflow_y": null,
            "overflow_x": null,
            "grid_auto_flow": null,
            "grid_area": null,
            "grid_template_columns": null,
            "flex": null,
            "_model_name": "LayoutModel",
            "justify_items": null,
            "grid_row": null,
            "max_height": null,
            "align_content": null,
            "visibility": null,
            "align_self": null,
            "height": null,
            "min_height": null,
            "padding": null,
            "grid_auto_rows": null,
            "grid_gap": null,
            "max_width": null,
            "order": null,
            "_view_module_version": "1.2.0",
            "grid_template_areas": null,
            "object_position": null,
            "object_fit": null,
            "grid_auto_columns": null,
            "margin": null,
            "display": null,
            "left": null
          }
        }
      }
    }
  },
  "cells": [
    {
      "cell_type": "markdown",
      "metadata": {
        "id": "9nAOn9FbVl9V",
        "colab_type": "text"
      },
      "source": [
        "When someone mentions \"Question Answering\" as an application of BERT, what they are really referring to is applying BERT to the Stanford Question Answering Dataset (SQuAD)."
      ]
    },
    {
      "cell_type": "code",
      "metadata": {
        "id": "qwwHYwv96iAm",
        "colab_type": "code",
        "colab": {
          "base_uri": "https://localhost:8080/",
          "height": 627
        },
        "outputId": "0e47f3ab-4a41-407a-ce53-28f5a00c372b"
      },
      "source": [
        "#install hugging face transformer\n",
        "# the transformer library has big collection of pretrained models which can be references via name\n",
        "\n",
        "!pip install transformers"
      ],
      "execution_count": 2,
      "outputs": [
        {
          "output_type": "stream",
          "text": [
            "Collecting transformers\n",
            "\u001b[?25l  Downloading https://files.pythonhosted.org/packages/27/3c/91ed8f5c4e7ef3227b4119200fc0ed4b4fd965b1f0172021c25701087825/transformers-3.0.2-py3-none-any.whl (769kB)\n",
            "\r\u001b[K     |▍                               | 10kB 13.5MB/s eta 0:00:01\r\u001b[K     |▉                               | 20kB 1.7MB/s eta 0:00:01\r\u001b[K     |█▎                              | 30kB 2.2MB/s eta 0:00:01\r\u001b[K     |█▊                              | 40kB 2.5MB/s eta 0:00:01\r\u001b[K     |██▏                             | 51kB 2.0MB/s eta 0:00:01\r\u001b[K     |██▋                             | 61kB 2.3MB/s eta 0:00:01\r\u001b[K     |███                             | 71kB 2.5MB/s eta 0:00:01\r\u001b[K     |███▍                            | 81kB 2.7MB/s eta 0:00:01\r\u001b[K     |███▉                            | 92kB 2.9MB/s eta 0:00:01\r\u001b[K     |████▎                           | 102kB 2.8MB/s eta 0:00:01\r\u001b[K     |████▊                           | 112kB 2.8MB/s eta 0:00:01\r\u001b[K     |█████▏                          | 122kB 2.8MB/s eta 0:00:01\r\u001b[K     |█████▌                          | 133kB 2.8MB/s eta 0:00:01\r\u001b[K     |██████                          | 143kB 2.8MB/s eta 0:00:01\r\u001b[K     |██████▍                         | 153kB 2.8MB/s eta 0:00:01\r\u001b[K     |██████▉                         | 163kB 2.8MB/s eta 0:00:01\r\u001b[K     |███████▎                        | 174kB 2.8MB/s eta 0:00:01\r\u001b[K     |███████▊                        | 184kB 2.8MB/s eta 0:00:01\r\u001b[K     |████████                        | 194kB 2.8MB/s eta 0:00:01\r\u001b[K     |████████▌                       | 204kB 2.8MB/s eta 0:00:01\r\u001b[K     |█████████                       | 215kB 2.8MB/s eta 0:00:01\r\u001b[K     |█████████▍                      | 225kB 2.8MB/s eta 0:00:01\r\u001b[K     |█████████▉                      | 235kB 2.8MB/s eta 0:00:01\r\u001b[K     |██████████▎                     | 245kB 2.8MB/s eta 0:00:01\r\u001b[K     |██████████▋                     | 256kB 2.8MB/s eta 0:00:01\r\u001b[K     |███████████                     | 266kB 2.8MB/s eta 0:00:01\r\u001b[K     |███████████▌                    | 276kB 2.8MB/s eta 0:00:01\r\u001b[K     |████████████                    | 286kB 2.8MB/s eta 0:00:01\r\u001b[K     |████████████▍                   | 296kB 2.8MB/s eta 0:00:01\r\u001b[K     |████████████▉                   | 307kB 2.8MB/s eta 0:00:01\r\u001b[K     |█████████████▏                  | 317kB 2.8MB/s eta 0:00:01\r\u001b[K     |█████████████▋                  | 327kB 2.8MB/s eta 0:00:01\r\u001b[K     |██████████████                  | 337kB 2.8MB/s eta 0:00:01\r\u001b[K     |██████████████▌                 | 348kB 2.8MB/s eta 0:00:01\r\u001b[K     |███████████████                 | 358kB 2.8MB/s eta 0:00:01\r\u001b[K     |███████████████▍                | 368kB 2.8MB/s eta 0:00:01\r\u001b[K     |███████████████▊                | 378kB 2.8MB/s eta 0:00:01\r\u001b[K     |████████████████▏               | 389kB 2.8MB/s eta 0:00:01\r\u001b[K     |████████████████▋               | 399kB 2.8MB/s eta 0:00:01\r\u001b[K     |█████████████████               | 409kB 2.8MB/s eta 0:00:01\r\u001b[K     |█████████████████▌              | 419kB 2.8MB/s eta 0:00:01\r\u001b[K     |██████████████████              | 430kB 2.8MB/s eta 0:00:01\r\u001b[K     |██████████████████▎             | 440kB 2.8MB/s eta 0:00:01\r\u001b[K     |██████████████████▊             | 450kB 2.8MB/s eta 0:00:01\r\u001b[K     |███████████████████▏            | 460kB 2.8MB/s eta 0:00:01\r\u001b[K     |███████████████████▋            | 471kB 2.8MB/s eta 0:00:01\r\u001b[K     |████████████████████            | 481kB 2.8MB/s eta 0:00:01\r\u001b[K     |████████████████████▌           | 491kB 2.8MB/s eta 0:00:01\r\u001b[K     |████████████████████▉           | 501kB 2.8MB/s eta 0:00:01\r\u001b[K     |█████████████████████▎          | 512kB 2.8MB/s eta 0:00:01\r\u001b[K     |█████████████████████▊          | 522kB 2.8MB/s eta 0:00:01\r\u001b[K     |██████████████████████▏         | 532kB 2.8MB/s eta 0:00:01\r\u001b[K     |██████████████████████▋         | 542kB 2.8MB/s eta 0:00:01\r\u001b[K     |███████████████████████         | 552kB 2.8MB/s eta 0:00:01\r\u001b[K     |███████████████████████▍        | 563kB 2.8MB/s eta 0:00:01\r\u001b[K     |███████████████████████▉        | 573kB 2.8MB/s eta 0:00:01\r\u001b[K     |████████████████████████▎       | 583kB 2.8MB/s eta 0:00:01\r\u001b[K     |████████████████████████▊       | 593kB 2.8MB/s eta 0:00:01\r\u001b[K     |█████████████████████████▏      | 604kB 2.8MB/s eta 0:00:01\r\u001b[K     |█████████████████████████▋      | 614kB 2.8MB/s eta 0:00:01\r\u001b[K     |██████████████████████████      | 624kB 2.8MB/s eta 0:00:01\r\u001b[K     |██████████████████████████▍     | 634kB 2.8MB/s eta 0:00:01\r\u001b[K     |██████████████████████████▉     | 645kB 2.8MB/s eta 0:00:01\r\u001b[K     |███████████████████████████▎    | 655kB 2.8MB/s eta 0:00:01\r\u001b[K     |███████████████████████████▊    | 665kB 2.8MB/s eta 0:00:01\r\u001b[K     |████████████████████████████▏   | 675kB 2.8MB/s eta 0:00:01\r\u001b[K     |████████████████████████████▌   | 686kB 2.8MB/s eta 0:00:01\r\u001b[K     |█████████████████████████████   | 696kB 2.8MB/s eta 0:00:01\r\u001b[K     |█████████████████████████████▍  | 706kB 2.8MB/s eta 0:00:01\r\u001b[K     |█████████████████████████████▉  | 716kB 2.8MB/s eta 0:00:01\r\u001b[K     |██████████████████████████████▎ | 727kB 2.8MB/s eta 0:00:01\r\u001b[K     |██████████████████████████████▊ | 737kB 2.8MB/s eta 0:00:01\r\u001b[K     |███████████████████████████████ | 747kB 2.8MB/s eta 0:00:01\r\u001b[K     |███████████████████████████████▌| 757kB 2.8MB/s eta 0:00:01\r\u001b[K     |████████████████████████████████| 768kB 2.8MB/s eta 0:00:01\r\u001b[K     |████████████████████████████████| 778kB 2.8MB/s \n",
            "\u001b[?25hRequirement already satisfied: requests in /usr/local/lib/python3.6/dist-packages (from transformers) (2.23.0)\n",
            "Requirement already satisfied: packaging in /usr/local/lib/python3.6/dist-packages (from transformers) (20.4)\n",
            "Collecting tokenizers==0.8.1.rc1\n",
            "\u001b[?25l  Downloading https://files.pythonhosted.org/packages/40/d0/30d5f8d221a0ed981a186c8eb986ce1c94e3a6e87f994eae9f4aa5250217/tokenizers-0.8.1rc1-cp36-cp36m-manylinux1_x86_64.whl (3.0MB)\n",
            "\u001b[K     |████████████████████████████████| 3.0MB 16.5MB/s \n",
            "\u001b[?25hRequirement already satisfied: dataclasses; python_version < \"3.7\" in /usr/local/lib/python3.6/dist-packages (from transformers) (0.7)\n",
            "Requirement already satisfied: tqdm>=4.27 in /usr/local/lib/python3.6/dist-packages (from transformers) (4.41.1)\n",
            "Requirement already satisfied: filelock in /usr/local/lib/python3.6/dist-packages (from transformers) (3.0.12)\n",
            "Collecting sacremoses\n",
            "\u001b[?25l  Downloading https://files.pythonhosted.org/packages/7d/34/09d19aff26edcc8eb2a01bed8e98f13a1537005d31e95233fd48216eed10/sacremoses-0.0.43.tar.gz (883kB)\n",
            "\u001b[K     |████████████████████████████████| 890kB 28.9MB/s \n",
            "\u001b[?25hCollecting sentencepiece!=0.1.92\n",
            "\u001b[?25l  Downloading https://files.pythonhosted.org/packages/d4/a4/d0a884c4300004a78cca907a6ff9a5e9fe4f090f5d95ab341c53d28cbc58/sentencepiece-0.1.91-cp36-cp36m-manylinux1_x86_64.whl (1.1MB)\n",
            "\u001b[K     |████████████████████████████████| 1.1MB 41.5MB/s \n",
            "\u001b[?25hRequirement already satisfied: numpy in /usr/local/lib/python3.6/dist-packages (from transformers) (1.18.5)\n",
            "Requirement already satisfied: regex!=2019.12.17 in /usr/local/lib/python3.6/dist-packages (from transformers) (2019.12.20)\n",
            "Requirement already satisfied: idna<3,>=2.5 in /usr/local/lib/python3.6/dist-packages (from requests->transformers) (2.10)\n",
            "Requirement already satisfied: urllib3!=1.25.0,!=1.25.1,<1.26,>=1.21.1 in /usr/local/lib/python3.6/dist-packages (from requests->transformers) (1.24.3)\n",
            "Requirement already satisfied: certifi>=2017.4.17 in /usr/local/lib/python3.6/dist-packages (from requests->transformers) (2020.6.20)\n",
            "Requirement already satisfied: chardet<4,>=3.0.2 in /usr/local/lib/python3.6/dist-packages (from requests->transformers) (3.0.4)\n",
            "Requirement already satisfied: pyparsing>=2.0.2 in /usr/local/lib/python3.6/dist-packages (from packaging->transformers) (2.4.7)\n",
            "Requirement already satisfied: six in /usr/local/lib/python3.6/dist-packages (from packaging->transformers) (1.12.0)\n",
            "Requirement already satisfied: click in /usr/local/lib/python3.6/dist-packages (from sacremoses->transformers) (7.1.2)\n",
            "Requirement already satisfied: joblib in /usr/local/lib/python3.6/dist-packages (from sacremoses->transformers) (0.16.0)\n",
            "Building wheels for collected packages: sacremoses\n",
            "  Building wheel for sacremoses (setup.py) ... \u001b[?25l\u001b[?25hdone\n",
            "  Created wheel for sacremoses: filename=sacremoses-0.0.43-cp36-none-any.whl size=893260 sha256=316fe4454c0dcefa5dde5bcd900a02b2c931c07f59be38bc4373c6da85bf614f\n",
            "  Stored in directory: /root/.cache/pip/wheels/29/3c/fd/7ce5c3f0666dab31a50123635e6fb5e19ceb42ce38d4e58f45\n",
            "Successfully built sacremoses\n",
            "Installing collected packages: tokenizers, sacremoses, sentencepiece, transformers\n",
            "Successfully installed sacremoses-0.0.43 sentencepiece-0.1.91 tokenizers-0.8.1rc1 transformers-3.0.2\n"
          ],
          "name": "stdout"
        }
      ]
    },
    {
      "cell_type": "code",
      "metadata": {
        "id": "P3RlmgfD7IYM",
        "colab_type": "code",
        "colab": {}
      },
      "source": [
        "# to implement using pytorch\n",
        "\n",
        "import torch"
      ],
      "execution_count": 3,
      "outputs": []
    },
    {
      "cell_type": "code",
      "metadata": {
        "id": "2j7J1F5-7RwU",
        "colab_type": "code",
        "colab": {
          "base_uri": "https://localhost:8080/",
          "height": 116,
          "referenced_widgets": [
            "43092d8bdea740fc8323b98b1c10d470",
            "035910cca0a64bbfb8c2c2a0c490d864",
            "a58b6bc6f85140f684cdb7d1754dd159",
            "7c675a1873484180aa64401da387dedd",
            "e8760110c7894a45ae6b514d2bdc73b9",
            "1fd3dab3f13342c0a4091ff2690d8464",
            "e8370c343e9e4387aed22d4fe9b9ffc3",
            "0d7950a95caa42d9b6df194bc19dc2a2",
            "2701c8b069a3494ba0a5a29aba1e2542",
            "2b56fb5af3514a8c91d7310773c2033c",
            "72fcce39b2a24ff08033b4dc09510472",
            "c412f02379cc42deb97e211f5168fe58",
            "518d32c3b79540039cb11e005ec528f1",
            "0a033c42e7eb4b05bfa2694290f03591",
            "ec587356ae554dd5a07f5731498b8259",
            "7bf9b943e5e748b89a6a1634519e1068"
          ]
        },
        "outputId": "ef7c1e83-acd4-4a8a-f3e9-f8e0f3ce146f"
      },
      "source": [
        "# import specific class for Question and Answering\n",
        "\n",
        "from transformers import BertForQuestionAnswering\n",
        "model = BertForQuestionAnswering.from_pretrained('bert-large-uncased-whole-word-masking-finetuned-squad')"
      ],
      "execution_count": 4,
      "outputs": [
        {
          "output_type": "display_data",
          "data": {
            "application/vnd.jupyter.widget-view+json": {
              "model_id": "43092d8bdea740fc8323b98b1c10d470",
              "version_minor": 0,
              "version_major": 2
            },
            "text/plain": [
              "HBox(children=(FloatProgress(value=0.0, description='Downloading', max=443.0, style=ProgressStyle(description_…"
            ]
          },
          "metadata": {
            "tags": []
          }
        },
        {
          "output_type": "stream",
          "text": [
            "\n"
          ],
          "name": "stdout"
        },
        {
          "output_type": "display_data",
          "data": {
            "application/vnd.jupyter.widget-view+json": {
              "model_id": "2701c8b069a3494ba0a5a29aba1e2542",
              "version_minor": 0,
              "version_major": 2
            },
            "text/plain": [
              "HBox(children=(FloatProgress(value=0.0, description='Downloading', max=1340675298.0, style=ProgressStyle(descr…"
            ]
          },
          "metadata": {
            "tags": []
          }
        },
        {
          "output_type": "stream",
          "text": [
            "\n"
          ],
          "name": "stdout"
        }
      ]
    },
    {
      "cell_type": "markdown",
      "metadata": {
        "id": "ifKOSFlP9Guf",
        "colab_type": "text"
      },
      "source": [
        "Try asking a question"
      ]
    },
    {
      "cell_type": "code",
      "metadata": {
        "id": "O1xDye2C8KzL",
        "colab_type": "code",
        "colab": {}
      },
      "source": [
        "question = 'how many parametres does BERT-large have ?'\n",
        "answer_text = \"BERT-large is really big... it has 24-layers and an embedding size of 1,024, for a total of 340M parameters! Altogether it is 1.34GB, so expect it to take a couple minutes to download to your Colab instance.\""
      ],
      "execution_count": 5,
      "outputs": []
    },
    {
      "cell_type": "code",
      "metadata": {
        "id": "7F0aI9KF9lN7",
        "colab_type": "code",
        "colab": {
          "base_uri": "https://localhost:8080/",
          "height": 67,
          "referenced_widgets": [
            "c2dd178a9b8242b0a199174ce4240c45",
            "3071af02ddba49adbbbcb60fab2b4e82",
            "b2d2efa233c04711ae88519f7f16a3b3",
            "b8ea006b641f49eba9357b8e34af1c24",
            "80d50d5e9a4c4366abdff99ed643a4e7",
            "3ea3f98b6e5a48198c88366fb5cb8711",
            "051689b1650e49da851037bab446522c",
            "90e7d2264a7b4388a41e197b3b369017"
          ]
        },
        "outputId": "886e2543-7b16-41c3-f681-9b17b655bee2"
      },
      "source": [
        "# use a BERT tokenizer to tokenizer and encode the Q&A\n",
        "\n",
        "from transformers import BertTokenizer\n",
        "tokenizer = BertTokenizer.from_pretrained('bert-large-uncased-whole-word-masking-finetuned-squad')"
      ],
      "execution_count": 6,
      "outputs": [
        {
          "output_type": "display_data",
          "data": {
            "application/vnd.jupyter.widget-view+json": {
              "model_id": "c2dd178a9b8242b0a199174ce4240c45",
              "version_minor": 0,
              "version_major": 2
            },
            "text/plain": [
              "HBox(children=(FloatProgress(value=0.0, description='Downloading', max=231508.0, style=ProgressStyle(descripti…"
            ]
          },
          "metadata": {
            "tags": []
          }
        },
        {
          "output_type": "stream",
          "text": [
            "\n"
          ],
          "name": "stdout"
        }
      ]
    },
    {
      "cell_type": "code",
      "metadata": {
        "id": "BLSvx7VY_UIm",
        "colab_type": "code",
        "colab": {
          "base_uri": "https://localhost:8080/",
          "height": 35
        },
        "outputId": "bea8487c-d6e9-4537-89f8-19f83c0aacea"
      },
      "source": [
        "# apply the tokenizer to the input text and create them as question-answer pair\n",
        "\n",
        "input_ids = tokenizer.encode(question, answer_text)\n",
        "print('the input has {} number of tokens'.format(len(input_ids)))"
      ],
      "execution_count": 7,
      "outputs": [
        {
          "output_type": "stream",
          "text": [
            "the input has 72 number of tokens\n"
          ],
          "name": "stdout"
        }
      ]
    },
    {
      "cell_type": "markdown",
      "metadata": {
        "id": "XZs4D0Bg_756",
        "colab_type": "text"
      },
      "source": [
        "Print the tokens and their ids so that we can see what the tokenizer is actually doing"
      ]
    },
    {
      "cell_type": "code",
      "metadata": {
        "id": "OMzPUruNBTkF",
        "colab_type": "code",
        "colab": {
          "base_uri": "https://localhost:8080/",
          "height": 35
        },
        "outputId": "5111578f-5cea-41ac-bdcb-50cb6601418f"
      },
      "source": [
        "tokenizer.all_special_tokens"
      ],
      "execution_count": 8,
      "outputs": [
        {
          "output_type": "execute_result",
          "data": {
            "text/plain": [
              "['[UNK]', '[MASK]', '[PAD]', '[CLS]', '[SEP]']"
            ]
          },
          "metadata": {
            "tags": []
          },
          "execution_count": 8
        }
      ]
    },
    {
      "cell_type": "code",
      "metadata": {
        "id": "DVqlk_UGCCcM",
        "colab_type": "code",
        "colab": {
          "base_uri": "https://localhost:8080/",
          "height": 35
        },
        "outputId": "899ccc7f-da72-45af-94d2-c72a8107c812"
      },
      "source": [
        "tokenizer.cls_token_id"
      ],
      "execution_count": 9,
      "outputs": [
        {
          "output_type": "execute_result",
          "data": {
            "text/plain": [
              "101"
            ]
          },
          "metadata": {
            "tags": []
          },
          "execution_count": 9
        }
      ]
    },
    {
      "cell_type": "code",
      "metadata": {
        "id": "BQQdkTLC_wX5",
        "colab_type": "code",
        "colab": {
          "base_uri": "https://localhost:8080/",
          "height": 1000
        },
        "outputId": "5d9bdcb5-d00a-4582-d65a-dc02bc490499"
      },
      "source": [
        "# BERT only needs the token IDs, but for the purpose of inspecting the \n",
        "# tokenizer's behavior, let's also get the token strings and display them.\n",
        "tokens = tokenizer.convert_ids_to_tokens(input_ids)\n",
        "\n",
        "for token, id in zip(tokens, input_ids):\n",
        "\n",
        "    # if this is [CLS] or [SEP] token, make it stand out\n",
        "    if id == tokenizer.cls_token_id or id == tokenizer.sep_token_id:\n",
        "        print(\"\\n\")\n",
        "    \n",
        "    # for the rest print the token and the corresponding token id\n",
        "    print('{:<12} --> {:>6}'.format(token, id))"
      ],
      "execution_count": 10,
      "outputs": [
        {
          "output_type": "stream",
          "text": [
            "\n",
            "\n",
            "[CLS]        -->    101\n",
            "how          -->   2129\n",
            "many         -->   2116\n",
            "para         -->  11498\n",
            "##met        -->  11368\n",
            "##res        -->   6072\n",
            "does         -->   2515\n",
            "bert         -->  14324\n",
            "-            -->   1011\n",
            "large        -->   2312\n",
            "have         -->   2031\n",
            "?            -->   1029\n",
            "\n",
            "\n",
            "[SEP]        -->    102\n",
            "bert         -->  14324\n",
            "-            -->   1011\n",
            "large        -->   2312\n",
            "is           -->   2003\n",
            "really       -->   2428\n",
            "big          -->   2502\n",
            ".            -->   1012\n",
            ".            -->   1012\n",
            ".            -->   1012\n",
            "it           -->   2009\n",
            "has          -->   2038\n",
            "24           -->   2484\n",
            "-            -->   1011\n",
            "layers       -->   9014\n",
            "and          -->   1998\n",
            "an           -->   2019\n",
            "em           -->   7861\n",
            "##bed        -->   8270\n",
            "##ding       -->   4667\n",
            "size         -->   2946\n",
            "of           -->   1997\n",
            "1            -->   1015\n",
            ",            -->   1010\n",
            "02           -->   6185\n",
            "##4          -->   2549\n",
            ",            -->   1010\n",
            "for          -->   2005\n",
            "a            -->   1037\n",
            "total        -->   2561\n",
            "of           -->   1997\n",
            "340          -->  16029\n",
            "##m          -->   2213\n",
            "parameters   -->  11709\n",
            "!            -->    999\n",
            "altogether   -->  10462\n",
            "it           -->   2009\n",
            "is           -->   2003\n",
            "1            -->   1015\n",
            ".            -->   1012\n",
            "34           -->   4090\n",
            "##gb         -->  18259\n",
            ",            -->   1010\n",
            "so           -->   2061\n",
            "expect       -->   5987\n",
            "it           -->   2009\n",
            "to           -->   2000\n",
            "take         -->   2202\n",
            "a            -->   1037\n",
            "couple       -->   3232\n",
            "minutes      -->   2781\n",
            "to           -->   2000\n",
            "download     -->   8816\n",
            "to           -->   2000\n",
            "your         -->   2115\n",
            "cola         -->  15270\n",
            "##b          -->   2497\n",
            "instance     -->   6013\n",
            ".            -->   1012\n",
            "\n",
            "\n",
            "[SEP]        -->    102\n"
          ],
          "name": "stdout"
        }
      ]
    },
    {
      "cell_type": "markdown",
      "metadata": {
        "id": "RsLWKapIBvQV",
        "colab_type": "text"
      },
      "source": [
        "We've concatenated the question and answer_text together, but BERT still needs a way to distinguish them. BERT has two special **\"Segment\" embeddings**, one for segment \"A\" and one for segment \"B\". Before the word embeddings go into the BERT layers, the segment A embedding needs to be added to the question tokens, and the segment B embedding needs to be added to each of the answer_text tokens.\n",
        "\n",
        "These additions are handled for us by the transformer library, and all we need to do is specify a '0' or '1' for each token."
      ]
    },
    {
      "cell_type": "code",
      "metadata": {
        "id": "IRAd38v__2JL",
        "colab_type": "code",
        "colab": {}
      },
      "source": [
        "# Now lets create the Segment embeddings\n",
        "\n",
        "# first search the input_ids for the first instance of [SEP] token - this will give us the question\n",
        "# this gives the position of the first [SEP] token\n",
        "sep_index = input_ids.index(tokenizer.sep_token_id)\n",
        "\n",
        "# the number of segment A tokens should include the [SEP] token as well\n",
        "num_seg_a = sep_index + 1\n",
        "\n",
        "# So the remanining, which is for the answer text should belong to Segment B\n",
        "num_seg_b = len(input_ids) - num_seg_a\n",
        "\n",
        "# Fill the segments with 1's and 0's\n",
        "segment_ids = [0]*num_seg_a + [1]*num_seg_b\n",
        "\n",
        "# there should be now a segment id for every input token\n",
        "# check the lengths are same\n",
        "\n",
        "assert len(segment_ids)== len(input_ids)"
      ],
      "execution_count": 11,
      "outputs": []
    },
    {
      "cell_type": "markdown",
      "metadata": {
        "id": "ScT-zCOfH7MC",
        "colab_type": "text"
      },
      "source": [
        "Side Note: Where's the padding?\n",
        "\n",
        "The original example code does not perform any __padding__. I suspect that this is because we are only feeding in a single example. If we instead fed in a __batch of examples__, then we would need to __pad or truncate__ all of the samples in the batch to a single length, and supply an __attention mask__ to tell BERT to ignore the __padding tokens__."
      ]
    },
    {
      "cell_type": "code",
      "metadata": {
        "id": "fNJ_YP-rEliw",
        "colab_type": "code",
        "colab": {}
      },
      "source": [
        "# Run the example through the model\n",
        "\n",
        "start_scores, end_scores = model(torch.tensor([input_ids]), # the tokens representing out input text\n",
        "                                token_type_ids = torch.tensor([segment_ids])) # the segment ids to differentiate between question and text"
      ],
      "execution_count": 12,
      "outputs": []
    },
    {
      "cell_type": "code",
      "metadata": {
        "id": "Er6iANNsI85A",
        "colab_type": "code",
        "colab": {
          "base_uri": "https://localhost:8080/",
          "height": 35
        },
        "outputId": "9945dc23-9a93-4c05-bf82-bc3b317273e6"
      },
      "source": [
        "# find the token with the highest start and end scores\n",
        "\n",
        "answer_start = torch.argmax(start_scores)\n",
        "answer_end = torch.argmax(end_scores)\n",
        "\n",
        "# combine the tokens in the answer\n",
        "answer = ' '.join(tokens[answer_start: answer_end+2])\n",
        "\n",
        "print('Answer: ', answer)"
      ],
      "execution_count": 13,
      "outputs": [
        {
          "output_type": "stream",
          "text": [
            "Answer:  340 ##m\n"
          ],
          "name": "stdout"
        }
      ]
    },
    {
      "cell_type": "code",
      "metadata": {
        "id": "m371R6n8JmuA",
        "colab_type": "code",
        "colab": {
          "base_uri": "https://localhost:8080/",
          "height": 35
        },
        "outputId": "9be60014-0517-4d4f-ee0e-b16b441097e3"
      },
      "source": [
        "tokens[answer_end+1]"
      ],
      "execution_count": 14,
      "outputs": [
        {
          "output_type": "execute_result",
          "data": {
            "application/vnd.google.colaboratory.intrinsic": {
              "type": "string"
            },
            "text/plain": [
              "'##m'"
            ]
          },
          "metadata": {
            "tags": []
          },
          "execution_count": 14
        }
      ]
    },
    {
      "cell_type": "markdown",
      "metadata": {
        "id": "dzJ9J0DrMgQv",
        "colab_type": "text"
      },
      "source": [
        "With a little more effort, we can reconstruct any words that got broken down into subwords."
      ]
    },
    {
      "cell_type": "code",
      "metadata": {
        "id": "Ar6RBR_YL5r1",
        "colab_type": "code",
        "colab": {
          "base_uri": "https://localhost:8080/",
          "height": 35
        },
        "outputId": "a34c5688-11a6-405c-e5e0-47e93e635166"
      },
      "source": [
        "# start from the first token\n",
        "\n",
        "answer = tokens[answer_start]\n",
        "\n",
        "# now select the remaning tokens and join them with whitespace\n",
        "for i in range(answer_start + 1, answer_end + 2):\n",
        "  # if it is a subowrd token then combine with the previous token\n",
        "  if tokens[i][0:2] == \"##\":\n",
        "    answer += tokens[i][2:]\n",
        "  \n",
        "  # else if not a subword, then add a whitespace\n",
        "  else:\n",
        "    answer += ' ' + tokens[i]\n",
        "  \n",
        "  print(answer)"
      ],
      "execution_count": 15,
      "outputs": [
        {
          "output_type": "stream",
          "text": [
            "340m\n"
          ],
          "name": "stdout"
        }
      ]
    },
    {
      "cell_type": "markdown",
      "metadata": {
        "id": "RsYtvUP1ULSV",
        "colab_type": "text"
      },
      "source": [
        "Visualizing the scores"
      ]
    },
    {
      "cell_type": "code",
      "metadata": {
        "id": "W7NroMyhRii_",
        "colab_type": "code",
        "colab": {
          "base_uri": "https://localhost:8080/",
          "height": 72
        },
        "outputId": "09aa3887-8418-477e-8a18-c56cc5e05133"
      },
      "source": [
        "import matplotlib.pyplot as plt\n",
        "import seaborn as sns\n",
        "\n",
        "sns.set(style='darkgrid')\n",
        "\n",
        "# increase the font size in the plot\n",
        "plt.rcParams[\"figure.figsize\"] = (16,8)"
      ],
      "execution_count": 16,
      "outputs": [
        {
          "output_type": "stream",
          "text": [
            "/usr/local/lib/python3.6/dist-packages/statsmodels/tools/_testing.py:19: FutureWarning: pandas.util.testing is deprecated. Use the functions in the public API at pandas.testing instead.\n",
            "  import pandas.util.testing as tm\n"
          ],
          "name": "stderr"
        }
      ]
    },
    {
      "cell_type": "code",
      "metadata": {
        "id": "3-TMsTJNUyYE",
        "colab_type": "code",
        "colab": {}
      },
      "source": [
        "# Retrieve all the start_scores, end_scores and use the tokens on the x-axis\n",
        "\n",
        "# Pull the scores out of PyTorch Tensors and convert them to 1D numpy arrays\n",
        "s_scores = start_scores.detach().numpy().flatten()\n",
        "e_scores = end_scores.detach().numpy().flatten()\n",
        "\n",
        "# We'll use the tokens as the x-axis labels. In order to do that, they all need\n",
        "# to be unique, so we'll add the token index to the end of each one\n",
        "\n",
        "token_labels= []\n",
        "\n",
        "for (i, token) in enumerate(tokens):\n",
        "  token_labels.append('{:} - {:}'.format(token, i))"
      ],
      "execution_count": 17,
      "outputs": []
    },
    {
      "cell_type": "markdown",
      "metadata": {
        "id": "tx9Rjy_MX3ja",
        "colab_type": "text"
      },
      "source": [
        "Create a bar plot showing the score for every input word being the \"start\" word."
      ]
    },
    {
      "cell_type": "code",
      "metadata": {
        "id": "VUruUsmRWFI7",
        "colab_type": "code",
        "colab": {
          "base_uri": "https://localhost:8080/",
          "height": 580
        },
        "outputId": "9ca1fee8-b44a-41c8-819e-e082081a3df0"
      },
      "source": [
        "# create a barplot for the start scores\n",
        "\n",
        "ax = sns.barplot(x = token_labels, y = s_scores)\n",
        "\n",
        "# turn the xlabel vertical\n",
        "ax.set_xticklabels(rotation=90, labels = ax.get_xticklabels(), ha='center')\n",
        "\n",
        "# turn on vertical grid\n",
        "ax.grid(True)\n",
        "\n",
        "plt.title('Start word score for each of the input tokens')\n",
        "plt.show()"
      ],
      "execution_count": 18,
      "outputs": [
        {
          "output_type": "display_data",
          "data": {
            "image/png": "[encoded data removed]",
            "text/plain": [
              "<Figure size 1152x576 with 1 Axes>"
            ]
          },
          "metadata": {
            "tags": []
          }
        }
      ]
    },
    {
      "cell_type": "markdown",
      "metadata": {
        "id": "Mqewi5TrX62b",
        "colab_type": "text"
      },
      "source": [
        "Create a bar plot showing the score for every input word being the \"end\" word."
      ]
    },
    {
      "cell_type": "code",
      "metadata": {
        "id": "-PisL9HfWaHY",
        "colab_type": "code",
        "colab": {
          "base_uri": "https://localhost:8080/",
          "height": 580
        },
        "outputId": "1955be54-9eb8-4dce-82f3-fecf84a2480f"
      },
      "source": [
        "# for the end word, scores\n",
        "\n",
        "ax = sns.barplot(x = token_labels, y = e_scores)\n",
        "\n",
        "# set orientation to vertical\n",
        "\n",
        "ax.set_xticklabels(labels = ax.get_xticklabels(), rotation=90, ha='center')\n",
        "ax.grid(True)\n",
        "plt.title('End word scores for each of the input tokens')\n",
        "plt.show()"
      ],
      "execution_count": 19,
      "outputs": [
        {
          "output_type": "display_data",
          "data": {
            "image/png": "[encoded data removed]",
            "text/plain": [
              "<Figure size 1152x576 with 1 Axes>"
            ]
          },
          "metadata": {
            "tags": []
          }
        }
      ]
    },
    {
      "cell_type": "code",
      "metadata": {
        "id": "e7ZjHPJ_Ydot",
        "colab_type": "code",
        "colab": {}
      },
      "source": [
        "scores = []\n",
        "\n",
        "for (i, token_label) in enumerate(token_labels):\n",
        "  # we will create 2 rows for each token for start and end scores\n",
        "\n",
        "  scores.append({\n",
        "                  'token_label': token_label,\n",
        "                  'score': s_scores[i],\n",
        "                  'marker': 'start'\n",
        "              })\n",
        "  \n",
        "  scores.append({\n",
        "                  'token_label': token_label,\n",
        "                  'score': e_scores[i],\n",
        "                  'marker': 'end'\n",
        "                })\n",
        "  \n",
        "  import pandas as pd\n",
        "\n",
        "  # store the information into a df\n",
        "  df = pd.DataFrame(scores)"
      ],
      "execution_count": 20,
      "outputs": []
    },
    {
      "cell_type": "code",
      "metadata": {
        "id": "7QIyVcQ7dFbH",
        "colab_type": "code",
        "colab": {
          "base_uri": "https://localhost:8080/",
          "height": 355
        },
        "outputId": "5831bde4-d959-489e-aa64-ddad7177afd8"
      },
      "source": [
        "df.head(10)"
      ],
      "execution_count": 21,
      "outputs": [
        {
          "output_type": "execute_result",
          "data": {
            "text/html": [
              "<div>\n",
              "<style scoped>\n",
              "    .dataframe tbody tr th:only-of-type {\n",
              "        vertical-align: middle;\n",
              "    }\n",
              "\n",
              "    .dataframe tbody tr th {\n",
              "        vertical-align: top;\n",
              "    }\n",
              "\n",
              "    .dataframe thead th {\n",
              "        text-align: right;\n",
              "    }\n",
              "</style>\n",
              "<table border=\"1\" class=\"dataframe\">\n",
              "  <thead>\n",
              "    <tr style=\"text-align: right;\">\n",
              "      <th></th>\n",
              "      <th>token_label</th>\n",
              "      <th>score</th>\n",
              "      <th>marker</th>\n",
              "    </tr>\n",
              "  </thead>\n",
              "  <tbody>\n",
              "    <tr>\n",
              "      <th>0</th>\n",
              "      <td>[CLS] - 0</td>\n",
              "      <td>-6.478109</td>\n",
              "      <td>start</td>\n",
              "    </tr>\n",
              "    <tr>\n",
              "      <th>1</th>\n",
              "      <td>[CLS] - 0</td>\n",
              "      <td>-2.213068</td>\n",
              "      <td>end</td>\n",
              "    </tr>\n",
              "    <tr>\n",
              "      <th>2</th>\n",
              "      <td>how - 1</td>\n",
              "      <td>-6.962019</td>\n",
              "      <td>start</td>\n",
              "    </tr>\n",
              "    <tr>\n",
              "      <th>3</th>\n",
              "      <td>how - 1</td>\n",
              "      <td>-6.493917</td>\n",
              "      <td>end</td>\n",
              "    </tr>\n",
              "    <tr>\n",
              "      <th>4</th>\n",
              "      <td>many - 2</td>\n",
              "      <td>-8.177321</td>\n",
              "      <td>start</td>\n",
              "    </tr>\n",
              "    <tr>\n",
              "      <th>5</th>\n",
              "      <td>many - 2</td>\n",
              "      <td>-6.448602</td>\n",
              "      <td>end</td>\n",
              "    </tr>\n",
              "    <tr>\n",
              "      <th>6</th>\n",
              "      <td>para - 3</td>\n",
              "      <td>-7.970856</td>\n",
              "      <td>start</td>\n",
              "    </tr>\n",
              "    <tr>\n",
              "      <th>7</th>\n",
              "      <td>para - 3</td>\n",
              "      <td>-6.929966</td>\n",
              "      <td>end</td>\n",
              "    </tr>\n",
              "    <tr>\n",
              "      <th>8</th>\n",
              "      <td>##met - 4</td>\n",
              "      <td>-8.665893</td>\n",
              "      <td>start</td>\n",
              "    </tr>\n",
              "    <tr>\n",
              "      <th>9</th>\n",
              "      <td>##met - 4</td>\n",
              "      <td>-6.250424</td>\n",
              "      <td>end</td>\n",
              "    </tr>\n",
              "  </tbody>\n",
              "</table>\n",
              "</div>"
            ],
            "text/plain": [
              "  token_label     score marker\n",
              "0   [CLS] - 0 -6.478109  start\n",
              "1   [CLS] - 0 -2.213068    end\n",
              "2     how - 1 -6.962019  start\n",
              "3     how - 1 -6.493917    end\n",
              "4    many - 2 -8.177321  start\n",
              "5    many - 2 -6.448602    end\n",
              "6    para - 3 -7.970856  start\n",
              "7    para - 3 -6.929966    end\n",
              "8   ##met - 4 -8.665893  start\n",
              "9   ##met - 4 -6.250424    end"
            ]
          },
          "metadata": {
            "tags": []
          },
          "execution_count": 21
        }
      ]
    },
    {
      "cell_type": "code",
      "metadata": {
        "id": "bAnq8yZKaFw2",
        "colab_type": "code",
        "colab": {
          "base_uri": "https://localhost:8080/",
          "height": 377
        },
        "outputId": "65c7af18-5730-4bae-a24c-2076c57ff1f9"
      },
      "source": [
        "# plot the start and end score together in a single plot\n",
        "\n",
        "g = sns.catplot(x = 'token_label', y = 'score', hue='marker', data=df, kind='bar', height=7, aspect=4)\n",
        "\n",
        "g.ax.set_xticklabels(g.ax.get_xticklabels(), rotation=90, ha='center', fontsize=20)\n",
        "g.ax.grid(True)\n",
        "#plt.xticks(fontsize=20)\n",
        "plt.show()"
      ],
      "execution_count": 22,
      "outputs": [
        {
          "output_type": "display_data",
          "data": {
            "image/png": "[encoded data removed]",
            "text/plain": [
              "<Figure size 2081.47x504 with 1 Axes>"
            ]
          },
          "metadata": {
            "tags": []
          }
        }
      ]
    },
    {
      "cell_type": "markdown",
      "metadata": {
        "id": "9M3ZkrQAe_Jd",
        "colab_type": "text"
      },
      "source": [
        "## Turn the QA into a function"
      ]
    },
    {
      "cell_type": "code",
      "metadata": {
        "id": "i5Ejwrc2cB0n",
        "colab_type": "code",
        "colab": {}
      },
      "source": [
        "def answer_question(question, answer_text):\n",
        "\n",
        "  #===========Tokenize=============#\n",
        "  # apply the tokenizer to the input text, treating them as question, answer pair\n",
        "  input_ids =  tokenizer.encode(question, answer_text)\n",
        "\n",
        "  # Check how long is the input_ids or how many tokens exist\n",
        "  print('Query has {} tokens\\n'.format(len(input_ids)))\n",
        "\n",
        "  #==========Set Segmend ids=========#\n",
        "  # search the input_ids for the first instance of [SEP] token\n",
        "  # find the index\n",
        "  sep_index = input_ids.index(tokenizer.sep_token_id)\n",
        "\n",
        "  # the number of tokens belonging to Segment A also include the [SEP] token\n",
        "  num_seg_a = sep_index + 1\n",
        "\n",
        "  # the remaining belongs to Segment B\n",
        "  num_seg_b = len(input_ids) - num_seg_a\n",
        "\n",
        "  # Construct the segments with 1s and 0s\n",
        "  segment_ids = [0]*num_seg_a + [1]*num_seg_b\n",
        "\n",
        "  # there should be a segment_ids for every token\n",
        "  assert len(segment_ids) == len(input_ids)\n",
        "\n",
        "  # ========Evaluate the model===========#\n",
        "  # run the example question through the model\n",
        "\n",
        "  start_scores, end_scores = model(torch.tensor([input_ids]), token_type_ids = torch.tensor([segment_ids]))\n",
        "\n",
        "  #========Reconstruct Answer===========#\n",
        "  answer_start = torch.argmax(start_scores)\n",
        "  answer_end = torch.argmax(end_scores)\n",
        "\n",
        "  # get the string version of the input tokens\n",
        "  tokens = tokenizer.convert_ids_to_tokens(input_ids)\n",
        "\n",
        "  # answer starts with the first token\n",
        "  answer = tokens[answer_start]\n",
        "\n",
        "  # select the remaining answer tokens and join them with white space\n",
        "  for i in range(answer_start+1, answer_end+1):\n",
        "    # if it is sub-word, join them with the previous token\n",
        "    if tokens[i][0:2] == '##':\n",
        "      answer += tokens[i][2:]\n",
        "    else:\n",
        "      answer += \" \"+ tokens[i]\n",
        "\n",
        "  print('Answer:', answer)"
      ],
      "execution_count": 35,
      "outputs": []
    },
    {
      "cell_type": "markdown",
      "metadata": {
        "id": "qtnlKpoPQ-6d",
        "colab_type": "text"
      },
      "source": [
        "As our reference text, taking the Abstract of the [BERT paper](https://arxiv.org/pdf/1810.04805.pdf)."
      ]
    },
    {
      "cell_type": "code",
      "metadata": {
        "id": "Jef19ldrQHmn",
        "colab_type": "code",
        "colab": {}
      },
      "source": [
        "bert_abstract = \"We introduce a new language representation model called BERT, which stands for Bidirectional Encoder Representations from Transformers. Unlike recent language representation models (Peters et al., 2018a; Radford et al., 2018), BERT is designed to pretrain deep bidirectional representations from unlabeled text by jointly conditioning on both left and right context in all layers. As a result, the pre-trained BERT model can be finetuned with just one additional output layer to create state-of-the-art models for a wide range of tasks, such as question answering and language inference, without substantial taskspecific architecture modifications. BERT is conceptually simple and empirically powerful. It obtains new state-of-the-art results on eleven natural language processing tasks, including pushing the GLUE score to 80.5% (7.7% point absolute improvement), MultiNLI accuracy to 86.7% (4.6% absolute improvement), SQuAD v1.1 question answering Test F1 to 93.2 (1.5 point absolute improvement) and SQuAD v2.0 Test F1 to 83.1 (5.1 point absolute improvement).\"\n"
      ],
      "execution_count": 29,
      "outputs": []
    },
    {
      "cell_type": "code",
      "metadata": {
        "id": "xqRImnDZQqj1",
        "colab_type": "code",
        "colab": {
          "base_uri": "https://localhost:8080/",
          "height": 260
        },
        "outputId": "94440f78-66ea-44a3-9ca1-f38c5e20e496"
      },
      "source": [
        "# format the appearance of the text\n",
        "import textwrap\n",
        "\n",
        "# wrap text to 80 characters\n",
        "wrapper = textwrap.TextWrapper(width=80)\n",
        "\n",
        "print(wrapper.fill(bert_abstract))"
      ],
      "execution_count": 33,
      "outputs": [
        {
          "output_type": "stream",
          "text": [
            "We introduce a new language representation model called BERT, which stands for\n",
            "Bidirectional Encoder Representations from Transformers. Unlike recent language\n",
            "representation models (Peters et al., 2018a; Radford et al., 2018), BERT is\n",
            "designed to pretrain deep bidirectional representations from unlabeled text by\n",
            "jointly conditioning on both left and right context in all layers. As a result,\n",
            "the pre-trained BERT model can be finetuned with just one additional output\n",
            "layer to create state-of-the-art models for a wide range of tasks, such as\n",
            "question answering and language inference, without substantial taskspecific\n",
            "architecture modifications. BERT is conceptually simple and empirically\n",
            "powerful. It obtains new state-of-the-art results on eleven natural language\n",
            "processing tasks, including pushing the GLUE score to 80.5% (7.7% point absolute\n",
            "improvement), MultiNLI accuracy to 86.7% (4.6% absolute improvement), SQuAD v1.1\n",
            "question answering Test F1 to 93.2 (1.5 point absolute improvement) and SQuAD\n",
            "v2.0 Test F1 to 83.1 (5.1 point absolute improvement).\n"
          ],
          "name": "stdout"
        }
      ]
    },
    {
      "cell_type": "code",
      "metadata": {
        "id": "gNk8Qq1FRkph",
        "colab_type": "code",
        "colab": {
          "base_uri": "https://localhost:8080/",
          "height": 69
        },
        "outputId": "e0160fde-dae5-4a0c-bd40-551a3e5bbb6e"
      },
      "source": [
        "# Q.1 Ask the model whose does BERT stand for ?\n",
        "\n",
        "question = \"What does BERT stand for?\"\n",
        "\n",
        "answer_question(question, bert_abstract)"
      ],
      "execution_count": 36,
      "outputs": [
        {
          "output_type": "stream",
          "text": [
            "Query has 253 tokens\n",
            "\n",
            "Answer: bidirectional encoder representations from transformers\n"
          ],
          "name": "stdout"
        }
      ]
    },
    {
      "cell_type": "code",
      "metadata": {
        "id": "IAmFmItaR8nm",
        "colab_type": "code",
        "colab": {
          "base_uri": "https://localhost:8080/",
          "height": 69
        },
        "outputId": "adf3f79c-2a6e-4a07-f3a6-28b6682812d2"
      },
      "source": [
        "# Q.2\n",
        "question = \"What is the accuracy of the BERT model\"\n",
        "\n",
        "answer_question(question, bert_abstract)"
      ],
      "execution_count": 37,
      "outputs": [
        {
          "output_type": "stream",
          "text": [
            "Query has 255 tokens\n",
            "\n",
            "Answer: 86 . 7 %\n"
          ],
          "name": "stdout"
        }
      ]
    },
    {
      "cell_type": "code",
      "metadata": {
        "id": "uD8QQsLHS9Iv",
        "colab_type": "code",
        "colab": {
          "base_uri": "https://localhost:8080/",
          "height": 69
        },
        "outputId": "2b89cc7c-e9b9-4010-a9c9-b981c2502c60"
      },
      "source": [
        "# Q.3\n",
        "question = \"how can bert be fine-tuned?\"\n",
        "\n",
        "answer_question(question, bert_abstract)"
      ],
      "execution_count": 38,
      "outputs": [
        {
          "output_type": "stream",
          "text": [
            "Query has 255 tokens\n",
            "\n",
            "Answer: with just one additional output layer\n"
          ],
          "name": "stdout"
        }
      ]
    },
    {
      "cell_type": "code",
      "metadata": {
        "id": "Vg8NX1-XTM0n",
        "colab_type": "code",
        "colab": {
          "base_uri": "https://localhost:8080/",
          "height": 69
        },
        "outputId": "d5d7bbac-1de5-4254-e340-b409d5c13c6c"
      },
      "source": [
        "# Q.4\n",
        "question = \"Applications of the BERT model?\"\n",
        "\n",
        "answer_question(question, bert_abstract)"
      ],
      "execution_count": 41,
      "outputs": [
        {
          "output_type": "stream",
          "text": [
            "Query has 253 tokens\n",
            "\n",
            "Answer: question answering and language inference\n"
          ],
          "name": "stdout"
        }
      ]
    },
    {
      "cell_type": "code",
      "metadata": {
        "id": "6IC7OjZwTW3E",
        "colab_type": "code",
        "colab": {
          "base_uri": "https://localhost:8080/",
          "height": 69
        },
        "outputId": "e6003652-4a68-47d8-b9ba-5300f3d1eaa1"
      },
      "source": [
        "# Q.5\n",
        "question = \"What is the F1 score for SQuaDv1.1?\"\n",
        "\n",
        "answer_question(question, bert_abstract)"
      ],
      "execution_count": 43,
      "outputs": [
        {
          "output_type": "stream",
          "text": [
            "Query has 265 tokens\n",
            "\n",
            "Answer: 93 . 2\n"
          ],
          "name": "stdout"
        }
      ]
    },
    {
      "cell_type": "code",
      "metadata": {
        "id": "LPtEOSSWTvH9",
        "colab_type": "code",
        "colab": {
          "base_uri": "https://localhost:8080/",
          "height": 69
        },
        "outputId": "72f72a88-32e9-4204-a001-2b9661e559c3"
      },
      "source": [
        "# Q.6\n",
        "question = \"What is the F1 score for SQuaDv2.0?\"\n",
        "\n",
        "answer_question(question, bert_abstract)"
      ],
      "execution_count": 44,
      "outputs": [
        {
          "output_type": "stream",
          "text": [
            "Query has 259 tokens\n",
            "\n",
            "Answer: 83 . 1\n"
          ],
          "name": "stdout"
        }
      ]
    },
    {
      "cell_type": "code",
      "metadata": {
        "id": "v4JZ-RNnUAAy",
        "colab_type": "code",
        "colab": {}
      },
      "source": [
        ""
      ],
      "execution_count": null,
      "outputs": []
    }
  ]
}