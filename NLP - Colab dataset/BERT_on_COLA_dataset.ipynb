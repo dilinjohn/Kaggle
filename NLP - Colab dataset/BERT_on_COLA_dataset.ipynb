{
  "nbformat": 4,
  "nbformat_minor": 0,
  "metadata": {
    "colab": {
      "name": "BERT on COLA dataset.ipynb",
      "provenance": []
    },
    "kernelspec": {
      "name": "python3",
      "display_name": "Python 3"
    },
    "accelerator": "GPU",
    "widgets": {
      "application/vnd.jupyter.widget-state+json": {
        "85e09e40e69d422f9750e85da0174d6f": {
          "model_module": "@jupyter-widgets/controls",
          "model_name": "HBoxModel",
          "state": {
            "_view_name": "HBoxView",
            "_dom_classes": [],
            "_model_name": "HBoxModel",
            "_view_module": "@jupyter-widgets/controls",
            "_model_module_version": "1.5.0",
            "_view_count": null,
            "_view_module_version": "1.5.0",
            "box_style": "",
            "layout": "IPY_MODEL_fba5d113a7e142219c1cd2b53a0c5763",
            "_model_module": "@jupyter-widgets/controls",
            "children": [
              "IPY_MODEL_ed1ec3cdf3c14192ad05e50f4e397d5c",
              "IPY_MODEL_6e19ef189c2e4811b2a037b0dc103134"
            ]
          }
        },
        "fba5d113a7e142219c1cd2b53a0c5763": {
          "model_module": "@jupyter-widgets/base",
          "model_name": "LayoutModel",
          "state": {
            "_view_name": "LayoutView",
            "grid_template_rows": null,
            "right": null,
            "justify_content": null,
            "_view_module": "@jupyter-widgets/base",
            "overflow": null,
            "_model_module_version": "1.2.0",
            "_view_count": null,
            "flex_flow": null,
            "width": null,
            "min_width": null,
            "border": null,
            "align_items": null,
            "bottom": null,
            "_model_module": "@jupyter-widgets/base",
            "top": null,
            "grid_column": null,
            "overflow_y": null,
            "overflow_x": null,
            "grid_auto_flow": null,
            "grid_area": null,
            "grid_template_columns": null,
            "flex": null,
            "_model_name": "LayoutModel",
            "justify_items": null,
            "grid_row": null,
            "max_height": null,
            "align_content": null,
            "visibility": null,
            "align_self": null,
            "height": null,
            "min_height": null,
            "padding": null,
            "grid_auto_rows": null,
            "grid_gap": null,
            "max_width": null,
            "order": null,
            "_view_module_version": "1.2.0",
            "grid_template_areas": null,
            "object_position": null,
            "object_fit": null,
            "grid_auto_columns": null,
            "margin": null,
            "display": null,
            "left": null
          }
        },
        "ed1ec3cdf3c14192ad05e50f4e397d5c": {
          "model_module": "@jupyter-widgets/controls",
          "model_name": "FloatProgressModel",
          "state": {
            "_view_name": "ProgressView",
            "style": "IPY_MODEL_db643c86af78438881a31cb133f95cc7",
            "_dom_classes": [],
            "description": "Downloading: 100%",
            "_model_name": "FloatProgressModel",
            "bar_style": "success",
            "max": 231508,
            "_view_module": "@jupyter-widgets/controls",
            "_model_module_version": "1.5.0",
            "value": 231508,
            "_view_count": null,
            "_view_module_version": "1.5.0",
            "orientation": "horizontal",
            "min": 0,
            "description_tooltip": null,
            "_model_module": "@jupyter-widgets/controls",
            "layout": "IPY_MODEL_66e4d1c564dd4016837c6b196e0ee463"
          }
        },
        "6e19ef189c2e4811b2a037b0dc103134": {
          "model_module": "@jupyter-widgets/controls",
          "model_name": "HTMLModel",
          "state": {
            "_view_name": "HTMLView",
            "style": "IPY_MODEL_06f2c84bb48349398ab0f9c8bc824b0a",
            "_dom_classes": [],
            "description": "",
            "_model_name": "HTMLModel",
            "placeholder": "​",
            "_view_module": "@jupyter-widgets/controls",
            "_model_module_version": "1.5.0",
            "value": " 232k/232k [00:00&lt;00:00, 817kB/s]",
            "_view_count": null,
            "_view_module_version": "1.5.0",
            "description_tooltip": null,
            "_model_module": "@jupyter-widgets/controls",
            "layout": "IPY_MODEL_39284bc011ff4faf98a35794be5e3344"
          }
        },
        "db643c86af78438881a31cb133f95cc7": {
          "model_module": "@jupyter-widgets/controls",
          "model_name": "ProgressStyleModel",
          "state": {
            "_view_name": "StyleView",
            "_model_name": "ProgressStyleModel",
            "description_width": "initial",
            "_view_module": "@jupyter-widgets/base",
            "_model_module_version": "1.5.0",
            "_view_count": null,
            "_view_module_version": "1.2.0",
            "bar_color": null,
            "_model_module": "@jupyter-widgets/controls"
          }
        },
        "66e4d1c564dd4016837c6b196e0ee463": {
          "model_module": "@jupyter-widgets/base",
          "model_name": "LayoutModel",
          "state": {
            "_view_name": "LayoutView",
            "grid_template_rows": null,
            "right": null,
            "justify_content": null,
            "_view_module": "@jupyter-widgets/base",
            "overflow": null,
            "_model_module_version": "1.2.0",
            "_view_count": null,
            "flex_flow": null,
            "width": null,
            "min_width": null,
            "border": null,
            "align_items": null,
            "bottom": null,
            "_model_module": "@jupyter-widgets/base",
            "top": null,
            "grid_column": null,
            "overflow_y": null,
            "overflow_x": null,
            "grid_auto_flow": null,
            "grid_area": null,
            "grid_template_columns": null,
            "flex": null,
            "_model_name": "LayoutModel",
            "justify_items": null,
            "grid_row": null,
            "max_height": null,
            "align_content": null,
            "visibility": null,
            "align_self": null,
            "height": null,
            "min_height": null,
            "padding": null,
            "grid_auto_rows": null,
            "grid_gap": null,
            "max_width": null,
            "order": null,
            "_view_module_version": "1.2.0",
            "grid_template_areas": null,
            "object_position": null,
            "object_fit": null,
            "grid_auto_columns": null,
            "margin": null,
            "display": null,
            "left": null
          }
        },
        "06f2c84bb48349398ab0f9c8bc824b0a": {
          "model_module": "@jupyter-widgets/controls",
          "model_name": "DescriptionStyleModel",
          "state": {
            "_view_name": "StyleView",
            "_model_name": "DescriptionStyleModel",
            "description_width": "",
            "_view_module": "@jupyter-widgets/base",
            "_model_module_version": "1.5.0",
            "_view_count": null,
            "_view_module_version": "1.2.0",
            "_model_module": "@jupyter-widgets/controls"
          }
        },
        "39284bc011ff4faf98a35794be5e3344": {
          "model_module": "@jupyter-widgets/base",
          "model_name": "LayoutModel",
          "state": {
            "_view_name": "LayoutView",
            "grid_template_rows": null,
            "right": null,
            "justify_content": null,
            "_view_module": "@jupyter-widgets/base",
            "overflow": null,
            "_model_module_version": "1.2.0",
            "_view_count": null,
            "flex_flow": null,
            "width": null,
            "min_width": null,
            "border": null,
            "align_items": null,
            "bottom": null,
            "_model_module": "@jupyter-widgets/base",
            "top": null,
            "grid_column": null,
            "overflow_y": null,
            "overflow_x": null,
            "grid_auto_flow": null,
            "grid_area": null,
            "grid_template_columns": null,
            "flex": null,
            "_model_name": "LayoutModel",
            "justify_items": null,
            "grid_row": null,
            "max_height": null,
            "align_content": null,
            "visibility": null,
            "align_self": null,
            "height": null,
            "min_height": null,
            "padding": null,
            "grid_auto_rows": null,
            "grid_gap": null,
            "max_width": null,
            "order": null,
            "_view_module_version": "1.2.0",
            "grid_template_areas": null,
            "object_position": null,
            "object_fit": null,
            "grid_auto_columns": null,
            "margin": null,
            "display": null,
            "left": null
          }
        },
        "2f7283cda67e4235af19cece2a9e67ea": {
          "model_module": "@jupyter-widgets/controls",
          "model_name": "HBoxModel",
          "state": {
            "_view_name": "HBoxView",
            "_dom_classes": [],
            "_model_name": "HBoxModel",
            "_view_module": "@jupyter-widgets/controls",
            "_model_module_version": "1.5.0",
            "_view_count": null,
            "_view_module_version": "1.5.0",
            "box_style": "",
            "layout": "IPY_MODEL_c969212bb7db4c11a4d1259dc1c78476",
            "_model_module": "@jupyter-widgets/controls",
            "children": [
              "IPY_MODEL_77dbf8d14334431ea66abd41c6865e0f",
              "IPY_MODEL_9d5c22589beb436dabdf48c901bfb0ac"
            ]
          }
        },
        "c969212bb7db4c11a4d1259dc1c78476": {
          "model_module": "@jupyter-widgets/base",
          "model_name": "LayoutModel",
          "state": {
            "_view_name": "LayoutView",
            "grid_template_rows": null,
            "right": null,
            "justify_content": null,
            "_view_module": "@jupyter-widgets/base",
            "overflow": null,
            "_model_module_version": "1.2.0",
            "_view_count": null,
            "flex_flow": null,
            "width": null,
            "min_width": null,
            "border": null,
            "align_items": null,
            "bottom": null,
            "_model_module": "@jupyter-widgets/base",
            "top": null,
            "grid_column": null,
            "overflow_y": null,
            "overflow_x": null,
            "grid_auto_flow": null,
            "grid_area": null,
            "grid_template_columns": null,
            "flex": null,
            "_model_name": "LayoutModel",
            "justify_items": null,
            "grid_row": null,
            "max_height": null,
            "align_content": null,
            "visibility": null,
            "align_self": null,
            "height": null,
            "min_height": null,
            "padding": null,
            "grid_auto_rows": null,
            "grid_gap": null,
            "max_width": null,
            "order": null,
            "_view_module_version": "1.2.0",
            "grid_template_areas": null,
            "object_position": null,
            "object_fit": null,
            "grid_auto_columns": null,
            "margin": null,
            "display": null,
            "left": null
          }
        },
        "77dbf8d14334431ea66abd41c6865e0f": {
          "model_module": "@jupyter-widgets/controls",
          "model_name": "FloatProgressModel",
          "state": {
            "_view_name": "ProgressView",
            "style": "IPY_MODEL_4e53092ff6c949599169f5901832b885",
            "_dom_classes": [],
            "description": "Downloading: 100%",
            "_model_name": "FloatProgressModel",
            "bar_style": "success",
            "max": 433,
            "_view_module": "@jupyter-widgets/controls",
            "_model_module_version": "1.5.0",
            "value": 433,
            "_view_count": null,
            "_view_module_version": "1.5.0",
            "orientation": "horizontal",
            "min": 0,
            "description_tooltip": null,
            "_model_module": "@jupyter-widgets/controls",
            "layout": "IPY_MODEL_1ff639a7298e4cdd9d566fab314b5015"
          }
        },
        "9d5c22589beb436dabdf48c901bfb0ac": {
          "model_module": "@jupyter-widgets/controls",
          "model_name": "HTMLModel",
          "state": {
            "_view_name": "HTMLView",
            "style": "IPY_MODEL_6a71d6c4be80439dbd0c3c8f12dee37b",
            "_dom_classes": [],
            "description": "",
            "_model_name": "HTMLModel",
            "placeholder": "​",
            "_view_module": "@jupyter-widgets/controls",
            "_model_module_version": "1.5.0",
            "value": " 433/433 [00:00&lt;00:00, 2.87kB/s]",
            "_view_count": null,
            "_view_module_version": "1.5.0",
            "description_tooltip": null,
            "_model_module": "@jupyter-widgets/controls",
            "layout": "IPY_MODEL_fa1cb8d19dcc438a87d365537d79c7fa"
          }
        },
        "4e53092ff6c949599169f5901832b885": {
          "model_module": "@jupyter-widgets/controls",
          "model_name": "ProgressStyleModel",
          "state": {
            "_view_name": "StyleView",
            "_model_name": "ProgressStyleModel",
            "description_width": "initial",
            "_view_module": "@jupyter-widgets/base",
            "_model_module_version": "1.5.0",
            "_view_count": null,
            "_view_module_version": "1.2.0",
            "bar_color": null,
            "_model_module": "@jupyter-widgets/controls"
          }
        },
        "1ff639a7298e4cdd9d566fab314b5015": {
          "model_module": "@jupyter-widgets/base",
          "model_name": "LayoutModel",
          "state": {
            "_view_name": "LayoutView",
            "grid_template_rows": null,
            "right": null,
            "justify_content": null,
            "_view_module": "@jupyter-widgets/base",
            "overflow": null,
            "_model_module_version": "1.2.0",
            "_view_count": null,
            "flex_flow": null,
            "width": null,
            "min_width": null,
            "border": null,
            "align_items": null,
            "bottom": null,
            "_model_module": "@jupyter-widgets/base",
            "top": null,
            "grid_column": null,
            "overflow_y": null,
            "overflow_x": null,
            "grid_auto_flow": null,
            "grid_area": null,
            "grid_template_columns": null,
            "flex": null,
            "_model_name": "LayoutModel",
            "justify_items": null,
            "grid_row": null,
            "max_height": null,
            "align_content": null,
            "visibility": null,
            "align_self": null,
            "height": null,
            "min_height": null,
            "padding": null,
            "grid_auto_rows": null,
            "grid_gap": null,
            "max_width": null,
            "order": null,
            "_view_module_version": "1.2.0",
            "grid_template_areas": null,
            "object_position": null,
            "object_fit": null,
            "grid_auto_columns": null,
            "margin": null,
            "display": null,
            "left": null
          }
        },
        "6a71d6c4be80439dbd0c3c8f12dee37b": {
          "model_module": "@jupyter-widgets/controls",
          "model_name": "DescriptionStyleModel",
          "state": {
            "_view_name": "StyleView",
            "_model_name": "DescriptionStyleModel",
            "description_width": "",
            "_view_module": "@jupyter-widgets/base",
            "_model_module_version": "1.5.0",
            "_view_count": null,
            "_view_module_version": "1.2.0",
            "_model_module": "@jupyter-widgets/controls"
          }
        },
        "fa1cb8d19dcc438a87d365537d79c7fa": {
          "model_module": "@jupyter-widgets/base",
          "model_name": "LayoutModel",
          "state": {
            "_view_name": "LayoutView",
            "grid_template_rows": null,
            "right": null,
            "justify_content": null,
            "_view_module": "@jupyter-widgets/base",
            "overflow": null,
            "_model_module_version": "1.2.0",
            "_view_count": null,
            "flex_flow": null,
            "width": null,
            "min_width": null,
            "border": null,
            "align_items": null,
            "bottom": null,
            "_model_module": "@jupyter-widgets/base",
            "top": null,
            "grid_column": null,
            "overflow_y": null,
            "overflow_x": null,
            "grid_auto_flow": null,
            "grid_area": null,
            "grid_template_columns": null,
            "flex": null,
            "_model_name": "LayoutModel",
            "justify_items": null,
            "grid_row": null,
            "max_height": null,
            "align_content": null,
            "visibility": null,
            "align_self": null,
            "height": null,
            "min_height": null,
            "padding": null,
            "grid_auto_rows": null,
            "grid_gap": null,
            "max_width": null,
            "order": null,
            "_view_module_version": "1.2.0",
            "grid_template_areas": null,
            "object_position": null,
            "object_fit": null,
            "grid_auto_columns": null,
            "margin": null,
            "display": null,
            "left": null
          }
        },
        "cac7cf493ca84dcba55619d647f2f0af": {
          "model_module": "@jupyter-widgets/controls",
          "model_name": "HBoxModel",
          "state": {
            "_view_name": "HBoxView",
            "_dom_classes": [],
            "_model_name": "HBoxModel",
            "_view_module": "@jupyter-widgets/controls",
            "_model_module_version": "1.5.0",
            "_view_count": null,
            "_view_module_version": "1.5.0",
            "box_style": "",
            "layout": "IPY_MODEL_0a2913ffa61b45e699fe56d1518e454c",
            "_model_module": "@jupyter-widgets/controls",
            "children": [
              "IPY_MODEL_a3f28798584d4a95894c63766f384aa5",
              "IPY_MODEL_05950e16f47c4500868e303eaa03ad28"
            ]
          }
        },
        "0a2913ffa61b45e699fe56d1518e454c": {
          "model_module": "@jupyter-widgets/base",
          "model_name": "LayoutModel",
          "state": {
            "_view_name": "LayoutView",
            "grid_template_rows": null,
            "right": null,
            "justify_content": null,
            "_view_module": "@jupyter-widgets/base",
            "overflow": null,
            "_model_module_version": "1.2.0",
            "_view_count": null,
            "flex_flow": null,
            "width": null,
            "min_width": null,
            "border": null,
            "align_items": null,
            "bottom": null,
            "_model_module": "@jupyter-widgets/base",
            "top": null,
            "grid_column": null,
            "overflow_y": null,
            "overflow_x": null,
            "grid_auto_flow": null,
            "grid_area": null,
            "grid_template_columns": null,
            "flex": null,
            "_model_name": "LayoutModel",
            "justify_items": null,
            "grid_row": null,
            "max_height": null,
            "align_content": null,
            "visibility": null,
            "align_self": null,
            "height": null,
            "min_height": null,
            "padding": null,
            "grid_auto_rows": null,
            "grid_gap": null,
            "max_width": null,
            "order": null,
            "_view_module_version": "1.2.0",
            "grid_template_areas": null,
            "object_position": null,
            "object_fit": null,
            "grid_auto_columns": null,
            "margin": null,
            "display": null,
            "left": null
          }
        },
        "a3f28798584d4a95894c63766f384aa5": {
          "model_module": "@jupyter-widgets/controls",
          "model_name": "FloatProgressModel",
          "state": {
            "_view_name": "ProgressView",
            "style": "IPY_MODEL_4d91a3ffd32e4bfea197224e110674ca",
            "_dom_classes": [],
            "description": "Downloading: 100%",
            "_model_name": "FloatProgressModel",
            "bar_style": "success",
            "max": 440473133,
            "_view_module": "@jupyter-widgets/controls",
            "_model_module_version": "1.5.0",
            "value": 440473133,
            "_view_count": null,
            "_view_module_version": "1.5.0",
            "orientation": "horizontal",
            "min": 0,
            "description_tooltip": null,
            "_model_module": "@jupyter-widgets/controls",
            "layout": "IPY_MODEL_95d7e5901f804254bbb0cb78408db546"
          }
        },
        "05950e16f47c4500868e303eaa03ad28": {
          "model_module": "@jupyter-widgets/controls",
          "model_name": "HTMLModel",
          "state": {
            "_view_name": "HTMLView",
            "style": "IPY_MODEL_5f1a4e39940a4ba6b428baa4f74bcf8c",
            "_dom_classes": [],
            "description": "",
            "_model_name": "HTMLModel",
            "placeholder": "​",
            "_view_module": "@jupyter-widgets/controls",
            "_model_module_version": "1.5.0",
            "value": " 440M/440M [00:21&lt;00:00, 20.4MB/s]",
            "_view_count": null,
            "_view_module_version": "1.5.0",
            "description_tooltip": null,
            "_model_module": "@jupyter-widgets/controls",
            "layout": "IPY_MODEL_4370c3a553094842927eb3e4ea975cf3"
          }
        },
        "4d91a3ffd32e4bfea197224e110674ca": {
          "model_module": "@jupyter-widgets/controls",
          "model_name": "ProgressStyleModel",
          "state": {
            "_view_name": "StyleView",
            "_model_name": "ProgressStyleModel",
            "description_width": "initial",
            "_view_module": "@jupyter-widgets/base",
            "_model_module_version": "1.5.0",
            "_view_count": null,
            "_view_module_version": "1.2.0",
            "bar_color": null,
            "_model_module": "@jupyter-widgets/controls"
          }
        },
        "95d7e5901f804254bbb0cb78408db546": {
          "model_module": "@jupyter-widgets/base",
          "model_name": "LayoutModel",
          "state": {
            "_view_name": "LayoutView",
            "grid_template_rows": null,
            "right": null,
            "justify_content": null,
            "_view_module": "@jupyter-widgets/base",
            "overflow": null,
            "_model_module_version": "1.2.0",
            "_view_count": null,
            "flex_flow": null,
            "width": null,
            "min_width": null,
            "border": null,
            "align_items": null,
            "bottom": null,
            "_model_module": "@jupyter-widgets/base",
            "top": null,
            "grid_column": null,
            "overflow_y": null,
            "overflow_x": null,
            "grid_auto_flow": null,
            "grid_area": null,
            "grid_template_columns": null,
            "flex": null,
            "_model_name": "LayoutModel",
            "justify_items": null,
            "grid_row": null,
            "max_height": null,
            "align_content": null,
            "visibility": null,
            "align_self": null,
            "height": null,
            "min_height": null,
            "padding": null,
            "grid_auto_rows": null,
            "grid_gap": null,
            "max_width": null,
            "order": null,
            "_view_module_version": "1.2.0",
            "grid_template_areas": null,
            "object_position": null,
            "object_fit": null,
            "grid_auto_columns": null,
            "margin": null,
            "display": null,
            "left": null
          }
        },
        "5f1a4e39940a4ba6b428baa4f74bcf8c": {
          "model_module": "@jupyter-widgets/controls",
          "model_name": "DescriptionStyleModel",
          "state": {
            "_view_name": "StyleView",
            "_model_name": "DescriptionStyleModel",
            "description_width": "",
            "_view_module": "@jupyter-widgets/base",
            "_model_module_version": "1.5.0",
            "_view_count": null,
            "_view_module_version": "1.2.0",
            "_model_module": "@jupyter-widgets/controls"
          }
        },
        "4370c3a553094842927eb3e4ea975cf3": {
          "model_module": "@jupyter-widgets/base",
          "model_name": "LayoutModel",
          "state": {
            "_view_name": "LayoutView",
            "grid_template_rows": null,
            "right": null,
            "justify_content": null,
            "_view_module": "@jupyter-widgets/base",
            "overflow": null,
            "_model_module_version": "1.2.0",
            "_view_count": null,
            "flex_flow": null,
            "width": null,
            "min_width": null,
            "border": null,
            "align_items": null,
            "bottom": null,
            "_model_module": "@jupyter-widgets/base",
            "top": null,
            "grid_column": null,
            "overflow_y": null,
            "overflow_x": null,
            "grid_auto_flow": null,
            "grid_area": null,
            "grid_template_columns": null,
            "flex": null,
            "_model_name": "LayoutModel",
            "justify_items": null,
            "grid_row": null,
            "max_height": null,
            "align_content": null,
            "visibility": null,
            "align_self": null,
            "height": null,
            "min_height": null,
            "padding": null,
            "grid_auto_rows": null,
            "grid_gap": null,
            "max_width": null,
            "order": null,
            "_view_module_version": "1.2.0",
            "grid_template_areas": null,
            "object_position": null,
            "object_fit": null,
            "grid_auto_columns": null,
            "margin": null,
            "display": null,
            "left": null
          }
        }
      }
    }
  },
  "cells": [
    {
      "cell_type": "code",
      "metadata": {
        "id": "sc6x4l38hCUH",
        "colab_type": "code",
        "outputId": "b0da2e39-3f1e-49d5-d923-5e4b676e8cc7",
        "colab": {
          "base_uri": "https://localhost:8080/",
          "height": 34
        }
      },
      "source": [
        "import tensorflow as tf\n",
        "\n",
        "# get the GPU device\n",
        "device_name = tf.test.gpu_device_name()\n",
        "\n",
        "if device_name == '/device:GPU:0':\n",
        "  print('Found GPU at: {}'.format(device_name))\n",
        "else:\n",
        "  print('No GPU found')"
      ],
      "execution_count": 1,
      "outputs": [
        {
          "output_type": "stream",
          "text": [
            "Found GPU at: /device:GPU:0\n"
          ],
          "name": "stdout"
        }
      ]
    },
    {
      "cell_type": "code",
      "metadata": {
        "id": "qjGtB8rShMR3",
        "colab_type": "code",
        "outputId": "2b7e21a4-8d95-495f-ef7f-cc5249d0b14f",
        "colab": {
          "base_uri": "https://localhost:8080/",
          "height": 52
        }
      },
      "source": [
        "import torch\n",
        "\n",
        "if torch.cuda.is_available():\n",
        "\n",
        "  # tell PyTorch to use the GPU\n",
        "  device = torch.device('cuda')\n",
        "\n",
        "  print(\"There are %d GPUs available\" %torch.cuda.device_count())\n",
        "  print('Use GPU:', torch.cuda.get_device_name(0))"
      ],
      "execution_count": 2,
      "outputs": [
        {
          "output_type": "stream",
          "text": [
            "There are 1 GPUs available\n",
            "Use GPU: Tesla P100-PCIE-16GB\n"
          ],
          "name": "stdout"
        }
      ]
    },
    {
      "cell_type": "code",
      "metadata": {
        "id": "Jp8JoPnGi41g",
        "colab_type": "code",
        "outputId": "f55d1894-0bdf-445e-e2af-e46f7466db77",
        "colab": {
          "base_uri": "https://localhost:8080/",
          "height": 599
        }
      },
      "source": [
        "! pip install Transformers"
      ],
      "execution_count": 3,
      "outputs": [
        {
          "output_type": "stream",
          "text": [
            "Collecting Transformers\n",
            "\u001b[?25l  Downloading https://files.pythonhosted.org/packages/22/97/7db72a0beef1825f82188a4b923e62a146271ac2ced7928baa4d47ef2467/transformers-2.9.1-py3-none-any.whl (641kB)\n",
            "\r\u001b[K     |▌                               | 10kB 28.6MB/s eta 0:00:01\r\u001b[K     |█                               | 20kB 6.3MB/s eta 0:00:01\r\u001b[K     |█▌                              | 30kB 7.6MB/s eta 0:00:01\r\u001b[K     |██                              | 40kB 8.1MB/s eta 0:00:01\r\u001b[K     |██▌                             | 51kB 7.2MB/s eta 0:00:01\r\u001b[K     |███                             | 61kB 8.2MB/s eta 0:00:01\r\u001b[K     |███▋                            | 71kB 8.5MB/s eta 0:00:01\r\u001b[K     |████                            | 81kB 8.9MB/s eta 0:00:01\r\u001b[K     |████▋                           | 92kB 9.0MB/s eta 0:00:01\r\u001b[K     |█████                           | 102kB 9.5MB/s eta 0:00:01\r\u001b[K     |█████▋                          | 112kB 9.5MB/s eta 0:00:01\r\u001b[K     |██████▏                         | 122kB 9.5MB/s eta 0:00:01\r\u001b[K     |██████▋                         | 133kB 9.5MB/s eta 0:00:01\r\u001b[K     |███████▏                        | 143kB 9.5MB/s eta 0:00:01\r\u001b[K     |███████▋                        | 153kB 9.5MB/s eta 0:00:01\r\u001b[K     |████████▏                       | 163kB 9.5MB/s eta 0:00:01\r\u001b[K     |████████▊                       | 174kB 9.5MB/s eta 0:00:01\r\u001b[K     |█████████▏                      | 184kB 9.5MB/s eta 0:00:01\r\u001b[K     |█████████▊                      | 194kB 9.5MB/s eta 0:00:01\r\u001b[K     |██████████▏                     | 204kB 9.5MB/s eta 0:00:01\r\u001b[K     |██████████▊                     | 215kB 9.5MB/s eta 0:00:01\r\u001b[K     |███████████▎                    | 225kB 9.5MB/s eta 0:00:01\r\u001b[K     |███████████▊                    | 235kB 9.5MB/s eta 0:00:01\r\u001b[K     |████████████▎                   | 245kB 9.5MB/s eta 0:00:01\r\u001b[K     |████████████▊                   | 256kB 9.5MB/s eta 0:00:01\r\u001b[K     |█████████████▎                  | 266kB 9.5MB/s eta 0:00:01\r\u001b[K     |█████████████▉                  | 276kB 9.5MB/s eta 0:00:01\r\u001b[K     |██████████████▎                 | 286kB 9.5MB/s eta 0:00:01\r\u001b[K     |██████████████▉                 | 296kB 9.5MB/s eta 0:00:01\r\u001b[K     |███████████████▎                | 307kB 9.5MB/s eta 0:00:01\r\u001b[K     |███████████████▉                | 317kB 9.5MB/s eta 0:00:01\r\u001b[K     |████████████████▍               | 327kB 9.5MB/s eta 0:00:01\r\u001b[K     |████████████████▉               | 337kB 9.5MB/s eta 0:00:01\r\u001b[K     |█████████████████▍              | 348kB 9.5MB/s eta 0:00:01\r\u001b[K     |█████████████████▉              | 358kB 9.5MB/s eta 0:00:01\r\u001b[K     |██████████████████▍             | 368kB 9.5MB/s eta 0:00:01\r\u001b[K     |███████████████████             | 378kB 9.5MB/s eta 0:00:01\r\u001b[K     |███████████████████▍            | 389kB 9.5MB/s eta 0:00:01\r\u001b[K     |████████████████████            | 399kB 9.5MB/s eta 0:00:01\r\u001b[K     |████████████████████▍           | 409kB 9.5MB/s eta 0:00:01\r\u001b[K     |█████████████████████           | 419kB 9.5MB/s eta 0:00:01\r\u001b[K     |█████████████████████▍          | 430kB 9.5MB/s eta 0:00:01\r\u001b[K     |██████████████████████          | 440kB 9.5MB/s eta 0:00:01\r\u001b[K     |██████████████████████▌         | 450kB 9.5MB/s eta 0:00:01\r\u001b[K     |███████████████████████         | 460kB 9.5MB/s eta 0:00:01\r\u001b[K     |███████████████████████▌        | 471kB 9.5MB/s eta 0:00:01\r\u001b[K     |████████████████████████        | 481kB 9.5MB/s eta 0:00:01\r\u001b[K     |████████████████████████▌       | 491kB 9.5MB/s eta 0:00:01\r\u001b[K     |█████████████████████████       | 501kB 9.5MB/s eta 0:00:01\r\u001b[K     |█████████████████████████▌      | 512kB 9.5MB/s eta 0:00:01\r\u001b[K     |██████████████████████████      | 522kB 9.5MB/s eta 0:00:01\r\u001b[K     |██████████████████████████▌     | 532kB 9.5MB/s eta 0:00:01\r\u001b[K     |███████████████████████████     | 542kB 9.5MB/s eta 0:00:01\r\u001b[K     |███████████████████████████▋    | 552kB 9.5MB/s eta 0:00:01\r\u001b[K     |████████████████████████████    | 563kB 9.5MB/s eta 0:00:01\r\u001b[K     |████████████████████████████▋   | 573kB 9.5MB/s eta 0:00:01\r\u001b[K     |█████████████████████████████   | 583kB 9.5MB/s eta 0:00:01\r\u001b[K     |█████████████████████████████▋  | 593kB 9.5MB/s eta 0:00:01\r\u001b[K     |██████████████████████████████▏ | 604kB 9.5MB/s eta 0:00:01\r\u001b[K     |██████████████████████████████▋ | 614kB 9.5MB/s eta 0:00:01\r\u001b[K     |███████████████████████████████▏| 624kB 9.5MB/s eta 0:00:01\r\u001b[K     |███████████████████████████████▋| 634kB 9.5MB/s eta 0:00:01\r\u001b[K     |████████████████████████████████| 645kB 9.5MB/s \n",
            "\u001b[?25hCollecting sentencepiece\n",
            "\u001b[?25l  Downloading https://files.pythonhosted.org/packages/3b/88/49e772d686088e1278766ad68a463513642a2a877487decbd691dec02955/sentencepiece-0.1.90-cp36-cp36m-manylinux1_x86_64.whl (1.1MB)\n",
            "\r\u001b[K     |▎                               | 10kB 24.7MB/s eta 0:00:01\r\u001b[K     |▋                               | 20kB 31.1MB/s eta 0:00:01\r\u001b[K     |█                               | 30kB 38.5MB/s eta 0:00:01\r\u001b[K     |█▎                              | 40kB 43.9MB/s eta 0:00:01\r\u001b[K     |█▌                              | 51kB 46.5MB/s eta 0:00:01\r\u001b[K     |█▉                              | 61kB 49.5MB/s eta 0:00:01\r\u001b[K     |██▏                             | 71kB 50.5MB/s eta 0:00:01\r\u001b[K     |██▌                             | 81kB 50.8MB/s eta 0:00:01\r\u001b[K     |██▊                             | 92kB 52.5MB/s eta 0:00:01\r\u001b[K     |███                             | 102kB 31.8MB/s eta 0:00:01\r\u001b[K     |███▍                            | 112kB 31.8MB/s eta 0:00:01\r\u001b[K     |███▊                            | 122kB 31.8MB/s eta 0:00:01\r\u001b[K     |████                            | 133kB 31.8MB/s eta 0:00:01\r\u001b[K     |████▎                           | 143kB 31.8MB/s eta 0:00:01\r\u001b[K     |████▋                           | 153kB 31.8MB/s eta 0:00:01\r\u001b[K     |█████                           | 163kB 31.8MB/s eta 0:00:01\r\u001b[K     |█████▏                          | 174kB 31.8MB/s eta 0:00:01\r\u001b[K     |█████▌                          | 184kB 31.8MB/s eta 0:00:01\r\u001b[K     |█████▉                          | 194kB 31.8MB/s eta 0:00:01\r\u001b[K     |██████▏                         | 204kB 31.8MB/s eta 0:00:01\r\u001b[K     |██████▍                         | 215kB 31.8MB/s eta 0:00:01\r\u001b[K     |██████▊                         | 225kB 31.8MB/s eta 0:00:01\r\u001b[K     |███████                         | 235kB 31.8MB/s eta 0:00:01\r\u001b[K     |███████▍                        | 245kB 31.8MB/s eta 0:00:01\r\u001b[K     |███████▋                        | 256kB 31.8MB/s eta 0:00:01\r\u001b[K     |████████                        | 266kB 31.8MB/s eta 0:00:01\r\u001b[K     |████████▎                       | 276kB 31.8MB/s eta 0:00:01\r\u001b[K     |████████▋                       | 286kB 31.8MB/s eta 0:00:01\r\u001b[K     |████████▉                       | 296kB 31.8MB/s eta 0:00:01\r\u001b[K     |█████████▏                      | 307kB 31.8MB/s eta 0:00:01\r\u001b[K     |█████████▌                      | 317kB 31.8MB/s eta 0:00:01\r\u001b[K     |█████████▉                      | 327kB 31.8MB/s eta 0:00:01\r\u001b[K     |██████████                      | 337kB 31.8MB/s eta 0:00:01\r\u001b[K     |██████████▍                     | 348kB 31.8MB/s eta 0:00:01\r\u001b[K     |██████████▊                     | 358kB 31.8MB/s eta 0:00:01\r\u001b[K     |███████████                     | 368kB 31.8MB/s eta 0:00:01\r\u001b[K     |███████████▎                    | 378kB 31.8MB/s eta 0:00:01\r\u001b[K     |███████████▋                    | 389kB 31.8MB/s eta 0:00:01\r\u001b[K     |████████████                    | 399kB 31.8MB/s eta 0:00:01\r\u001b[K     |████████████▎                   | 409kB 31.8MB/s eta 0:00:01\r\u001b[K     |████████████▌                   | 419kB 31.8MB/s eta 0:00:01\r\u001b[K     |████████████▉                   | 430kB 31.8MB/s eta 0:00:01\r\u001b[K     |█████████████▏                  | 440kB 31.8MB/s eta 0:00:01\r\u001b[K     |█████████████▌                  | 450kB 31.8MB/s eta 0:00:01\r\u001b[K     |█████████████▊                  | 460kB 31.8MB/s eta 0:00:01\r\u001b[K     |██████████████                  | 471kB 31.8MB/s eta 0:00:01\r\u001b[K     |██████████████▍                 | 481kB 31.8MB/s eta 0:00:01\r\u001b[K     |██████████████▊                 | 491kB 31.8MB/s eta 0:00:01\r\u001b[K     |███████████████                 | 501kB 31.8MB/s eta 0:00:01\r\u001b[K     |███████████████▎                | 512kB 31.8MB/s eta 0:00:01\r\u001b[K     |███████████████▋                | 522kB 31.8MB/s eta 0:00:01\r\u001b[K     |████████████████                | 532kB 31.8MB/s eta 0:00:01\r\u001b[K     |████████████████▎               | 542kB 31.8MB/s eta 0:00:01\r\u001b[K     |████████████████▌               | 552kB 31.8MB/s eta 0:00:01\r\u001b[K     |████████████████▉               | 563kB 31.8MB/s eta 0:00:01\r\u001b[K     |█████████████████▏              | 573kB 31.8MB/s eta 0:00:01\r\u001b[K     |█████████████████▌              | 583kB 31.8MB/s eta 0:00:01\r\u001b[K     |█████████████████▊              | 593kB 31.8MB/s eta 0:00:01\r\u001b[K     |██████████████████              | 604kB 31.8MB/s eta 0:00:01\r\u001b[K     |██████████████████▍             | 614kB 31.8MB/s eta 0:00:01\r\u001b[K     |██████████████████▊             | 624kB 31.8MB/s eta 0:00:01\r\u001b[K     |███████████████████             | 634kB 31.8MB/s eta 0:00:01\r\u001b[K     |███████████████████▎            | 645kB 31.8MB/s eta 0:00:01\r\u001b[K     |███████████████████▋            | 655kB 31.8MB/s eta 0:00:01\r\u001b[K     |████████████████████            | 665kB 31.8MB/s eta 0:00:01\r\u001b[K     |████████████████████▏           | 675kB 31.8MB/s eta 0:00:01\r\u001b[K     |████████████████████▌           | 686kB 31.8MB/s eta 0:00:01\r\u001b[K     |████████████████████▉           | 696kB 31.8MB/s eta 0:00:01\r\u001b[K     |█████████████████████▏          | 706kB 31.8MB/s eta 0:00:01\r\u001b[K     |█████████████████████▍          | 716kB 31.8MB/s eta 0:00:01\r\u001b[K     |█████████████████████▊          | 727kB 31.8MB/s eta 0:00:01\r\u001b[K     |██████████████████████          | 737kB 31.8MB/s eta 0:00:01\r\u001b[K     |██████████████████████▍         | 747kB 31.8MB/s eta 0:00:01\r\u001b[K     |██████████████████████▋         | 757kB 31.8MB/s eta 0:00:01\r\u001b[K     |███████████████████████         | 768kB 31.8MB/s eta 0:00:01\r\u001b[K     |███████████████████████▎        | 778kB 31.8MB/s eta 0:00:01\r\u001b[K     |███████████████████████▋        | 788kB 31.8MB/s eta 0:00:01\r\u001b[K     |███████████████████████▉        | 798kB 31.8MB/s eta 0:00:01\r\u001b[K     |████████████████████████▏       | 808kB 31.8MB/s eta 0:00:01\r\u001b[K     |████████████████████████▌       | 819kB 31.8MB/s eta 0:00:01\r\u001b[K     |████████████████████████▉       | 829kB 31.8MB/s eta 0:00:01\r\u001b[K     |█████████████████████████       | 839kB 31.8MB/s eta 0:00:01\r\u001b[K     |█████████████████████████▍      | 849kB 31.8MB/s eta 0:00:01\r\u001b[K     |█████████████████████████▊      | 860kB 31.8MB/s eta 0:00:01\r\u001b[K     |██████████████████████████      | 870kB 31.8MB/s eta 0:00:01\r\u001b[K     |██████████████████████████▎     | 880kB 31.8MB/s eta 0:00:01\r\u001b[K     |██████████████████████████▋     | 890kB 31.8MB/s eta 0:00:01\r\u001b[K     |███████████████████████████     | 901kB 31.8MB/s eta 0:00:01\r\u001b[K     |███████████████████████████▎    | 911kB 31.8MB/s eta 0:00:01\r\u001b[K     |███████████████████████████▌    | 921kB 31.8MB/s eta 0:00:01\r\u001b[K     |███████████████████████████▉    | 931kB 31.8MB/s eta 0:00:01\r\u001b[K     |████████████████████████████▏   | 942kB 31.8MB/s eta 0:00:01\r\u001b[K     |████████████████████████████▌   | 952kB 31.8MB/s eta 0:00:01\r\u001b[K     |████████████████████████████▉   | 962kB 31.8MB/s eta 0:00:01\r\u001b[K     |█████████████████████████████   | 972kB 31.8MB/s eta 0:00:01\r\u001b[K     |█████████████████████████████▍  | 983kB 31.8MB/s eta 0:00:01\r\u001b[K     |█████████████████████████████▊  | 993kB 31.8MB/s eta 0:00:01\r\u001b[K     |██████████████████████████████  | 1.0MB 31.8MB/s eta 0:00:01\r\u001b[K     |██████████████████████████████▎ | 1.0MB 31.8MB/s eta 0:00:01\r\u001b[K     |██████████████████████████████▋ | 1.0MB 31.8MB/s eta 0:00:01\r\u001b[K     |███████████████████████████████ | 1.0MB 31.8MB/s eta 0:00:01\r\u001b[K     |███████████████████████████████▎| 1.0MB 31.8MB/s eta 0:00:01\r\u001b[K     |███████████████████████████████▌| 1.1MB 31.8MB/s eta 0:00:01\r\u001b[K     |███████████████████████████████▉| 1.1MB 31.8MB/s eta 0:00:01\r\u001b[K     |████████████████████████████████| 1.1MB 31.8MB/s \n",
            "\u001b[?25hCollecting tokenizers==0.7.0\n",
            "\u001b[?25l  Downloading https://files.pythonhosted.org/packages/14/e5/a26eb4716523808bb0a799fcfdceb6ebf77a18169d9591b2f46a9adb87d9/tokenizers-0.7.0-cp36-cp36m-manylinux1_x86_64.whl (3.8MB)\n",
            "\u001b[K     |████████████████████████████████| 3.8MB 358kB/s \n",
            "\u001b[?25hRequirement already satisfied: requests in /usr/local/lib/python3.6/dist-packages (from Transformers) (2.23.0)\n",
            "Requirement already satisfied: dataclasses; python_version < \"3.7\" in /usr/local/lib/python3.6/dist-packages (from Transformers) (0.7)\n",
            "Requirement already satisfied: tqdm>=4.27 in /usr/local/lib/python3.6/dist-packages (from Transformers) (4.41.1)\n",
            "Requirement already satisfied: regex!=2019.12.17 in /usr/local/lib/python3.6/dist-packages (from Transformers) (2019.12.20)\n",
            "Requirement already satisfied: numpy in /usr/local/lib/python3.6/dist-packages (from Transformers) (1.18.4)\n",
            "Collecting sacremoses\n",
            "\u001b[?25l  Downloading https://files.pythonhosted.org/packages/7d/34/09d19aff26edcc8eb2a01bed8e98f13a1537005d31e95233fd48216eed10/sacremoses-0.0.43.tar.gz (883kB)\n",
            "\u001b[K     |████████████████████████████████| 890kB 60.8MB/s \n",
            "\u001b[?25hRequirement already satisfied: filelock in /usr/local/lib/python3.6/dist-packages (from Transformers) (3.0.12)\n",
            "Requirement already satisfied: certifi>=2017.4.17 in /usr/local/lib/python3.6/dist-packages (from requests->Transformers) (2020.4.5.1)\n",
            "Requirement already satisfied: idna<3,>=2.5 in /usr/local/lib/python3.6/dist-packages (from requests->Transformers) (2.9)\n",
            "Requirement already satisfied: urllib3!=1.25.0,!=1.25.1,<1.26,>=1.21.1 in /usr/local/lib/python3.6/dist-packages (from requests->Transformers) (1.24.3)\n",
            "Requirement already satisfied: chardet<4,>=3.0.2 in /usr/local/lib/python3.6/dist-packages (from requests->Transformers) (3.0.4)\n",
            "Requirement already satisfied: six in /usr/local/lib/python3.6/dist-packages (from sacremoses->Transformers) (1.12.0)\n",
            "Requirement already satisfied: click in /usr/local/lib/python3.6/dist-packages (from sacremoses->Transformers) (7.1.2)\n",
            "Requirement already satisfied: joblib in /usr/local/lib/python3.6/dist-packages (from sacremoses->Transformers) (0.14.1)\n",
            "Building wheels for collected packages: sacremoses\n",
            "  Building wheel for sacremoses (setup.py) ... \u001b[?25l\u001b[?25hdone\n",
            "  Created wheel for sacremoses: filename=sacremoses-0.0.43-cp36-none-any.whl size=893260 sha256=f45b77e0f37fb7a3f22799d6cfe9f6315ccb773609c7550ab7518d7b0f94a3a2\n",
            "  Stored in directory: /root/.cache/pip/wheels/29/3c/fd/7ce5c3f0666dab31a50123635e6fb5e19ceb42ce38d4e58f45\n",
            "Successfully built sacremoses\n",
            "Installing collected packages: sentencepiece, tokenizers, sacremoses, Transformers\n",
            "Successfully installed Transformers-2.9.1 sacremoses-0.0.43 sentencepiece-0.1.90 tokenizers-0.7.0\n"
          ],
          "name": "stdout"
        }
      ]
    },
    {
      "cell_type": "markdown",
      "metadata": {
        "id": "Bx4danQujOuR",
        "colab_type": "text"
      },
      "source": [
        "Loading the `Cola Dataset`"
      ]
    },
    {
      "cell_type": "code",
      "metadata": {
        "id": "xJpTrFiDjFjK",
        "colab_type": "code",
        "outputId": "5582b60d-296c-4a47-ca27-94aa89c14037",
        "colab": {
          "base_uri": "https://localhost:8080/",
          "height": 195
        }
      },
      "source": [
        "!pip install wget"
      ],
      "execution_count": 4,
      "outputs": [
        {
          "output_type": "stream",
          "text": [
            "Collecting wget\n",
            "  Downloading https://files.pythonhosted.org/packages/47/6a/62e288da7bcda82b935ff0c6cfe542970f04e29c756b0e147251b2fb251f/wget-3.2.zip\n",
            "Building wheels for collected packages: wget\n",
            "  Building wheel for wget (setup.py) ... \u001b[?25l\u001b[?25hdone\n",
            "  Created wheel for wget: filename=wget-3.2-cp36-none-any.whl size=9682 sha256=9181bceed75eb201f7577b311897dd6663585c55ca1f01147560180a6ccf4a0d\n",
            "  Stored in directory: /root/.cache/pip/wheels/40/15/30/7d8f7cea2902b4db79e3fea550d7d7b85ecb27ef992b618f3f\n",
            "Successfully built wget\n",
            "Installing collected packages: wget\n",
            "Successfully installed wget-3.2\n"
          ],
          "name": "stdout"
        }
      ]
    },
    {
      "cell_type": "code",
      "metadata": {
        "id": "kRO6bHrtjYvL",
        "colab_type": "code",
        "outputId": "7ea7cd89-6354-4640-b8d6-b063437f7af9",
        "colab": {
          "base_uri": "https://localhost:8080/",
          "height": 34
        }
      },
      "source": [
        "import os\n",
        "import wget\n",
        "\n",
        "url = 'https://nyu-mll.github.io/CoLA/cola_public_1.1.zip'\n",
        "\n",
        "if not os.path.exists('./cola_public_1.1.zip'):\n",
        "  wget.download(url, './cola_public_1.1.zip')\n",
        "  #!wget url\n",
        "\n",
        "for dirname, _, filenames in os.walk('./'):\n",
        "  for filename in filenames:\n",
        "    if 'cola' in filename:\n",
        "      print(os.path.join(dirname, filename))"
      ],
      "execution_count": 5,
      "outputs": [
        {
          "output_type": "stream",
          "text": [
            "./cola_public_1.1.zip\n"
          ],
          "name": "stdout"
        }
      ]
    },
    {
      "cell_type": "code",
      "metadata": {
        "id": "PwOZjLvTjyff",
        "colab_type": "code",
        "outputId": "29374ba6-99ba-4720-dcf6-2773de134c7f",
        "colab": {
          "base_uri": "https://localhost:8080/",
          "height": 210
        }
      },
      "source": [
        "# unzip the data\n",
        "if not os.path.exists('./cola_public_1.1/'):\n",
        "  !unzip ./cola_public_1.1.zip"
      ],
      "execution_count": 6,
      "outputs": [
        {
          "output_type": "stream",
          "text": [
            "Archive:  ./cola_public_1.1.zip\n",
            "   creating: cola_public/\n",
            "  inflating: cola_public/README      \n",
            "   creating: cola_public/tokenized/\n",
            "  inflating: cola_public/tokenized/in_domain_dev.tsv  \n",
            "  inflating: cola_public/tokenized/in_domain_train.tsv  \n",
            "  inflating: cola_public/tokenized/out_of_domain_dev.tsv  \n",
            "   creating: cola_public/raw/\n",
            "  inflating: cola_public/raw/in_domain_dev.tsv  \n",
            "  inflating: cola_public/raw/in_domain_train.tsv  \n",
            "  inflating: cola_public/raw/out_of_domain_dev.tsv  \n"
          ],
          "name": "stdout"
        }
      ]
    },
    {
      "cell_type": "code",
      "metadata": {
        "id": "WXIkyjWGly3w",
        "colab_type": "code",
        "outputId": "325ae7a4-bdaa-4e20-fbda-a40dd09bd23e",
        "colab": {
          "base_uri": "https://localhost:8080/",
          "height": 368
        }
      },
      "source": [
        "import pandas as pd\n",
        "df = pd.read_csv('./cola_public/tokenized/in_domain_train.tsv', sep='\\t', header=None, names=['sentence_source', 'label', 'label_notes', 'sentence'])\n",
        "\n",
        "print(df.shape)\n",
        "df.sample(10)"
      ],
      "execution_count": 7,
      "outputs": [
        {
          "output_type": "stream",
          "text": [
            "(8551, 4)\n"
          ],
          "name": "stdout"
        },
        {
          "output_type": "execute_result",
          "data": {
            "text/html": [
              "<div>\n",
              "<style scoped>\n",
              "    .dataframe tbody tr th:only-of-type {\n",
              "        vertical-align: middle;\n",
              "    }\n",
              "\n",
              "    .dataframe tbody tr th {\n",
              "        vertical-align: top;\n",
              "    }\n",
              "\n",
              "    .dataframe thead th {\n",
              "        text-align: right;\n",
              "    }\n",
              "</style>\n",
              "<table border=\"1\" class=\"dataframe\">\n",
              "  <thead>\n",
              "    <tr style=\"text-align: right;\">\n",
              "      <th></th>\n",
              "      <th>sentence_source</th>\n",
              "      <th>label</th>\n",
              "      <th>label_notes</th>\n",
              "      <th>sentence</th>\n",
              "    </tr>\n",
              "  </thead>\n",
              "  <tbody>\n",
              "    <tr>\n",
              "      <th>4119</th>\n",
              "      <td>ks08</td>\n",
              "      <td>1</td>\n",
              "      <td>NaN</td>\n",
              "      <td>we know the defendants seem eager to testify a...</td>\n",
              "    </tr>\n",
              "    <tr>\n",
              "      <th>3674</th>\n",
              "      <td>ks08</td>\n",
              "      <td>1</td>\n",
              "      <td>NaN</td>\n",
              "      <td>his friend kicked a ball .</td>\n",
              "    </tr>\n",
              "    <tr>\n",
              "      <th>3499</th>\n",
              "      <td>ks08</td>\n",
              "      <td>1</td>\n",
              "      <td>NaN</td>\n",
              "      <td>visiting relatives can be boring .</td>\n",
              "    </tr>\n",
              "    <tr>\n",
              "      <th>239</th>\n",
              "      <td>cj99</td>\n",
              "      <td>1</td>\n",
              "      <td>NaN</td>\n",
              "      <td>he ate so much that he got sick .</td>\n",
              "    </tr>\n",
              "    <tr>\n",
              "      <th>145</th>\n",
              "      <td>cj99</td>\n",
              "      <td>0</td>\n",
              "      <td>*</td>\n",
              "      <td>it is important for the more you to eat , the ...</td>\n",
              "    </tr>\n",
              "    <tr>\n",
              "      <th>415</th>\n",
              "      <td>bc01</td>\n",
              "      <td>1</td>\n",
              "      <td>NaN</td>\n",
              "      <td>john believes that he is sick .</td>\n",
              "    </tr>\n",
              "    <tr>\n",
              "      <th>4014</th>\n",
              "      <td>ks08</td>\n",
              "      <td>1</td>\n",
              "      <td>NaN</td>\n",
              "      <td>the monkey seems despondent .</td>\n",
              "    </tr>\n",
              "    <tr>\n",
              "      <th>3750</th>\n",
              "      <td>ks08</td>\n",
              "      <td>1</td>\n",
              "      <td>NaN</td>\n",
              "      <td>thunder frightens the dog .</td>\n",
              "    </tr>\n",
              "    <tr>\n",
              "      <th>1481</th>\n",
              "      <td>r-67</td>\n",
              "      <td>1</td>\n",
              "      <td>NaN</td>\n",
              "      <td>it is not true that it was obvious that it wou...</td>\n",
              "    </tr>\n",
              "    <tr>\n",
              "      <th>4799</th>\n",
              "      <td>ks08</td>\n",
              "      <td>1</td>\n",
              "      <td>NaN</td>\n",
              "      <td>which book by his father did he read ?</td>\n",
              "    </tr>\n",
              "  </tbody>\n",
              "</table>\n",
              "</div>"
            ],
            "text/plain": [
              "     sentence_source  ...                                           sentence\n",
              "4119            ks08  ...  we know the defendants seem eager to testify a...\n",
              "3674            ks08  ...                         his friend kicked a ball .\n",
              "3499            ks08  ...                 visiting relatives can be boring .\n",
              "239             cj99  ...                  he ate so much that he got sick .\n",
              "145             cj99  ...  it is important for the more you to eat , the ...\n",
              "415             bc01  ...                    john believes that he is sick .\n",
              "4014            ks08  ...                      the monkey seems despondent .\n",
              "3750            ks08  ...                        thunder frightens the dog .\n",
              "1481            r-67  ...  it is not true that it was obvious that it wou...\n",
              "4799            ks08  ...             which book by his father did he read ?\n",
              "\n",
              "[10 rows x 4 columns]"
            ]
          },
          "metadata": {
            "tags": []
          },
          "execution_count": 7
        }
      ]
    },
    {
      "cell_type": "markdown",
      "metadata": {
        "id": "4Z6tFFo2m2S1",
        "colab_type": "text"
      },
      "source": [
        "We care about `sentence` and `label`\n",
        "`label` = 0 , means not grammatically not acceptable\n",
        "`label` = 1, means grammatrically acceptable"
      ]
    },
    {
      "cell_type": "code",
      "metadata": {
        "id": "Gv82lD_wm-pR",
        "colab_type": "code",
        "outputId": "3195e143-c3b6-4bbb-af6f-3b32a0c0b6bb",
        "colab": {
          "base_uri": "https://localhost:8080/",
          "height": 199
        }
      },
      "source": [
        "df.loc[df.label == 0].sample(5)[['sentence', 'label']]"
      ],
      "execution_count": 8,
      "outputs": [
        {
          "output_type": "execute_result",
          "data": {
            "text/html": [
              "<div>\n",
              "<style scoped>\n",
              "    .dataframe tbody tr th:only-of-type {\n",
              "        vertical-align: middle;\n",
              "    }\n",
              "\n",
              "    .dataframe tbody tr th {\n",
              "        vertical-align: top;\n",
              "    }\n",
              "\n",
              "    .dataframe thead th {\n",
              "        text-align: right;\n",
              "    }\n",
              "</style>\n",
              "<table border=\"1\" class=\"dataframe\">\n",
              "  <thead>\n",
              "    <tr style=\"text-align: right;\">\n",
              "      <th></th>\n",
              "      <th>sentence</th>\n",
              "      <th>label</th>\n",
              "    </tr>\n",
              "  </thead>\n",
              "  <tbody>\n",
              "    <tr>\n",
              "      <th>7829</th>\n",
              "      <td>he replied his answer .</td>\n",
              "      <td>0</td>\n",
              "    </tr>\n",
              "    <tr>\n",
              "      <th>2245</th>\n",
              "      <td>janet broke at the bread .</td>\n",
              "      <td>0</td>\n",
              "    </tr>\n",
              "    <tr>\n",
              "      <th>1221</th>\n",
              "      <td>the money which i am discussing the claim that...</td>\n",
              "      <td>0</td>\n",
              "    </tr>\n",
              "    <tr>\n",
              "      <th>5125</th>\n",
              "      <td>which book he read the book was that one .</td>\n",
              "      <td>0</td>\n",
              "    </tr>\n",
              "    <tr>\n",
              "      <th>7791</th>\n",
              "      <td>what i arranged for jenny was to be present .</td>\n",
              "      <td>0</td>\n",
              "    </tr>\n",
              "  </tbody>\n",
              "</table>\n",
              "</div>"
            ],
            "text/plain": [
              "                                               sentence  label\n",
              "7829                            he replied his answer .      0\n",
              "2245                         janet broke at the bread .      0\n",
              "1221  the money which i am discussing the claim that...      0\n",
              "5125         which book he read the book was that one .      0\n",
              "7791      what i arranged for jenny was to be present .      0"
            ]
          },
          "metadata": {
            "tags": []
          },
          "execution_count": 8
        }
      ]
    },
    {
      "cell_type": "code",
      "metadata": {
        "id": "V0HmVe_AnW_S",
        "colab_type": "code",
        "colab": {}
      },
      "source": [
        "# get the list of sentences and their lables\n",
        "\n",
        "sentences = df.sentence.values\n",
        "labels = df.label.values"
      ],
      "execution_count": 0,
      "outputs": []
    },
    {
      "cell_type": "markdown",
      "metadata": {
        "id": "Fq4M0ZrmnxeN",
        "colab_type": "text"
      },
      "source": [
        "## Using BERT tokenizer\n",
        "we need to use Bert tokenizer before feeding to BERT"
      ]
    },
    {
      "cell_type": "code",
      "metadata": {
        "id": "80DKSXbinr8h",
        "colab_type": "code",
        "outputId": "1a4b4dcf-df4e-425d-c8b4-9bfd72cbbe9b",
        "colab": {
          "base_uri": "https://localhost:8080/",
          "height": 84,
          "referenced_widgets": [
            "85e09e40e69d422f9750e85da0174d6f",
            "fba5d113a7e142219c1cd2b53a0c5763",
            "ed1ec3cdf3c14192ad05e50f4e397d5c",
            "6e19ef189c2e4811b2a037b0dc103134",
            "db643c86af78438881a31cb133f95cc7",
            "66e4d1c564dd4016837c6b196e0ee463",
            "06f2c84bb48349398ab0f9c8bc824b0a",
            "39284bc011ff4faf98a35794be5e3344"
          ]
        }
      },
      "source": [
        "from transformers import BertTokenizer\n",
        "\n",
        "print('Loading Bert tokenizer.....')\n",
        "# use the uncased pretrained version of the BertTokenizer\n",
        "tokenizer = BertTokenizer.from_pretrained('bert-base-uncased', do_lower_case=True)\n"
      ],
      "execution_count": 10,
      "outputs": [
        {
          "output_type": "stream",
          "text": [
            "Loading Bert tokenizer.....\n"
          ],
          "name": "stdout"
        },
        {
          "output_type": "display_data",
          "data": {
            "application/vnd.jupyter.widget-view+json": {
              "model_id": "85e09e40e69d422f9750e85da0174d6f",
              "version_minor": 0,
              "version_major": 2
            },
            "text/plain": [
              "HBox(children=(FloatProgress(value=0.0, description='Downloading', max=231508.0, style=ProgressStyle(descripti…"
            ]
          },
          "metadata": {
            "tags": []
          }
        },
        {
          "output_type": "stream",
          "text": [
            "\n"
          ],
          "name": "stdout"
        }
      ]
    },
    {
      "cell_type": "code",
      "metadata": {
        "id": "iUnCvhRPpYIT",
        "colab_type": "code",
        "outputId": "8ff73c1f-bf2a-44e8-9f3b-b1be875258eb",
        "colab": {
          "base_uri": "https://localhost:8080/",
          "height": 90
        }
      },
      "source": [
        "# Apply to one sentence and see\n",
        "print('original sentence', sentences[0])\n",
        "print('tokenized', tokenizer.tokenize(sentences[0]))\n",
        "\n",
        "# sentence mapped to token ids\n",
        "print('Token ids: ', tokenizer.convert_tokens_to_ids(tokenizer.tokenize(sentences[0])))"
      ],
      "execution_count": 11,
      "outputs": [
        {
          "output_type": "stream",
          "text": [
            "original sentence our friends wo n't buy this analysis , let alone the next one we propose .\n",
            "tokenized ['our', 'friends', 'wo', 'n', \"'\", 't', 'buy', 'this', 'analysis', ',', 'let', 'alone', 'the', 'next', 'one', 'we', 'propose', '.']\n",
            "Token ids:  [2256, 2814, 24185, 1050, 1005, 1056, 4965, 2023, 4106, 1010, 2292, 2894, 1996, 2279, 2028, 2057, 16599, 1012]\n"
          ],
          "name": "stdout"
        }
      ]
    },
    {
      "cell_type": "markdown",
      "metadata": {
        "id": "AuUbfwQ6qKi9",
        "colab_type": "text"
      },
      "source": [
        "The above can be done using `tokenizer.encode(sentences[0])`"
      ]
    },
    {
      "cell_type": "code",
      "metadata": {
        "id": "sVZwnFY4plYt",
        "colab_type": "code",
        "outputId": "029769b7-3135-4eb3-b1fd-394e8251455d",
        "colab": {
          "base_uri": "https://localhost:8080/",
          "height": 386
        }
      },
      "source": [
        "print(sentences[0])\n",
        "tokenizer.encode(sentences[0])"
      ],
      "execution_count": 12,
      "outputs": [
        {
          "output_type": "stream",
          "text": [
            "our friends wo n't buy this analysis , let alone the next one we propose .\n"
          ],
          "name": "stdout"
        },
        {
          "output_type": "execute_result",
          "data": {
            "text/plain": [
              "[101,\n",
              " 2256,\n",
              " 2814,\n",
              " 24185,\n",
              " 1050,\n",
              " 1005,\n",
              " 1056,\n",
              " 4965,\n",
              " 2023,\n",
              " 4106,\n",
              " 1010,\n",
              " 2292,\n",
              " 2894,\n",
              " 1996,\n",
              " 2279,\n",
              " 2028,\n",
              " 2057,\n",
              " 16599,\n",
              " 1012,\n",
              " 102]"
            ]
          },
          "metadata": {
            "tags": []
          },
          "execution_count": 12
        }
      ]
    },
    {
      "cell_type": "markdown",
      "metadata": {
        "id": "kwH8Dzr1q9Pg",
        "colab_type": "text"
      },
      "source": [
        "## Tokenize Dataset"
      ]
    },
    {
      "cell_type": "code",
      "metadata": {
        "id": "uTefE8zgqUn6",
        "colab_type": "code",
        "outputId": "80034f23-b26a-4451-d2db-7dfec5160735",
        "colab": {
          "base_uri": "https://localhost:8080/",
          "height": 34
        }
      },
      "source": [
        "# maximum sentence length for padding and truncating\n",
        "\n",
        "max_len = 0\n",
        "for sent in sentences:\n",
        "  # tokenize the text and add the '[CLS]' and '[SEP] tokens\n",
        "  input_ids = tokenizer.encode(sent, add_special_tokens=True)\n",
        "\n",
        "  # update the max_len\n",
        "  max_len = max(max_len, len(input_ids))\n",
        "\n",
        "print('Max sentence length', max_len)"
      ],
      "execution_count": 13,
      "outputs": [
        {
          "output_type": "stream",
          "text": [
            "Max sentence length 47\n"
          ],
          "name": "stdout"
        }
      ]
    },
    {
      "cell_type": "markdown",
      "metadata": {
        "id": "OggpO8IWr5ak",
        "colab_type": "text"
      },
      "source": [
        "In case there are some bigger sentences in text, maximum lenght will be set as `64` instead of `47`"
      ]
    },
    {
      "cell_type": "markdown",
      "metadata": {
        "id": "mSxSLrkysI9_",
        "colab_type": "text"
      },
      "source": [
        "Now we're ready to perform the real tokenization.\n",
        "\n",
        "The `tokenizer.encode_plus` function combines multiple steps for us:\n",
        "\n",
        "1. Split the sentence into tokens.\n",
        "2. Add the special `[CLS]` and `[SEP]` tokens.\n",
        "3. Map the tokens to their IDs.\n",
        "4. Pad or truncate all sentences to the same length.\n",
        "5. Create the attention masks which explicitly differentiate real tokens from `[PAD]` tokens.\n",
        "  * Mask: 1, means real token\n",
        "  * Mask: 0, mean padded token\n",
        "\n",
        "6. It returns a dictionary of input_ids, token_type_ids and the attention_mask"
      ]
    },
    {
      "cell_type": "code",
      "metadata": {
        "id": "eA9yOLKRrwgk",
        "colab_type": "code",
        "outputId": "d696abde-adba-46d2-ed85-ffe83894e3f9",
        "colab": {
          "base_uri": "https://localhost:8080/",
          "height": 157
        }
      },
      "source": [
        "# Tokenize all of the sentences and map the tokens to thier word IDs.\n",
        "input_ids = []\n",
        "attention_masks = []\n",
        "\n",
        "# For every sentence...\n",
        "for sent in sentences:\n",
        "    # `encode_plus` will:\n",
        "    #   (1) Tokenize the sentence.\n",
        "    #   (2) Prepend the `[CLS]` token to the start.\n",
        "    #   (3) Append the `[SEP]` token to the end.\n",
        "    #   (4) Map tokens to their IDs.\n",
        "    #   (5) Pad or truncate the sentence to `max_length`\n",
        "    #   (6) Create attention masks for [PAD] tokens.\n",
        "    encoded_dict = tokenizer.encode_plus(\n",
        "                        sent,                      # Sentence to encode.\n",
        "                        add_special_tokens = True, # Add '[CLS]' and '[SEP]'\n",
        "                        max_length = 64,           # Pad & truncate all sentences.\n",
        "                        pad_to_max_length = True,\n",
        "                        return_attention_mask = True,   # Construct attn. masks.\n",
        "                        return_tensors = 'pt',     # Return pytorch tensors.\n",
        "                   )\n",
        "    \n",
        "    # Add the encoded sentence to the list.    \n",
        "    input_ids.append(encoded_dict['input_ids'])\n",
        "    \n",
        "    # And its attention mask (simply differentiates padding from non-padding).\n",
        "    attention_masks.append(encoded_dict['attention_mask'])\n",
        "\n",
        "# Convert the lists into tensors.\n",
        "input_ids = torch.cat(input_ids, dim=0)\n",
        "attention_masks = torch.cat(attention_masks, dim=0)\n",
        "labels = torch.tensor(labels)\n",
        "\n",
        "# Print sentence 0, now as a list of IDs.\n",
        "print('Original: ', sentences[0])\n",
        "print('Token IDs:', input_ids[0])"
      ],
      "execution_count": 14,
      "outputs": [
        {
          "output_type": "stream",
          "text": [
            "Original:  our friends wo n't buy this analysis , let alone the next one we propose .\n",
            "Token IDs: tensor([  101,  2256,  2814, 24185,  1050,  1005,  1056,  4965,  2023,  4106,\n",
            "         1010,  2292,  2894,  1996,  2279,  2028,  2057, 16599,  1012,   102,\n",
            "            0,     0,     0,     0,     0,     0,     0,     0,     0,     0,\n",
            "            0,     0,     0,     0,     0,     0,     0,     0,     0,     0,\n",
            "            0,     0,     0,     0,     0,     0,     0,     0,     0,     0,\n",
            "            0,     0,     0,     0,     0,     0,     0,     0,     0,     0,\n",
            "            0,     0,     0,     0])\n"
          ],
          "name": "stdout"
        }
      ]
    },
    {
      "cell_type": "code",
      "metadata": {
        "id": "sKwvJBimtlUX",
        "colab_type": "code",
        "outputId": "9f8facbb-4a15-4d6e-80f1-798c4ee96d80",
        "colab": {
          "base_uri": "https://localhost:8080/",
          "height": 54
        }
      },
      "source": [
        "tokenizer.encode_plus(sentences[0])"
      ],
      "execution_count": 15,
      "outputs": [
        {
          "output_type": "execute_result",
          "data": {
            "text/plain": [
              "{'input_ids': [101, 2256, 2814, 24185, 1050, 1005, 1056, 4965, 2023, 4106, 1010, 2292, 2894, 1996, 2279, 2028, 2057, 16599, 1012, 102], 'token_type_ids': [0, 0, 0, 0, 0, 0, 0, 0, 0, 0, 0, 0, 0, 0, 0, 0, 0, 0, 0, 0], 'attention_mask': [1, 1, 1, 1, 1, 1, 1, 1, 1, 1, 1, 1, 1, 1, 1, 1, 1, 1, 1, 1]}"
            ]
          },
          "metadata": {
            "tags": []
          },
          "execution_count": 15
        }
      ]
    },
    {
      "cell_type": "code",
      "metadata": {
        "id": "mS4feTrCtqlq",
        "colab_type": "code",
        "outputId": "0190a1b4-1ec6-471d-9610-7280f34971ec",
        "colab": {
          "base_uri": "https://localhost:8080/",
          "height": 140
        }
      },
      "source": [
        "input_ids"
      ],
      "execution_count": 16,
      "outputs": [
        {
          "output_type": "execute_result",
          "data": {
            "text/plain": [
              "tensor([[ 101, 2256, 2814,  ...,    0,    0,    0],\n",
              "        [ 101, 2028, 2062,  ...,    0,    0,    0],\n",
              "        [ 101, 2028, 2062,  ...,    0,    0,    0],\n",
              "        ...,\n",
              "        [ 101, 2009, 2003,  ...,    0,    0,    0],\n",
              "        [ 101, 1045, 2018,  ...,    0,    0,    0],\n",
              "        [ 101, 2054, 2035,  ...,    0,    0,    0]])"
            ]
          },
          "metadata": {
            "tags": []
          },
          "execution_count": 16
        }
      ]
    },
    {
      "cell_type": "markdown",
      "metadata": {
        "id": "T0SvPdNkRRCS",
        "colab_type": "text"
      },
      "source": [
        "## Training and Validation splits"
      ]
    },
    {
      "cell_type": "code",
      "metadata": {
        "id": "dW9B-s09PgpS",
        "colab_type": "code",
        "outputId": "b9a48611-0bb4-4224-8c4e-b3a8b54223ff",
        "colab": {
          "base_uri": "https://localhost:8080/",
          "height": 52
        }
      },
      "source": [
        "from torch.utils.data import TensorDataset, random_split\n",
        "\n",
        "# Combine the training inputs into a Tensor Dataset\n",
        "dataset  = TensorDataset(input_ids, attention_masks, labels)\n",
        "\n",
        "# create a 90-10 split for train-validation\n",
        "train_size = int(0.9 * len(dataset))\n",
        "val_size = len(dataset) - train_size\n",
        "\n",
        "# divide the dataset by randomly selecting samples\n",
        "train_dataset, val_dataset = random_split(dataset, [train_size, val_size])\n",
        "\n",
        "print('{:>5,} training samples'.format(train_size))\n",
        "print('{:>5} validation samples'.format(val_size))"
      ],
      "execution_count": 17,
      "outputs": [
        {
          "output_type": "stream",
          "text": [
            "7,695 training samples\n",
            "  856 validation samples\n"
          ],
          "name": "stdout"
        }
      ]
    },
    {
      "cell_type": "markdown",
      "metadata": {
        "id": "0dXoFcIYZ9o8",
        "colab_type": "text"
      },
      "source": [
        "create an iterator for a dataset using the torch DataLoader class. This helps to save on memory"
      ]
    },
    {
      "cell_type": "code",
      "metadata": {
        "id": "m0DjnlAuZZ9a",
        "colab_type": "code",
        "colab": {}
      },
      "source": [
        "from torch.utils.data import DataLoader, RandomSampler, SequentialSampler\n",
        "\n",
        "# batch size is requires. For fine tuning BERT, author recommends a batch size of 16 or 32\n",
        "batch_size=32\n",
        "\n",
        "# Data loader for training dataset\n",
        "train_dataloader  = DataLoader(\n",
        "                      train_dataset,\n",
        "                      batch_size = batch_size,\n",
        "                      sampler = RandomSampler(train_dataset)\n",
        "                      )\n",
        "\n",
        "# Data loader for validation\n",
        "# the order does not matter and hence we will just read sequentially\n",
        "validation_dataloader = DataLoader(\n",
        "                          val_dataset,\n",
        "                          batch_size = batch_size,\n",
        "                          sampler = SequentialSampler(val_dataset) # pulls batches sequentially\n",
        "                            )"
      ],
      "execution_count": 0,
      "outputs": []
    },
    {
      "cell_type": "markdown",
      "metadata": {
        "id": "1up-U0GVbU7J",
        "colab_type": "text"
      },
      "source": [
        "## Train Classification model"
      ]
    },
    {
      "cell_type": "markdown",
      "metadata": {
        "id": "y-e6gYaDbaOZ",
        "colab_type": "text"
      },
      "source": [
        "For this task, \n",
        "1. we first want to modify the `pre-trained BERT model` to give outputs for classification\n",
        "2. and then we want to continue training the model on our dataset until that the entire model, end-to-end, is well-suited for our task.\n",
        "\n",
        "Thankfully, the **huggingface** pytorch implementation includes a set of interfaces designed for a variety of NLP tasks. **Though these interfaces are all built on top of a trained BERT model, each has different top layers and output types designed to accomodate their specific NLP task**\n",
        "\n",
        "Here is the current list of classes provided for fine-tuning:\n",
        "\n",
        "* BertModel\n",
        "* BertForPreTraining\n",
        "* BertForMaskedLM\n",
        "* BertForNextSentencePrediction\n",
        "* **BertForSequenceClassification** - The one we'll use.\n",
        "* BertForTokenClassification\n",
        "* BertForQuestionAnswering"
      ]
    },
    {
      "cell_type": "code",
      "metadata": {
        "id": "_lKj2HDNbQov",
        "colab_type": "code",
        "outputId": "e252c63a-1c8a-457b-d5b0-5becb0d58529",
        "colab": {
          "base_uri": "https://localhost:8080/",
          "height": 1000,
          "referenced_widgets": [
            "2f7283cda67e4235af19cece2a9e67ea",
            "c969212bb7db4c11a4d1259dc1c78476",
            "77dbf8d14334431ea66abd41c6865e0f",
            "9d5c22589beb436dabdf48c901bfb0ac",
            "4e53092ff6c949599169f5901832b885",
            "1ff639a7298e4cdd9d566fab314b5015",
            "6a71d6c4be80439dbd0c3c8f12dee37b",
            "fa1cb8d19dcc438a87d365537d79c7fa",
            "cac7cf493ca84dcba55619d647f2f0af",
            "0a2913ffa61b45e699fe56d1518e454c",
            "a3f28798584d4a95894c63766f384aa5",
            "05950e16f47c4500868e303eaa03ad28",
            "4d91a3ffd32e4bfea197224e110674ca",
            "95d7e5901f804254bbb0cb78408db546",
            "5f1a4e39940a4ba6b428baa4f74bcf8c",
            "4370c3a553094842927eb3e4ea975cf3"
          ]
        }
      },
      "source": [
        "from transformers import BertForSequenceClassification, AdamW, BertConfig\n",
        "\n",
        "# load the pretrained BERT model with a single linear classification at the top\n",
        "\n",
        "model = BertForSequenceClassification.from_pretrained(\n",
        "              'bert-base-uncased', # use the 12 layer BERT model with uncased vocab\n",
        "              num_labels = 2, # for binary_classification\n",
        "              output_attentions = False, # whether the model returns attention weights\n",
        "              output_hidden_states = False, # whether the model outputs all hidden states\n",
        "        )\n",
        "\n",
        "# Tell pytorch to run this model on GPU\n",
        "model.cuda()"
      ],
      "execution_count": 19,
      "outputs": [
        {
          "output_type": "display_data",
          "data": {
            "application/vnd.jupyter.widget-view+json": {
              "model_id": "2f7283cda67e4235af19cece2a9e67ea",
              "version_minor": 0,
              "version_major": 2
            },
            "text/plain": [
              "HBox(children=(FloatProgress(value=0.0, description='Downloading', max=433.0, style=ProgressStyle(description_…"
            ]
          },
          "metadata": {
            "tags": []
          }
        },
        {
          "output_type": "stream",
          "text": [
            "\n"
          ],
          "name": "stdout"
        },
        {
          "output_type": "display_data",
          "data": {
            "application/vnd.jupyter.widget-view+json": {
              "model_id": "cac7cf493ca84dcba55619d647f2f0af",
              "version_minor": 0,
              "version_major": 2
            },
            "text/plain": [
              "HBox(children=(FloatProgress(value=0.0, description='Downloading', max=440473133.0, style=ProgressStyle(descri…"
            ]
          },
          "metadata": {
            "tags": []
          }
        },
        {
          "output_type": "stream",
          "text": [
            "\n"
          ],
          "name": "stdout"
        },
        {
          "output_type": "execute_result",
          "data": {
            "text/plain": [
              "BertForSequenceClassification(\n",
              "  (bert): BertModel(\n",
              "    (embeddings): BertEmbeddings(\n",
              "      (word_embeddings): Embedding(30522, 768, padding_idx=0)\n",
              "      (position_embeddings): Embedding(512, 768)\n",
              "      (token_type_embeddings): Embedding(2, 768)\n",
              "      (LayerNorm): LayerNorm((768,), eps=1e-12, elementwise_affine=True)\n",
              "      (dropout): Dropout(p=0.1, inplace=False)\n",
              "    )\n",
              "    (encoder): BertEncoder(\n",
              "      (layer): ModuleList(\n",
              "        (0): BertLayer(\n",
              "          (attention): BertAttention(\n",
              "            (self): BertSelfAttention(\n",
              "              (query): Linear(in_features=768, out_features=768, bias=True)\n",
              "              (key): Linear(in_features=768, out_features=768, bias=True)\n",
              "              (value): Linear(in_features=768, out_features=768, bias=True)\n",
              "              (dropout): Dropout(p=0.1, inplace=False)\n",
              "            )\n",
              "            (output): BertSelfOutput(\n",
              "              (dense): Linear(in_features=768, out_features=768, bias=True)\n",
              "              (LayerNorm): LayerNorm((768,), eps=1e-12, elementwise_affine=True)\n",
              "              (dropout): Dropout(p=0.1, inplace=False)\n",
              "            )\n",
              "          )\n",
              "          (intermediate): BertIntermediate(\n",
              "            (dense): Linear(in_features=768, out_features=3072, bias=True)\n",
              "          )\n",
              "          (output): BertOutput(\n",
              "            (dense): Linear(in_features=3072, out_features=768, bias=True)\n",
              "            (LayerNorm): LayerNorm((768,), eps=1e-12, elementwise_affine=True)\n",
              "            (dropout): Dropout(p=0.1, inplace=False)\n",
              "          )\n",
              "        )\n",
              "        (1): BertLayer(\n",
              "          (attention): BertAttention(\n",
              "            (self): BertSelfAttention(\n",
              "              (query): Linear(in_features=768, out_features=768, bias=True)\n",
              "              (key): Linear(in_features=768, out_features=768, bias=True)\n",
              "              (value): Linear(in_features=768, out_features=768, bias=True)\n",
              "              (dropout): Dropout(p=0.1, inplace=False)\n",
              "            )\n",
              "            (output): BertSelfOutput(\n",
              "              (dense): Linear(in_features=768, out_features=768, bias=True)\n",
              "              (LayerNorm): LayerNorm((768,), eps=1e-12, elementwise_affine=True)\n",
              "              (dropout): Dropout(p=0.1, inplace=False)\n",
              "            )\n",
              "          )\n",
              "          (intermediate): BertIntermediate(\n",
              "            (dense): Linear(in_features=768, out_features=3072, bias=True)\n",
              "          )\n",
              "          (output): BertOutput(\n",
              "            (dense): Linear(in_features=3072, out_features=768, bias=True)\n",
              "            (LayerNorm): LayerNorm((768,), eps=1e-12, elementwise_affine=True)\n",
              "            (dropout): Dropout(p=0.1, inplace=False)\n",
              "          )\n",
              "        )\n",
              "        (2): BertLayer(\n",
              "          (attention): BertAttention(\n",
              "            (self): BertSelfAttention(\n",
              "              (query): Linear(in_features=768, out_features=768, bias=True)\n",
              "              (key): Linear(in_features=768, out_features=768, bias=True)\n",
              "              (value): Linear(in_features=768, out_features=768, bias=True)\n",
              "              (dropout): Dropout(p=0.1, inplace=False)\n",
              "            )\n",
              "            (output): BertSelfOutput(\n",
              "              (dense): Linear(in_features=768, out_features=768, bias=True)\n",
              "              (LayerNorm): LayerNorm((768,), eps=1e-12, elementwise_affine=True)\n",
              "              (dropout): Dropout(p=0.1, inplace=False)\n",
              "            )\n",
              "          )\n",
              "          (intermediate): BertIntermediate(\n",
              "            (dense): Linear(in_features=768, out_features=3072, bias=True)\n",
              "          )\n",
              "          (output): BertOutput(\n",
              "            (dense): Linear(in_features=3072, out_features=768, bias=True)\n",
              "            (LayerNorm): LayerNorm((768,), eps=1e-12, elementwise_affine=True)\n",
              "            (dropout): Dropout(p=0.1, inplace=False)\n",
              "          )\n",
              "        )\n",
              "        (3): BertLayer(\n",
              "          (attention): BertAttention(\n",
              "            (self): BertSelfAttention(\n",
              "              (query): Linear(in_features=768, out_features=768, bias=True)\n",
              "              (key): Linear(in_features=768, out_features=768, bias=True)\n",
              "              (value): Linear(in_features=768, out_features=768, bias=True)\n",
              "              (dropout): Dropout(p=0.1, inplace=False)\n",
              "            )\n",
              "            (output): BertSelfOutput(\n",
              "              (dense): Linear(in_features=768, out_features=768, bias=True)\n",
              "              (LayerNorm): LayerNorm((768,), eps=1e-12, elementwise_affine=True)\n",
              "              (dropout): Dropout(p=0.1, inplace=False)\n",
              "            )\n",
              "          )\n",
              "          (intermediate): BertIntermediate(\n",
              "            (dense): Linear(in_features=768, out_features=3072, bias=True)\n",
              "          )\n",
              "          (output): BertOutput(\n",
              "            (dense): Linear(in_features=3072, out_features=768, bias=True)\n",
              "            (LayerNorm): LayerNorm((768,), eps=1e-12, elementwise_affine=True)\n",
              "            (dropout): Dropout(p=0.1, inplace=False)\n",
              "          )\n",
              "        )\n",
              "        (4): BertLayer(\n",
              "          (attention): BertAttention(\n",
              "            (self): BertSelfAttention(\n",
              "              (query): Linear(in_features=768, out_features=768, bias=True)\n",
              "              (key): Linear(in_features=768, out_features=768, bias=True)\n",
              "              (value): Linear(in_features=768, out_features=768, bias=True)\n",
              "              (dropout): Dropout(p=0.1, inplace=False)\n",
              "            )\n",
              "            (output): BertSelfOutput(\n",
              "              (dense): Linear(in_features=768, out_features=768, bias=True)\n",
              "              (LayerNorm): LayerNorm((768,), eps=1e-12, elementwise_affine=True)\n",
              "              (dropout): Dropout(p=0.1, inplace=False)\n",
              "            )\n",
              "          )\n",
              "          (intermediate): BertIntermediate(\n",
              "            (dense): Linear(in_features=768, out_features=3072, bias=True)\n",
              "          )\n",
              "          (output): BertOutput(\n",
              "            (dense): Linear(in_features=3072, out_features=768, bias=True)\n",
              "            (LayerNorm): LayerNorm((768,), eps=1e-12, elementwise_affine=True)\n",
              "            (dropout): Dropout(p=0.1, inplace=False)\n",
              "          )\n",
              "        )\n",
              "        (5): BertLayer(\n",
              "          (attention): BertAttention(\n",
              "            (self): BertSelfAttention(\n",
              "              (query): Linear(in_features=768, out_features=768, bias=True)\n",
              "              (key): Linear(in_features=768, out_features=768, bias=True)\n",
              "              (value): Linear(in_features=768, out_features=768, bias=True)\n",
              "              (dropout): Dropout(p=0.1, inplace=False)\n",
              "            )\n",
              "            (output): BertSelfOutput(\n",
              "              (dense): Linear(in_features=768, out_features=768, bias=True)\n",
              "              (LayerNorm): LayerNorm((768,), eps=1e-12, elementwise_affine=True)\n",
              "              (dropout): Dropout(p=0.1, inplace=False)\n",
              "            )\n",
              "          )\n",
              "          (intermediate): BertIntermediate(\n",
              "            (dense): Linear(in_features=768, out_features=3072, bias=True)\n",
              "          )\n",
              "          (output): BertOutput(\n",
              "            (dense): Linear(in_features=3072, out_features=768, bias=True)\n",
              "            (LayerNorm): LayerNorm((768,), eps=1e-12, elementwise_affine=True)\n",
              "            (dropout): Dropout(p=0.1, inplace=False)\n",
              "          )\n",
              "        )\n",
              "        (6): BertLayer(\n",
              "          (attention): BertAttention(\n",
              "            (self): BertSelfAttention(\n",
              "              (query): Linear(in_features=768, out_features=768, bias=True)\n",
              "              (key): Linear(in_features=768, out_features=768, bias=True)\n",
              "              (value): Linear(in_features=768, out_features=768, bias=True)\n",
              "              (dropout): Dropout(p=0.1, inplace=False)\n",
              "            )\n",
              "            (output): BertSelfOutput(\n",
              "              (dense): Linear(in_features=768, out_features=768, bias=True)\n",
              "              (LayerNorm): LayerNorm((768,), eps=1e-12, elementwise_affine=True)\n",
              "              (dropout): Dropout(p=0.1, inplace=False)\n",
              "            )\n",
              "          )\n",
              "          (intermediate): BertIntermediate(\n",
              "            (dense): Linear(in_features=768, out_features=3072, bias=True)\n",
              "          )\n",
              "          (output): BertOutput(\n",
              "            (dense): Linear(in_features=3072, out_features=768, bias=True)\n",
              "            (LayerNorm): LayerNorm((768,), eps=1e-12, elementwise_affine=True)\n",
              "            (dropout): Dropout(p=0.1, inplace=False)\n",
              "          )\n",
              "        )\n",
              "        (7): BertLayer(\n",
              "          (attention): BertAttention(\n",
              "            (self): BertSelfAttention(\n",
              "              (query): Linear(in_features=768, out_features=768, bias=True)\n",
              "              (key): Linear(in_features=768, out_features=768, bias=True)\n",
              "              (value): Linear(in_features=768, out_features=768, bias=True)\n",
              "              (dropout): Dropout(p=0.1, inplace=False)\n",
              "            )\n",
              "            (output): BertSelfOutput(\n",
              "              (dense): Linear(in_features=768, out_features=768, bias=True)\n",
              "              (LayerNorm): LayerNorm((768,), eps=1e-12, elementwise_affine=True)\n",
              "              (dropout): Dropout(p=0.1, inplace=False)\n",
              "            )\n",
              "          )\n",
              "          (intermediate): BertIntermediate(\n",
              "            (dense): Linear(in_features=768, out_features=3072, bias=True)\n",
              "          )\n",
              "          (output): BertOutput(\n",
              "            (dense): Linear(in_features=3072, out_features=768, bias=True)\n",
              "            (LayerNorm): LayerNorm((768,), eps=1e-12, elementwise_affine=True)\n",
              "            (dropout): Dropout(p=0.1, inplace=False)\n",
              "          )\n",
              "        )\n",
              "        (8): BertLayer(\n",
              "          (attention): BertAttention(\n",
              "            (self): BertSelfAttention(\n",
              "              (query): Linear(in_features=768, out_features=768, bias=True)\n",
              "              (key): Linear(in_features=768, out_features=768, bias=True)\n",
              "              (value): Linear(in_features=768, out_features=768, bias=True)\n",
              "              (dropout): Dropout(p=0.1, inplace=False)\n",
              "            )\n",
              "            (output): BertSelfOutput(\n",
              "              (dense): Linear(in_features=768, out_features=768, bias=True)\n",
              "              (LayerNorm): LayerNorm((768,), eps=1e-12, elementwise_affine=True)\n",
              "              (dropout): Dropout(p=0.1, inplace=False)\n",
              "            )\n",
              "          )\n",
              "          (intermediate): BertIntermediate(\n",
              "            (dense): Linear(in_features=768, out_features=3072, bias=True)\n",
              "          )\n",
              "          (output): BertOutput(\n",
              "            (dense): Linear(in_features=3072, out_features=768, bias=True)\n",
              "            (LayerNorm): LayerNorm((768,), eps=1e-12, elementwise_affine=True)\n",
              "            (dropout): Dropout(p=0.1, inplace=False)\n",
              "          )\n",
              "        )\n",
              "        (9): BertLayer(\n",
              "          (attention): BertAttention(\n",
              "            (self): BertSelfAttention(\n",
              "              (query): Linear(in_features=768, out_features=768, bias=True)\n",
              "              (key): Linear(in_features=768, out_features=768, bias=True)\n",
              "              (value): Linear(in_features=768, out_features=768, bias=True)\n",
              "              (dropout): Dropout(p=0.1, inplace=False)\n",
              "            )\n",
              "            (output): BertSelfOutput(\n",
              "              (dense): Linear(in_features=768, out_features=768, bias=True)\n",
              "              (LayerNorm): LayerNorm((768,), eps=1e-12, elementwise_affine=True)\n",
              "              (dropout): Dropout(p=0.1, inplace=False)\n",
              "            )\n",
              "          )\n",
              "          (intermediate): BertIntermediate(\n",
              "            (dense): Linear(in_features=768, out_features=3072, bias=True)\n",
              "          )\n",
              "          (output): BertOutput(\n",
              "            (dense): Linear(in_features=3072, out_features=768, bias=True)\n",
              "            (LayerNorm): LayerNorm((768,), eps=1e-12, elementwise_affine=True)\n",
              "            (dropout): Dropout(p=0.1, inplace=False)\n",
              "          )\n",
              "        )\n",
              "        (10): BertLayer(\n",
              "          (attention): BertAttention(\n",
              "            (self): BertSelfAttention(\n",
              "              (query): Linear(in_features=768, out_features=768, bias=True)\n",
              "              (key): Linear(in_features=768, out_features=768, bias=True)\n",
              "              (value): Linear(in_features=768, out_features=768, bias=True)\n",
              "              (dropout): Dropout(p=0.1, inplace=False)\n",
              "            )\n",
              "            (output): BertSelfOutput(\n",
              "              (dense): Linear(in_features=768, out_features=768, bias=True)\n",
              "              (LayerNorm): LayerNorm((768,), eps=1e-12, elementwise_affine=True)\n",
              "              (dropout): Dropout(p=0.1, inplace=False)\n",
              "            )\n",
              "          )\n",
              "          (intermediate): BertIntermediate(\n",
              "            (dense): Linear(in_features=768, out_features=3072, bias=True)\n",
              "          )\n",
              "          (output): BertOutput(\n",
              "            (dense): Linear(in_features=3072, out_features=768, bias=True)\n",
              "            (LayerNorm): LayerNorm((768,), eps=1e-12, elementwise_affine=True)\n",
              "            (dropout): Dropout(p=0.1, inplace=False)\n",
              "          )\n",
              "        )\n",
              "        (11): BertLayer(\n",
              "          (attention): BertAttention(\n",
              "            (self): BertSelfAttention(\n",
              "              (query): Linear(in_features=768, out_features=768, bias=True)\n",
              "              (key): Linear(in_features=768, out_features=768, bias=True)\n",
              "              (value): Linear(in_features=768, out_features=768, bias=True)\n",
              "              (dropout): Dropout(p=0.1, inplace=False)\n",
              "            )\n",
              "            (output): BertSelfOutput(\n",
              "              (dense): Linear(in_features=768, out_features=768, bias=True)\n",
              "              (LayerNorm): LayerNorm((768,), eps=1e-12, elementwise_affine=True)\n",
              "              (dropout): Dropout(p=0.1, inplace=False)\n",
              "            )\n",
              "          )\n",
              "          (intermediate): BertIntermediate(\n",
              "            (dense): Linear(in_features=768, out_features=3072, bias=True)\n",
              "          )\n",
              "          (output): BertOutput(\n",
              "            (dense): Linear(in_features=3072, out_features=768, bias=True)\n",
              "            (LayerNorm): LayerNorm((768,), eps=1e-12, elementwise_affine=True)\n",
              "            (dropout): Dropout(p=0.1, inplace=False)\n",
              "          )\n",
              "        )\n",
              "      )\n",
              "    )\n",
              "    (pooler): BertPooler(\n",
              "      (dense): Linear(in_features=768, out_features=768, bias=True)\n",
              "      (activation): Tanh()\n",
              "    )\n",
              "  )\n",
              "  (dropout): Dropout(p=0.1, inplace=False)\n",
              "  (classifier): Linear(in_features=768, out_features=2, bias=True)\n",
              ")"
            ]
          },
          "metadata": {
            "tags": []
          },
          "execution_count": 19
        }
      ]
    },
    {
      "cell_type": "markdown",
      "metadata": {
        "id": "8oHpqH7TeJBf",
        "colab_type": "text"
      },
      "source": [
        "Explore all the model parameters by name\n",
        "Names and dimensions of the weights for:\n",
        "1. The embedding layer\n",
        "2. the first of the 12 transformers\n",
        "3. Output layer"
      ]
    },
    {
      "cell_type": "code",
      "metadata": {
        "id": "myscgiDfdv7r",
        "colab_type": "code",
        "outputId": "27d13515-5e71-41a8-f647-ac6b1df49451",
        "colab": {
          "base_uri": "https://localhost:8080/",
          "height": 632
        }
      },
      "source": [
        "# get the model parameters as a list of tuples\n",
        "params = list(model.named_parameters())\n",
        "\n",
        "print('The BERT model has {:} parameters'.format(len(params)))\n",
        "\n",
        "print('\\n--------Embedding layer-------------\\n')\n",
        "\n",
        "for p in params[0:5]:\n",
        "  #print('{} ------------------------ {}'.format(p[0], str(tuple(p[1].size()))))\n",
        "  # Using {:<55}  {:>12} is text aligment\n",
        "  # {:<55}: allocate 55 spaces to the left for the text, so this aligns from the left\n",
        "  # {:>12}: allocate 12 spaces starting from right, so this aligns from the right\n",
        "  print('{:<55}  {:>12}'.format(p[0], str(tuple(p[1].size()))))\n",
        "\n",
        "print('\\n----------First Transformer----------------\\n')\n",
        "for p in params[5:21]:\n",
        "  #print('{} ------------------------- {}'.format(p[0], str(tuple(p[1].size()))))\n",
        "  print('{:<55}  {:>12}'.format(p[0], str(tuple(p[1].size()))))\n",
        "\n",
        "print('\\n-----------------Output Layer--------------------\\n')\n",
        "for p in params[-4:]:\n",
        "  #print('{} -------------------------{}'.format(p[0], str(tuple(p[1].size()))))\n",
        "  print('{:<55}  {:>12}'.format(p[0], str(tuple(p[1].size()))))\n"
      ],
      "execution_count": 20,
      "outputs": [
        {
          "output_type": "stream",
          "text": [
            "The BERT model has 201 parameters\n",
            "\n",
            "--------Embedding layer-------------\n",
            "\n",
            "bert.embeddings.word_embeddings.weight                   (30522, 768)\n",
            "bert.embeddings.position_embeddings.weight                 (512, 768)\n",
            "bert.embeddings.token_type_embeddings.weight                 (2, 768)\n",
            "bert.embeddings.LayerNorm.weight                               (768,)\n",
            "bert.embeddings.LayerNorm.bias                                 (768,)\n",
            "\n",
            "----------First Transformer----------------\n",
            "\n",
            "bert.encoder.layer.0.attention.self.query.weight           (768, 768)\n",
            "bert.encoder.layer.0.attention.self.query.bias                 (768,)\n",
            "bert.encoder.layer.0.attention.self.key.weight             (768, 768)\n",
            "bert.encoder.layer.0.attention.self.key.bias                   (768,)\n",
            "bert.encoder.layer.0.attention.self.value.weight           (768, 768)\n",
            "bert.encoder.layer.0.attention.self.value.bias                 (768,)\n",
            "bert.encoder.layer.0.attention.output.dense.weight         (768, 768)\n",
            "bert.encoder.layer.0.attention.output.dense.bias               (768,)\n",
            "bert.encoder.layer.0.attention.output.LayerNorm.weight         (768,)\n",
            "bert.encoder.layer.0.attention.output.LayerNorm.bias           (768,)\n",
            "bert.encoder.layer.0.intermediate.dense.weight            (3072, 768)\n",
            "bert.encoder.layer.0.intermediate.dense.bias                  (3072,)\n",
            "bert.encoder.layer.0.output.dense.weight                  (768, 3072)\n",
            "bert.encoder.layer.0.output.dense.bias                         (768,)\n",
            "bert.encoder.layer.0.output.LayerNorm.weight                   (768,)\n",
            "bert.encoder.layer.0.output.LayerNorm.bias                     (768,)\n",
            "\n",
            "-----------------Output Layer--------------------\n",
            "\n",
            "bert.pooler.dense.weight                                   (768, 768)\n",
            "bert.pooler.dense.bias                                         (768,)\n",
            "classifier.weight                                            (2, 768)\n",
            "classifier.bias                                                  (2,)\n"
          ],
          "name": "stdout"
        }
      ]
    },
    {
      "cell_type": "markdown",
      "metadata": {
        "id": "WmjdLmq6oDTJ",
        "colab_type": "text"
      },
      "source": [
        "## Optimizer and Learning Rate scheduler"
      ]
    },
    {
      "cell_type": "markdown",
      "metadata": {
        "id": "8cqOgcfDoNrv",
        "colab_type": "text"
      },
      "source": [
        "Model is loaded. Now we need to grab the training `hyperparameters` from within the stored model\n",
        "\n",
        "For the purpose of tuning, it is recommended to choose from the following values based on from Appendix A.3 of the [BERT paper]((https://arxiv.org/pdf/1810.04805.pdf):\n",
        "\n",
        ">- **Batch Size**: 16, 32\n",
        "- **Learning Rate(Adam)**: 5e-5, 3e-5, 2e-5\n",
        "- **Number of epochs**: 2, 4\n",
        "\n",
        "The epsilon parameter `eps = 1e-8` is \"a very small number to prevent any division by zero in the implementation\" (from [here](https://machinelearningmastery.com/adam-optimization-algorithm-for-deep-learning/))"
      ]
    },
    {
      "cell_type": "code",
      "metadata": {
        "id": "QiPEq1Eqe8Ox",
        "colab_type": "code",
        "colab": {}
      },
      "source": [
        "# AdamW is a class from the hugging face library\n",
        "# Adam optimizer with weight decay fix\n",
        "# the parameters passed to the optmizer are the model parameters\n",
        "\n",
        "optimizer = AdamW(model.parameters(),\n",
        "                  lr = 2e-5, # initial learning rate\n",
        "                  eps = 1e-8 # default\n",
        ")"
      ],
      "execution_count": 0,
      "outputs": []
    },
    {
      "cell_type": "markdown",
      "metadata": {
        "id": "PU_2UytBtdEh",
        "colab_type": "text"
      },
      "source": [
        "Define the `scheduler` which handles the 'learning rate decay`.\n",
        "When training a NN, you want to take large steps initially for the  initial learning decay rate and take progessively smaller steps as we horne in on the optimal value for the weights"
      ]
    },
    {
      "cell_type": "code",
      "metadata": {
        "id": "MAjMa7UHpxex",
        "colab_type": "code",
        "colab": {}
      },
      "source": [
        "from transformers import get_linear_schedule_with_warmup\n",
        "\n",
        "# number of training epochs\n",
        "epochs =4\n",
        "\n",
        "# Total number of training steps = [number of batches]  X [number of epochs]\n",
        "# this is not the same as the number of training samples\n",
        "\n",
        "total_steps = len(train_dataloader) * epochs\n",
        "\n",
        "# create the learning rate scheduler\n",
        "scheduler = get_linear_schedule_with_warmup(\n",
        "                                          optimizer,\n",
        "                                          num_warmup_steps = 0, # default value\n",
        "                                          num_training_steps = total_steps\n",
        "                                          )"
      ],
      "execution_count": 0,
      "outputs": []
    },
    {
      "cell_type": "markdown",
      "metadata": {
        "id": "O13bcsDguoNO",
        "colab_type": "text"
      },
      "source": [
        "## Training Loop"
      ]
    },
    {
      "cell_type": "markdown",
      "metadata": {
        "id": "S5iCz0ZtvhdD",
        "colab_type": "text"
      },
      "source": [
        "Below is our training loop. There's a lot going on, but fundamentally for each pass in our loop we have a trianing phase and a validation phase. \n",
        "\n",
        "\n",
        "**Training:**\n",
        "- Unpack our data inputs and labels\n",
        "- Load data onto the GPU for acceleration\n",
        "- Clear out the gradients calculated in the previous pass. \n",
        "    - In pytorch the gradients accumulate by default (useful for things like RNNs) unless you explicitly clear them out.\n",
        "- Forward pass (feed input data through the network)\n",
        "- Backward pass (backpropagation)\n",
        "- Tell the network to update parameters with optimizer.step()\n",
        "- Track variables for monitoring progress\n",
        "\n",
        "**Evalution:**\n",
        "- Unpack our data inputs and labels\n",
        "- Load data onto the GPU for acceleration\n",
        "- Forward pass (feed input data through the network)\n",
        "- Compute loss on our validation data and track variables for monitoring progress"
      ]
    },
    {
      "cell_type": "markdown",
      "metadata": {
        "id": "pO8ph_vOvqLk",
        "colab_type": "text"
      },
      "source": [
        "define a helper function for accuracy"
      ]
    },
    {
      "cell_type": "code",
      "metadata": {
        "id": "hQdklmTsuODd",
        "colab_type": "code",
        "colab": {}
      },
      "source": [
        "import numpy as np\n",
        "\n",
        "# find accuracy of prediction vs labels\n",
        "\n",
        "def flat_accuracy(preds, labels):\n",
        "  pred_flat = np.argmax(preds, axis=1).flatten()\n",
        "  labels_flat = labels.flatten()\n",
        "  return np.sum(pred_flat == labels_flat) / len(labels_flat)"
      ],
      "execution_count": 0,
      "outputs": []
    },
    {
      "cell_type": "code",
      "metadata": {
        "id": "b7_7vvgNyvmN",
        "colab_type": "code",
        "colab": {}
      },
      "source": [
        "# helper function for elaped time\n",
        "\n",
        "import time\n",
        "import datetime\n",
        "\n",
        "def format_time(elapsed):\n",
        "  '''\n",
        "  Takes time in seconds and returns\n",
        "  a string in hh:mm:ss\n",
        "  '''\n",
        "  elapsed_rounded = int(round(elapsed))\n",
        "\n",
        "  # format in hh:mm:ss\n",
        "  return str(datetime.timedelta(seconds = elapsed_rounded))"
      ],
      "execution_count": 0,
      "outputs": []
    },
    {
      "cell_type": "markdown",
      "metadata": {
        "id": "1CkXwCnazzXR",
        "colab_type": "text"
      },
      "source": [
        "## Kick of training"
      ]
    },
    {
      "cell_type": "code",
      "metadata": {
        "id": "xWkX-S_XYSR5",
        "colab_type": "code",
        "outputId": "354ba72a-ea22-4565-bfb4-160cfc9b6026",
        "colab": {
          "base_uri": "https://localhost:8080/",
          "height": 1000
        }
      },
      "source": [
        "import numpy as np\n",
        "import random\n",
        "\n",
        "seed_val = 42\n",
        "\n",
        "epochs=4\n",
        "\n",
        "random.seed(seed_val)\n",
        "np.random.seed(seed_val)\n",
        "torch.manual_seed(seed_val)\n",
        "torch.cuda.manual_seed_all(seed_val)\n",
        "\n",
        "# We'll store a number of quantities such as training and validation loss, \n",
        "# validation accuracy, and timings\n",
        "training_stats= []\n",
        "\n",
        "# measure total time take for the whole run\n",
        "total_t0 = time.time()\n",
        "\n",
        "# for each epoch\n",
        "for epoch_i in range(0, epochs):\n",
        "    # ========================================\n",
        "    #               Training\n",
        "    # ========================================\n",
        "\n",
        "    # perform one full pass on the training set\n",
        "\n",
        "    print(\"\")\n",
        "    print('======== Epoch {:} / {:} ========'.format(epoch_i + 1, epochs))\n",
        "    print('Training...')\n",
        "\n",
        "    # measure how long the training epoch takes\n",
        "    t0 = time.time()\n",
        "\n",
        "    # reset the training loss for this epoch\n",
        "    total_train_loss = 0\n",
        "\n",
        "    # put the model in 'train' mode\n",
        "    model.train()\n",
        "\n",
        "    # for each batch of the training data\n",
        "    for step, batch in enumerate(train_dataloader):\n",
        "        \n",
        "        # progress update every 40 batches\n",
        "        if step % 40 == 0 and not step == 0:\n",
        "          # calculate the elaped time\n",
        "          elapsed = format_time(time.time() - t0)\n",
        "\n",
        "          # report progress\n",
        "          print('Batch: {} of {}.. Elaped time: {:}'.format(step, len(train_dataloader), elapsed))\n",
        "\n",
        "        # Unpack this training batch from our dataloader. \n",
        "        #\n",
        "        # As we unpack the batch, we'll also copy each tensor to the GPU using the \n",
        "        # `to` method.\n",
        "        #\n",
        "        # `batch` contains three pytorch tensors:\n",
        "        #   [0]: input ids \n",
        "        #   [1]: attention masks\n",
        "        #   [2]: labels\n",
        "\n",
        "        b_input_ids = batch[0].to(device)\n",
        "        b_input_mask = batch[1].to(device)\n",
        "        b_labels = batch[2].to(device)\n",
        "\n",
        "        # Always clear any previously calculated gradients before performing a\n",
        "        # backward pass\n",
        "\n",
        "        model.zero_grad()\n",
        "        \n",
        "        # Perform a forward pass (evaluate the model on this training batch).\n",
        "        loss, logits = model(\n",
        "                            b_input_ids,\n",
        "                            attention_mask = b_input_mask,\n",
        "                            labels = b_labels,\n",
        "                            token_type_ids = None\n",
        "                          )\n",
        "        \n",
        "        # accumulate the training loss over all batches\n",
        "        total_train_loss += loss.item()\n",
        "\n",
        "        # perform backward pass to calculate the gradients\n",
        "        loss.backward()\n",
        "\n",
        "        # Update parameters and take a step using the computed gradient.\n",
        "        # The optimizer dictates the \"update rule\"--how the parameters are\n",
        "        # modified based on their gradients, the learning rate, etc.\n",
        "\n",
        "        optimizer.step()\n",
        "\n",
        "        # update learning rate        \n",
        "        scheduler.step()\n",
        "\n",
        "    # Calculate the average loss across all batches\n",
        "    avg_train_loss = total_train_loss / len(train_dataloader)\n",
        "\n",
        "    # measure how long this epoch took\n",
        "    training_time = format_time(time.time() - t0)\n",
        "\n",
        "    print(\"\")\n",
        "    print(\"  Average training loss: {0:.2f}\".format(avg_train_loss))\n",
        "    print(\"  Training epoch took: {:}\".format(training_time))\n",
        "\n",
        "    # ========================================\n",
        "    #               Validation\n",
        "    # ========================================\n",
        "    # After the completion of each training epoch, measure our performance on\n",
        "    # our validation set.\n",
        "\n",
        "    print(\"\")\n",
        "    print(\"Running Validation...\")\n",
        "\n",
        "    t0 = time.time()\n",
        "\n",
        "    # put the model in evalaution mode\n",
        "    model.eval()\n",
        "\n",
        "    # Tracking variables \n",
        "    total_eval_accuracy = 0\n",
        "    total_eval_loss = 0\n",
        "    nb_eval_steps = 0\n",
        "\n",
        "    # evaluate validation set for each epoch\n",
        "\n",
        "    for batch in validation_dataloader:\n",
        "\n",
        "        # Unpack this training batch from our dataloader. \n",
        "        #\n",
        "        # As we unpack the batch, we'll also copy each tensor to the GPU using \n",
        "        # the `to` method.\n",
        "        #\n",
        "        # `batch` contains three pytorch tensors:\n",
        "        #   [0]: input ids \n",
        "        #   [1]: attention masks\n",
        "        #   [2]: labels\n",
        "\n",
        "        b_input_ids = batch[0].to(device)\n",
        "        b_attention_mask = batch[1].to(device)\n",
        "        b_labels = batch[2].to(device)\n",
        "\n",
        "        # Tell pytorch not to bother with constructing the compute graph during\n",
        "        # the forward pass, since this is only needed for backprop (training).\n",
        "        with torch.no_grad():\n",
        "\n",
        "            # Forward pass, calculate logit predictions.\n",
        "            # token_type_ids is the same as the \"segment ids\", which \n",
        "            # differentiates sentence 1 and 2 in 2-sentence tasks.\n",
        "            # The documentation for this `model` function is here: \n",
        "            # https://huggingface.co/transformers/v2.2.0/model_doc/bert.html#transformers.BertForSequenceClassification\n",
        "            # Get the \"logits\" output by the model. The \"logits\" are the output\n",
        "            # values prior to applying an activation function like the softmax.\n",
        "\n",
        "            (loss, logits) = model(\n",
        "                                  b_input_ids,\n",
        "                                  attention_mask = b_attention_mask,\n",
        "                                  labels = b_labels,\n",
        "                                  token_type_ids = None\n",
        "                                )\n",
        "            \n",
        "        # accumulate the validation loss\n",
        "        total_eval_loss += loss.item()\n",
        "\n",
        "        # move the logits and labels to CPU\n",
        "        logits = logits.detach().cpu().numpy()\n",
        "        label_ids =  b_labels.to('cpu').numpy()\n",
        "\n",
        "        # calaculate the  accuracy for this batch and accumulate over all batches\n",
        "        total_eval_accuracy += flat_accuracy(logits, label_ids)\n",
        "\n",
        "    # report the final accuracy for this validation run\n",
        "    avg_val_accuracy = total_eval_accuracy / len(validation_dataloader)\n",
        "    print('Average Accuracy for this validation run is {:.2f}'.format(avg_val_accuracy))\n",
        "\n",
        "    # calculate the average loss across all batches\n",
        "    avg_val_loss = total_eval_loss / len(validation_dataloader)\n",
        "\n",
        "    # measure time taken\n",
        "    validation_time = format_time(time.time() - t0)\n",
        "\n",
        "    print('Average validation loss: {:.2f}'.format(avg_val_loss))\n",
        "    print('Time taken for validation {}'.format(validation_time))\n",
        "\n",
        "    training_stats.append(\n",
        "                {\n",
        "                'epoch': epoch_i + 1,\n",
        "                'Training Loss': avg_train_loss,\n",
        "                'Valid. Loss': avg_val_loss,\n",
        "                'Valid. Accur.': avg_val_accuracy,\n",
        "                'Training Time': training_time,\n",
        "                'Validation Time': validation_time   \n",
        "               }\n",
        "                )\n",
        "    \n",
        "print(\"\")\n",
        "print(\"Training complete!\")\n",
        "\n",
        "print(\"Total training took {:} (h:mm:ss)\".format(format_time(time.time()-total_t0)))"
      ],
      "execution_count": 25,
      "outputs": [
        {
          "output_type": "stream",
          "text": [
            "\n",
            "======== Epoch 1 / 4 ========\n",
            "Training...\n"
          ],
          "name": "stdout"
        },
        {
          "output_type": "stream",
          "text": [
            "/pytorch/torch/csrc/utils/python_arg_parser.cpp:756: UserWarning: This overload of add_ is deprecated:\n",
            "\tadd_(Number alpha, Tensor other)\n",
            "Consider using one of the following signatures instead:\n",
            "\tadd_(Tensor other, *, Number alpha)\n"
          ],
          "name": "stderr"
        },
        {
          "output_type": "stream",
          "text": [
            "Batch: 40 of 241.. Elaped time: 0:00:08\n",
            "Batch: 80 of 241.. Elaped time: 0:00:16\n",
            "Batch: 120 of 241.. Elaped time: 0:00:24\n",
            "Batch: 160 of 241.. Elaped time: 0:00:32\n",
            "Batch: 200 of 241.. Elaped time: 0:00:40\n",
            "Batch: 240 of 241.. Elaped time: 0:00:48\n",
            "\n",
            "  Average training loss: 0.50\n",
            "  Training epoch took: 0:00:48\n",
            "\n",
            "Running Validation...\n",
            "Average Accuracy for this validation run is 0.82\n",
            "Average validation loss: 0.41\n",
            "Time taken for validation 0:00:02\n",
            "\n",
            "======== Epoch 2 / 4 ========\n",
            "Training...\n",
            "Batch: 40 of 241.. Elaped time: 0:00:08\n",
            "Batch: 80 of 241.. Elaped time: 0:00:16\n",
            "Batch: 120 of 241.. Elaped time: 0:00:24\n",
            "Batch: 160 of 241.. Elaped time: 0:00:32\n",
            "Batch: 200 of 241.. Elaped time: 0:00:39\n",
            "Batch: 240 of 241.. Elaped time: 0:00:47\n",
            "\n",
            "  Average training loss: 0.31\n",
            "  Training epoch took: 0:00:47\n",
            "\n",
            "Running Validation...\n",
            "Average Accuracy for this validation run is 0.84\n",
            "Average validation loss: 0.39\n",
            "Time taken for validation 0:00:02\n",
            "\n",
            "======== Epoch 3 / 4 ========\n",
            "Training...\n",
            "Batch: 40 of 241.. Elaped time: 0:00:08\n",
            "Batch: 80 of 241.. Elaped time: 0:00:16\n",
            "Batch: 120 of 241.. Elaped time: 0:00:24\n",
            "Batch: 160 of 241.. Elaped time: 0:00:32\n",
            "Batch: 200 of 241.. Elaped time: 0:00:40\n",
            "Batch: 240 of 241.. Elaped time: 0:00:47\n",
            "\n",
            "  Average training loss: 0.18\n",
            "  Training epoch took: 0:00:48\n",
            "\n",
            "Running Validation...\n",
            "Average Accuracy for this validation run is 0.82\n",
            "Average validation loss: 0.51\n",
            "Time taken for validation 0:00:02\n",
            "\n",
            "======== Epoch 4 / 4 ========\n",
            "Training...\n",
            "Batch: 40 of 241.. Elaped time: 0:00:08\n",
            "Batch: 80 of 241.. Elaped time: 0:00:16\n",
            "Batch: 120 of 241.. Elaped time: 0:00:24\n",
            "Batch: 160 of 241.. Elaped time: 0:00:32\n",
            "Batch: 200 of 241.. Elaped time: 0:00:39\n",
            "Batch: 240 of 241.. Elaped time: 0:00:47\n",
            "\n",
            "  Average training loss: 0.12\n",
            "  Training epoch took: 0:00:48\n",
            "\n",
            "Running Validation...\n",
            "Average Accuracy for this validation run is 0.84\n",
            "Average validation loss: 0.54\n",
            "Time taken for validation 0:00:02\n",
            "\n",
            "Training complete!\n",
            "Total training took 0:03:17 (h:mm:ss)\n"
          ],
          "name": "stdout"
        }
      ]
    },
    {
      "cell_type": "markdown",
      "metadata": {
        "id": "KifeD2WuoZRh",
        "colab_type": "text"
      },
      "source": [
        "## Summary of the training process"
      ]
    },
    {
      "cell_type": "code",
      "metadata": {
        "id": "q4PaWboXmAtk",
        "colab_type": "code",
        "outputId": "5858bf0c-d619-49d0-ea97-7611ee90ab8b",
        "colab": {
          "base_uri": "https://localhost:8080/",
          "height": 199
        }
      },
      "source": [
        "import pandas as pd\n",
        "pd.set_option('precision', 2)\n",
        "\n",
        "# create a dataframe from the training stats\n",
        "df_stats =  pd.DataFrame(data = training_stats)\n",
        "df_stats = df_stats.set_index('epoch')\n",
        "\n",
        "df_stats"
      ],
      "execution_count": 33,
      "outputs": [
        {
          "output_type": "execute_result",
          "data": {
            "text/html": [
              "<div>\n",
              "<style scoped>\n",
              "    .dataframe tbody tr th:only-of-type {\n",
              "        vertical-align: middle;\n",
              "    }\n",
              "\n",
              "    .dataframe tbody tr th {\n",
              "        vertical-align: top;\n",
              "    }\n",
              "\n",
              "    .dataframe thead th {\n",
              "        text-align: right;\n",
              "    }\n",
              "</style>\n",
              "<table border=\"1\" class=\"dataframe\">\n",
              "  <thead>\n",
              "    <tr style=\"text-align: right;\">\n",
              "      <th></th>\n",
              "      <th>Training Loss</th>\n",
              "      <th>Valid. Loss</th>\n",
              "      <th>Valid. Accur.</th>\n",
              "      <th>Training Time</th>\n",
              "      <th>Validation Time</th>\n",
              "    </tr>\n",
              "    <tr>\n",
              "      <th>epoch</th>\n",
              "      <th></th>\n",
              "      <th></th>\n",
              "      <th></th>\n",
              "      <th></th>\n",
              "      <th></th>\n",
              "    </tr>\n",
              "  </thead>\n",
              "  <tbody>\n",
              "    <tr>\n",
              "      <th>1</th>\n",
              "      <td>0.50</td>\n",
              "      <td>0.41</td>\n",
              "      <td>0.82</td>\n",
              "      <td>0:00:48</td>\n",
              "      <td>0:00:02</td>\n",
              "    </tr>\n",
              "    <tr>\n",
              "      <th>2</th>\n",
              "      <td>0.31</td>\n",
              "      <td>0.39</td>\n",
              "      <td>0.84</td>\n",
              "      <td>0:00:47</td>\n",
              "      <td>0:00:02</td>\n",
              "    </tr>\n",
              "    <tr>\n",
              "      <th>3</th>\n",
              "      <td>0.18</td>\n",
              "      <td>0.51</td>\n",
              "      <td>0.82</td>\n",
              "      <td>0:00:48</td>\n",
              "      <td>0:00:02</td>\n",
              "    </tr>\n",
              "    <tr>\n",
              "      <th>4</th>\n",
              "      <td>0.12</td>\n",
              "      <td>0.54</td>\n",
              "      <td>0.84</td>\n",
              "      <td>0:00:48</td>\n",
              "      <td>0:00:02</td>\n",
              "    </tr>\n",
              "  </tbody>\n",
              "</table>\n",
              "</div>"
            ],
            "text/plain": [
              "       Training Loss  Valid. Loss  Valid. Accur. Training Time Validation Time\n",
              "epoch                                                                         \n",
              "1               0.50         0.41           0.82       0:00:48         0:00:02\n",
              "2               0.31         0.39           0.84       0:00:47         0:00:02\n",
              "3               0.18         0.51           0.82       0:00:48         0:00:02\n",
              "4               0.12         0.54           0.84       0:00:48         0:00:02"
            ]
          },
          "metadata": {
            "tags": []
          },
          "execution_count": 33
        }
      ]
    },
    {
      "cell_type": "markdown",
      "metadata": {
        "id": "K4CQiE6PbAML",
        "colab_type": "text"
      },
      "source": [
        "Training loss is decreasing with every epoch whereas validation loss is increasing. So this means we are training our model too long and is over-fitting\n",
        "* `Validation loss` is more precise than accuracy because with accuracy, we do not care about exact output value, but just which sides of the threshold it falls on\n",
        "* If we are predicting the correct answer with lesser confidence, then the `validation loss` will catch thisy, while accuracy will not"
      ]
    },
    {
      "cell_type": "code",
      "metadata": {
        "id": "oyEH56V3mXhR",
        "colab_type": "code",
        "colab": {
          "base_uri": "https://localhost:8080/",
          "height": 355
        },
        "outputId": "2422a679-0663-45be-9f0a-26ccfbf581d2"
      },
      "source": [
        "# plot the losses over epochs\n",
        "import matplotlib.pyplot as plt\n",
        "import seaborn as sns\n",
        "\n",
        "sns.set(style='darkgrid')\n",
        "\n",
        "#plt.rcParams['figure.figsize'] = (12,6)\n",
        "plt.figure(figsize=(12,5))\n",
        "plt.plot(df_stats['Training Loss'], 'b-o', label='Training')\n",
        "plt.plot(df_stats['Valid. Loss'], 'g-o', label='Validation')\n",
        "\n",
        "plt.title('Loss over epochs')\n",
        "plt.xlabel('epochs')\n",
        "plt.ylabel('loss')\n",
        "plt.legend(loc='lower left')\n",
        "plt.show()"
      ],
      "execution_count": 40,
      "outputs": [
        {
          "output_type": "display_data",
          "data": {
            "image/png": "[encoded data removed]",
            "text/plain": [
              "<Figure size 864x360 with 1 Axes>"
            ]
          },
          "metadata": {
            "tags": []
          }
        }
      ]
    },
    {
      "cell_type": "markdown",
      "metadata": {
        "id": "XD7DNatYfsei",
        "colab_type": "text"
      },
      "source": [
        "## Performance on the Test set"
      ]
    },
    {
      "cell_type": "markdown",
      "metadata": {
        "id": "v2kQ6Y4If-jO",
        "colab_type": "text"
      },
      "source": [
        "* Evaluate prediction using [Matthew's Correlation Coefficient](https://scikit-learn.org/stable/modules/generated/sklearn.metrics.matthews_corrcoef.html), since this is a metrci wdiely used for COLAB\n",
        "  * Best score: +1, Worst score: -1\n",
        "\n",
        "* Repeat the same steps as done for training\n",
        "\n"
      ]
    },
    {
      "cell_type": "markdown",
      "metadata": {
        "id": "EMSEoEuMgcdX",
        "colab_type": "text"
      },
      "source": [
        "### Data preparation for test set"
      ]
    },
    {
      "cell_type": "code",
      "metadata": {
        "id": "L8M7idMpcoTR",
        "colab_type": "code",
        "colab": {
          "base_uri": "https://localhost:8080/",
          "height": 140
        },
        "outputId": "8cdc40d1-3855-49ca-e141-fa66b93d8e11"
      },
      "source": [
        "# check for the test data\n",
        "for dirname, _, filenames in os.walk('./cola_public/'):\n",
        "  for filename in filenames:\n",
        "    print(os.path.join(dirname, filename))"
      ],
      "execution_count": 42,
      "outputs": [
        {
          "output_type": "stream",
          "text": [
            "./cola_public/README\n",
            "./cola_public/tokenized/out_of_domain_dev.tsv\n",
            "./cola_public/tokenized/in_domain_train.tsv\n",
            "./cola_public/tokenized/in_domain_dev.tsv\n",
            "./cola_public/raw/out_of_domain_dev.tsv\n",
            "./cola_public/raw/in_domain_train.tsv\n",
            "./cola_public/raw/in_domain_dev.tsv\n"
          ],
          "name": "stdout"
        }
      ]
    },
    {
      "cell_type": "code",
      "metadata": {
        "id": "j_HUQz2Pg89a",
        "colab_type": "code",
        "colab": {
          "base_uri": "https://localhost:8080/",
          "height": 105
        },
        "outputId": "99e667dc-86b1-47ea-e91d-749d272093e5"
      },
      "source": [
        "# load the raw version of the test data, as we need to tokenize using Bert tokenizer as we did for training\n",
        "\n",
        "df_test = pd.read_csv('./cola_public/raw/in_domain_dev.tsv', delimiter='\\t', header = None, \n",
        "                      names = ['sentence_source', 'label', 'label_notes', 'sentence'])\n",
        "\n",
        "print('Number of sentences', df_test.shape[0])\n",
        "print('target label distributions\\n', df_test['label'].value_counts())\n",
        "\n",
        "# create list for sentence and labels\n",
        "sentences = df_test.sentence.values\n",
        "labels = df_test.label.values\n",
        "\n",
        "# Tokenize all sentences and map the tokens to their IDs\n",
        "input_ids = []\n",
        "attention_masks = []\n",
        "\n",
        "for sent in sentences:\n",
        "    # using 'encode_plus' on the BERT tokenizer\n",
        "    encoded_dict = tokenizer.encode_plus(\n",
        "                                         sent,\n",
        "                                         add_special_tokens = True,\n",
        "                                         max_length = 64,\n",
        "                                         pad_to_max_length = True,\n",
        "                                         return_tensors = 'pt',\n",
        "                                         return_token_type_ids = False,\n",
        "                                         return_attention_mask = True\n",
        "                                         )\n",
        "    \n",
        "    # add the encoded sentences to the list\n",
        "    input_ids.append(encoded_dict['input_ids'])\n",
        "\n",
        "    # add the attention masks\n",
        "    attention_masks.append(encoded_dict['attention_mask'])\n",
        "\n",
        "# convert the list into tensors\n",
        "\n",
        "input_ids = torch.cat(input_ids, dim=0)\n",
        "attention_masks = torch.cat(attention_masks, dim=0)\n",
        "labels = torch.as_tensor(labels)\n",
        "\n",
        "# set the batch_size\n",
        "batch_size = 32\n",
        "\n",
        "# Create the Tensor Dataset and then feed that in batches to the DataLoader\n",
        "prediction_data = TensorDataset(input_ids, attention_masks, labels)\n",
        "\n",
        "# use a sequential sampler to sample from the TensorDatset\n",
        "prediction_sampler = SequentialSampler(prediction_data)\n",
        "\n",
        "# use the DataLoader\n",
        "prediction_dataloader = DataLoader(prediction_data, sampler =prediction_sampler, batch_size = batch_size)"
      ],
      "execution_count": 49,
      "outputs": [
        {
          "output_type": "stream",
          "text": [
            "Number of sentences 527\n",
            "target label distributions\n",
            " 1    365\n",
            "0    162\n",
            "Name: label, dtype: int64\n"
          ],
          "name": "stdout"
        }
      ]
    },
    {
      "cell_type": "markdown",
      "metadata": {
        "id": "zKRKhDqwvN7s",
        "colab_type": "text"
      },
      "source": [
        "### Evaluation on the test data"
      ]
    },
    {
      "cell_type": "code",
      "metadata": {
        "id": "k7eqmi68hT8T",
        "colab_type": "code",
        "colab": {
          "base_uri": "https://localhost:8080/",
          "height": 70
        },
        "outputId": "5ab01f9c-8217-4046-f316-341bf548a753"
      },
      "source": [
        "# prediction on the test data\n",
        "print('Predicting labels for {} test sentences'.format(len(input_ids)))\n",
        "\n",
        "# put the model in eval mode\n",
        "model.eval()\n",
        "\n",
        "# tracking variables\n",
        "predictions, true_labels = [], []\n",
        "\n",
        "t0 = time.time()\n",
        "\n",
        "# predict\n",
        "for batch in prediction_dataloader:\n",
        "    # add batch to gpu\n",
        "    # `batch` contains three pytorch tensors:\n",
        "    #   [0]: input ids \n",
        "    #   [1]: attention masks\n",
        "    #   [2]: labels\n",
        "\n",
        "    batch = tuple(t.to(device) for t in batch)\n",
        "\n",
        "    # unpack the inputs from the data loader\n",
        "    b_input_ids, b_input_mask, b_labels = batch\n",
        "\n",
        "    # Telling the model not to compute or store gradients, saving memory and \n",
        "    # speeding up prediction\n",
        "\n",
        "    with torch.no_grad():\n",
        "      # forward pass and logit prediction\n",
        "      (loss, logits) = model(\n",
        "                            b_input_ids,\n",
        "                            attention_mask = b_input_mask,\n",
        "                            labels = b_labels,\n",
        "                            token_type_ids = None\n",
        "                            )\n",
        "      \n",
        "    # move the logits and labels to CPU\n",
        "    logits = logits.detach().cpu().numpy()\n",
        "    labels_ids = b_labels.to('cpu').numpy()\n",
        "\n",
        "    # store the predictions and true labels\n",
        "    predictions.append(logits)\n",
        "    true_labels.append(labels_ids)\n",
        "\n",
        "    \n",
        "\n",
        "print('prediction done for the test dataset')\n",
        "print('Time elapsed: {}'.format(format_time(time.time() - t0)))"
      ],
      "execution_count": 58,
      "outputs": [
        {
          "output_type": "stream",
          "text": [
            "Predicting labels for 527 test sentences\n",
            "prediction done for the test dataset\n",
            "Time elapsed: 0:00:01\n"
          ],
          "name": "stdout"
        }
      ]
    },
    {
      "cell_type": "markdown",
      "metadata": {
        "id": "rZO24z_OKFgv",
        "colab_type": "text"
      },
      "source": [
        "Accuracy on the CoLA benchmark is measured using the \"[Matthews correlation coefficient](https://scikit-learn.org/stable/modules/generated/sklearn.metrics.matthews_corrcoef.html)\" (MCC).\n",
        "\n",
        "We use MCC here because the classes are imbalanced:"
      ]
    },
    {
      "cell_type": "code",
      "metadata": {
        "id": "ZwY_1-ouvfUV",
        "colab_type": "code",
        "colab": {
          "base_uri": "https://localhost:8080/",
          "height": 34
        },
        "outputId": "09981e5b-d471-493d-fe7f-57aaf4fa40c8"
      },
      "source": [
        "print('Positive sample: {} of {}, percent: {:.2f}%'.format(df_test.label.sum(), len(df_test), df_test.label.sum()/ len(df_test) *100))"
      ],
      "execution_count": 62,
      "outputs": [
        {
          "output_type": "stream",
          "text": [
            "Positive sample: 365 of 527, percent: 69.26%\n"
          ],
          "name": "stdout"
        }
      ]
    },
    {
      "cell_type": "markdown",
      "metadata": {
        "id": "CK1kIuMsMRTe",
        "colab_type": "text"
      },
      "source": [
        "`predictions` has 2 columns for the target variable: `0` and `1`\n"
      ]
    },
    {
      "cell_type": "code",
      "metadata": {
        "id": "nOCJ2LO7wNKp",
        "colab_type": "code",
        "colab": {
          "base_uri": "https://localhost:8080/",
          "height": 34
        },
        "outputId": "b60d249b-5daf-446b-abb8-48c1c7f5e917"
      },
      "source": [
        "predictions[0].shape"
      ],
      "execution_count": 65,
      "outputs": [
        {
          "output_type": "execute_result",
          "data": {
            "text/plain": [
              "(32, 2)"
            ]
          },
          "metadata": {
            "tags": []
          },
          "execution_count": 65
        }
      ]
    },
    {
      "cell_type": "code",
      "metadata": {
        "id": "64EuKRM1N7u6",
        "colab_type": "code",
        "colab": {
          "base_uri": "https://localhost:8080/",
          "height": 579
        },
        "outputId": "3b198072-8654-4292-85b7-edc540d0e6d2"
      },
      "source": [
        "# for first batch\n",
        "predictions[0]"
      ],
      "execution_count": 74,
      "outputs": [
        {
          "output_type": "execute_result",
          "data": {
            "text/plain": [
              "array([[-2.8889222 ,  2.474354  ],\n",
              "       [-3.0595424 ,  2.186653  ],\n",
              "       [-2.7811334 ,  2.1930258 ],\n",
              "       [-2.9911351 ,  2.3691454 ],\n",
              "       [-1.5605103 ,  1.3465897 ],\n",
              "       [-2.406904  ,  2.184461  ],\n",
              "       [-1.718813  ,  0.91929144],\n",
              "       [-1.662456  ,  0.9477272 ],\n",
              "       [-2.714778  ,  1.9349779 ],\n",
              "       [-2.8371122 ,  2.0363214 ],\n",
              "       [-2.5710945 ,  1.6252381 ],\n",
              "       [-2.6217153 ,  1.709917  ],\n",
              "       [-2.8546689 ,  1.8920379 ],\n",
              "       [-1.7358351 ,  1.0410931 ],\n",
              "       [-2.6591558 ,  1.838917  ],\n",
              "       [-2.7687232 ,  1.720714  ],\n",
              "       [-1.141209  ,  0.45763227],\n",
              "       [-2.6364357 ,  1.8507507 ],\n",
              "       [-2.5240486 ,  1.8860533 ],\n",
              "       [-2.470266  ,  1.7901187 ],\n",
              "       [-3.108459  ,  2.304896  ],\n",
              "       [-2.813622  ,  1.9850817 ],\n",
              "       [-2.6531312 ,  1.9192628 ],\n",
              "       [-2.456566  ,  2.0414546 ],\n",
              "       [-2.8342369 ,  2.3708696 ],\n",
              "       [-3.0742104 ,  2.206515  ],\n",
              "       [-3.0685074 ,  2.404764  ],\n",
              "       [-3.1499765 ,  2.3629422 ],\n",
              "       [ 0.28986952, -0.12060783],\n",
              "       [-2.651118  ,  1.9048076 ],\n",
              "       [-2.962783  ,  2.034059  ],\n",
              "       [-3.1123617 ,  2.457011  ]], dtype=float32)"
            ]
          },
          "metadata": {
            "tags": []
          },
          "execution_count": 74
        }
      ]
    },
    {
      "cell_type": "code",
      "metadata": {
        "id": "4mlaftLPL9EX",
        "colab_type": "code",
        "colab": {
          "base_uri": "https://localhost:8080/",
          "height": 52
        },
        "outputId": "8401577b-72bf-4f03-d09f-c40c75578ce4"
      },
      "source": [
        "# true labels for first batch, there are 17 such batches\n",
        "true_labels[0]"
      ],
      "execution_count": 72,
      "outputs": [
        {
          "output_type": "execute_result",
          "data": {
            "text/plain": [
              "array([1, 1, 1, 1, 0, 0, 0, 1, 1, 1, 1, 1, 1, 0, 1, 1, 0, 1, 1, 1, 1, 1,\n",
              "       1, 0, 1, 1, 1, 1, 0, 0, 1, 1])"
            ]
          },
          "metadata": {
            "tags": []
          },
          "execution_count": 72
        }
      ]
    },
    {
      "cell_type": "code",
      "metadata": {
        "id": "lxJxGmZOMoRv",
        "colab_type": "code",
        "colab": {
          "base_uri": "https://localhost:8080/",
          "height": 368
        },
        "outputId": "75f4b79e-bc15-41bb-d270-c240b51230a3"
      },
      "source": [
        "from sklearn.metrics import matthews_corrcoef\n",
        "\n",
        "matthews_set =[]\n",
        "\n",
        "# Evaluate each test batch using Matthew's correlation coefficient\n",
        "print('Calculating Matthews Corr. Coef. for each batch...')\n",
        "\n",
        "# for each batch\n",
        "# len(true_labels) is the number of batches\n",
        "\n",
        "for i in range(len(true_labels)):\n",
        "    \n",
        "    # The predictions for this batch are a 2-column ndarray (one column for \"0\" \n",
        "    # and one column for \"1\"). Pick the label with the highest value and turn this\n",
        "    # in to a list of 0s and 1s.\n",
        "\n",
        "    pred_labels_batch_i = np.argmax(predictions[i], axis=1).flatten()\n",
        "\n",
        "    # calculate and store the corrcoef for this batch\n",
        "    matthews  = matthews_corrcoef(true_labels[i], pred_labels_batch_i)\n",
        "    matthews_set.append(matthews)\n",
        "\n",
        "print('\\nMatthews correlation coefficient for the entire test set')\n",
        "matthews_set"
      ],
      "execution_count": 83,
      "outputs": [
        {
          "output_type": "stream",
          "text": [
            "Calculating Matthews Corr. Coef. for each batch...\n",
            "\n",
            "Matthews correlation coefficient for the entire test set\n"
          ],
          "name": "stdout"
        },
        {
          "output_type": "execute_result",
          "data": {
            "text/plain": [
              "[0.3110855084191276,\n",
              " 0.37084202772044256,\n",
              " 0.41184152944810126,\n",
              " 0.539791896359413,\n",
              " 0.6777749493656265,\n",
              " 0.4732058754737091,\n",
              " 0.49382916465843113,\n",
              " 0.777878154009821,\n",
              " 0.5691908489504616,\n",
              " 0.20672455764868078,\n",
              " 0.5465943944999485,\n",
              " 0.6695340634119862,\n",
              " 0.3578300267477955,\n",
              " 0.8958064164776167,\n",
              " 0.746031746031746,\n",
              " 0.6457765999379483,\n",
              " 0.7071067811865475]"
            ]
          },
          "metadata": {
            "tags": []
          },
          "execution_count": 83
        }
      ]
    },
    {
      "cell_type": "code",
      "metadata": {
        "id": "i2q19MOCOOru",
        "colab_type": "code",
        "colab": {
          "base_uri": "https://localhost:8080/",
          "height": 579
        },
        "outputId": "79060d55-0d8c-49b0-a6ca-144ba8466bff"
      },
      "source": [
        "predictions[0]"
      ],
      "execution_count": 77,
      "outputs": [
        {
          "output_type": "execute_result",
          "data": {
            "text/plain": [
              "array([[-2.8889222 ,  2.474354  ],\n",
              "       [-3.0595424 ,  2.186653  ],\n",
              "       [-2.7811334 ,  2.1930258 ],\n",
              "       [-2.9911351 ,  2.3691454 ],\n",
              "       [-1.5605103 ,  1.3465897 ],\n",
              "       [-2.406904  ,  2.184461  ],\n",
              "       [-1.718813  ,  0.91929144],\n",
              "       [-1.662456  ,  0.9477272 ],\n",
              "       [-2.714778  ,  1.9349779 ],\n",
              "       [-2.8371122 ,  2.0363214 ],\n",
              "       [-2.5710945 ,  1.6252381 ],\n",
              "       [-2.6217153 ,  1.709917  ],\n",
              "       [-2.8546689 ,  1.8920379 ],\n",
              "       [-1.7358351 ,  1.0410931 ],\n",
              "       [-2.6591558 ,  1.838917  ],\n",
              "       [-2.7687232 ,  1.720714  ],\n",
              "       [-1.141209  ,  0.45763227],\n",
              "       [-2.6364357 ,  1.8507507 ],\n",
              "       [-2.5240486 ,  1.8860533 ],\n",
              "       [-2.470266  ,  1.7901187 ],\n",
              "       [-3.108459  ,  2.304896  ],\n",
              "       [-2.813622  ,  1.9850817 ],\n",
              "       [-2.6531312 ,  1.9192628 ],\n",
              "       [-2.456566  ,  2.0414546 ],\n",
              "       [-2.8342369 ,  2.3708696 ],\n",
              "       [-3.0742104 ,  2.206515  ],\n",
              "       [-3.0685074 ,  2.404764  ],\n",
              "       [-3.1499765 ,  2.3629422 ],\n",
              "       [ 0.28986952, -0.12060783],\n",
              "       [-2.651118  ,  1.9048076 ],\n",
              "       [-2.962783  ,  2.034059  ],\n",
              "       [-3.1123617 ,  2.457011  ]], dtype=float32)"
            ]
          },
          "metadata": {
            "tags": []
          },
          "execution_count": 77
        }
      ]
    },
    {
      "cell_type": "code",
      "metadata": {
        "id": "n1AgCw6zOPYQ",
        "colab_type": "code",
        "colab": {
          "base_uri": "https://localhost:8080/",
          "height": 52
        },
        "outputId": "985d640d-87e4-4f44-8143-4a56541788c5"
      },
      "source": [
        "np.argmax(predictions[0], axis=1)"
      ],
      "execution_count": 78,
      "outputs": [
        {
          "output_type": "execute_result",
          "data": {
            "text/plain": [
              "array([1, 1, 1, 1, 1, 1, 1, 1, 1, 1, 1, 1, 1, 1, 1, 1, 1, 1, 1, 1, 1, 1,\n",
              "       1, 1, 1, 1, 1, 1, 0, 1, 1, 1])"
            ]
          },
          "metadata": {
            "tags": []
          },
          "execution_count": 78
        }
      ]
    },
    {
      "cell_type": "code",
      "metadata": {
        "id": "rYlZhmpyOdat",
        "colab_type": "code",
        "colab": {
          "base_uri": "https://localhost:8080/",
          "height": 417
        },
        "outputId": "8402f1dd-3e05-4598-e49e-3eaffa4f7217"
      },
      "source": [
        "# Create a bar plot showing the MCC scores for each batch of the test samples\n",
        "\n",
        "plt.figure(figsize=(12,6))\n",
        "sns.barplot(x = np.arange(len(matthews_set)), y = matthews_set)\n",
        "plt.title('MCC score per batch', fontsize=20)\n",
        "plt.xlabel('batch', fontsize=15)\n",
        "plt.ylabel('MCC scores', fontsize=15)\n",
        "plt.show()"
      ],
      "execution_count": 93,
      "outputs": [
        {
          "output_type": "display_data",
          "data": {
            "image/png": "[encoded data removed]",
            "text/plain": [
              "<Figure size 864x432 with 1 Axes>"
            ]
          },
          "metadata": {
            "tags": []
          }
        }
      ]
    },
    {
      "cell_type": "code",
      "metadata": {
        "id": "SSAutKP9RoiC",
        "colab_type": "code",
        "colab": {
          "base_uri": "https://localhost:8080/",
          "height": 34
        },
        "outputId": "e2628177-19e5-467a-c6b2-cdb164987574"
      },
      "source": [
        "print('Mean MCC score is : {:.2f}'.format(np.mean(matthews_set)))"
      ],
      "execution_count": 100,
      "outputs": [
        {
          "output_type": "stream",
          "text": [
            "Mean MCC score is : 0.55\n"
          ],
          "name": "stdout"
        }
      ]
    },
    {
      "cell_type": "code",
      "metadata": {
        "id": "aQFhi9kbTbQb",
        "colab_type": "code",
        "colab": {}
      },
      "source": [
        ""
      ],
      "execution_count": 0,
      "outputs": []
    }
  ]
}