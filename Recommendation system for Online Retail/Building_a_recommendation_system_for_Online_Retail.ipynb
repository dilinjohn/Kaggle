{
  "nbformat": 4,
  "nbformat_minor": 0,
  "metadata": {
    "colab": {
      "name": "Building a recommendation system for Online Retail",
      "provenance": []
    },
    "kernelspec": {
      "name": "python3",
      "display_name": "Python 3"
    }
  },
  "cells": [
    {
      "cell_type": "code",
      "metadata": {
        "id": "BW6eHrWeQ6G9",
        "colab_type": "code",
        "colab": {}
      },
      "source": [
        "import numpy as np\n",
        "import pandas as pd\n",
        "import os\n",
        "from tqdm import tqdm\n",
        "import time\n",
        "\n",
        "import matplotlib.pyplot as plt\n",
        "%matplotlib inline\n",
        "\n",
        "import multiprocessing\n",
        "\n",
        "import warnings\n",
        "warnings.filterwarnings('ignore')\n",
        "\n",
        "import logging  # Setting up the loggings to monitor gensim\n",
        "logging.basicConfig(format=\"%(levelname)s - %(asctime)s: %(message)s\", datefmt= '%H:%M:%S', level=logging.INFO)"
      ],
      "execution_count": 0,
      "outputs": []
    },
    {
      "cell_type": "code",
      "metadata": {
        "id": "5lQ3jfTZGw7X",
        "colab_type": "code",
        "outputId": "731896c1-3d93-4871-fd49-720bcb524af0",
        "colab": {
          "base_uri": "https://localhost:8080/",
          "height": 208
        }
      },
      "source": [
        "if not os.path.exists('./Online20Retail.xlsx'):\n",
        "    !wget https://archive.ics.uci.edu/ml/machine-learning-databases/00352/Online%20Retail.xlsx"
      ],
      "execution_count": 2,
      "outputs": [
        {
          "output_type": "stream",
          "text": [
            "--2020-05-22 05:08:08--  https://archive.ics.uci.edu/ml/machine-learning-databases/00352/Online%20Retail.xlsx\n",
            "Resolving archive.ics.uci.edu (archive.ics.uci.edu)... 128.195.10.252\n",
            "Connecting to archive.ics.uci.edu (archive.ics.uci.edu)|128.195.10.252|:443... connected.\n",
            "HTTP request sent, awaiting response... 200 OK\n",
            "Length: 23715344 (23M) [application/x-httpd-php]\n",
            "Saving to: ‘Online Retail.xlsx’\n",
            "\n",
            "Online Retail.xlsx  100%[===================>]  22.62M  11.7MB/s    in 1.9s    \n",
            "\n",
            "2020-05-22 05:08:11 (11.7 MB/s) - ‘Online Retail.xlsx’ saved [23715344/23715344]\n",
            "\n"
          ],
          "name": "stdout"
        }
      ]
    },
    {
      "cell_type": "code",
      "metadata": {
        "id": "oFZ6UCgHRNmb",
        "colab_type": "code",
        "outputId": "3f866bfa-ef96-491f-8855-c364220819c4",
        "colab": {
          "base_uri": "https://localhost:8080/",
          "height": 35
        }
      },
      "source": [
        "for dirname, _, filenames in os.walk('./'):\n",
        "    for filename in filenames:\n",
        "        if 'Online' in filename:\n",
        "            print(os.path.join(dirname, filename))"
      ],
      "execution_count": 3,
      "outputs": [
        {
          "output_type": "stream",
          "text": [
            "./Online Retail.xlsx\n"
          ],
          "name": "stdout"
        }
      ]
    },
    {
      "cell_type": "code",
      "metadata": {
        "id": "3orY3SEERsba",
        "colab_type": "code",
        "outputId": "d84d74b4-6a0a-432f-87c5-0add1e267fb9",
        "colab": {
          "base_uri": "https://localhost:8080/",
          "height": 355
        }
      },
      "source": [
        "df = pd.read_excel('./Online Retail.xlsx', sheet_name=0)\n",
        "df.sample(10)"
      ],
      "execution_count": 4,
      "outputs": [
        {
          "output_type": "execute_result",
          "data": {
            "text/html": [
              "<div>\n",
              "<style scoped>\n",
              "    .dataframe tbody tr th:only-of-type {\n",
              "        vertical-align: middle;\n",
              "    }\n",
              "\n",
              "    .dataframe tbody tr th {\n",
              "        vertical-align: top;\n",
              "    }\n",
              "\n",
              "    .dataframe thead th {\n",
              "        text-align: right;\n",
              "    }\n",
              "</style>\n",
              "<table border=\"1\" class=\"dataframe\">\n",
              "  <thead>\n",
              "    <tr style=\"text-align: right;\">\n",
              "      <th></th>\n",
              "      <th>InvoiceNo</th>\n",
              "      <th>StockCode</th>\n",
              "      <th>Description</th>\n",
              "      <th>Quantity</th>\n",
              "      <th>InvoiceDate</th>\n",
              "      <th>UnitPrice</th>\n",
              "      <th>CustomerID</th>\n",
              "      <th>Country</th>\n",
              "    </tr>\n",
              "  </thead>\n",
              "  <tbody>\n",
              "    <tr>\n",
              "      <th>175304</th>\n",
              "      <td>551950</td>\n",
              "      <td>21506</td>\n",
              "      <td>FANCY FONT BIRTHDAY CARD,</td>\n",
              "      <td>12</td>\n",
              "      <td>2011-05-05 11:38:00</td>\n",
              "      <td>0.42</td>\n",
              "      <td>14911.0</td>\n",
              "      <td>EIRE</td>\n",
              "    </tr>\n",
              "    <tr>\n",
              "      <th>102321</th>\n",
              "      <td>545013</td>\n",
              "      <td>22402</td>\n",
              "      <td>MAGNETS PACK OF 4 VINTAGE COLLAGE</td>\n",
              "      <td>12</td>\n",
              "      <td>2011-02-25 13:09:00</td>\n",
              "      <td>1.25</td>\n",
              "      <td>13093.0</td>\n",
              "      <td>United Kingdom</td>\n",
              "    </tr>\n",
              "    <tr>\n",
              "      <th>105866</th>\n",
              "      <td>545294</td>\n",
              "      <td>22027</td>\n",
              "      <td>TEA PARTY BIRTHDAY CARD</td>\n",
              "      <td>12</td>\n",
              "      <td>2011-03-01 12:07:00</td>\n",
              "      <td>0.42</td>\n",
              "      <td>17965.0</td>\n",
              "      <td>United Kingdom</td>\n",
              "    </tr>\n",
              "    <tr>\n",
              "      <th>242818</th>\n",
              "      <td>558371</td>\n",
              "      <td>23298</td>\n",
              "      <td>SPOTTY BUNTING</td>\n",
              "      <td>24</td>\n",
              "      <td>2011-06-28 15:44:00</td>\n",
              "      <td>10.79</td>\n",
              "      <td>NaN</td>\n",
              "      <td>United Kingdom</td>\n",
              "    </tr>\n",
              "    <tr>\n",
              "      <th>466711</th>\n",
              "      <td>576329</td>\n",
              "      <td>22379</td>\n",
              "      <td>RECYCLING BAG RETROSPOT</td>\n",
              "      <td>3</td>\n",
              "      <td>2011-11-14 15:22:00</td>\n",
              "      <td>4.13</td>\n",
              "      <td>NaN</td>\n",
              "      <td>United Kingdom</td>\n",
              "    </tr>\n",
              "    <tr>\n",
              "      <th>159599</th>\n",
              "      <td>550348</td>\n",
              "      <td>20981</td>\n",
              "      <td>12 PENCILS TALL TUBE WOODLAND</td>\n",
              "      <td>24</td>\n",
              "      <td>2011-04-18 09:38:00</td>\n",
              "      <td>0.85</td>\n",
              "      <td>16947.0</td>\n",
              "      <td>United Kingdom</td>\n",
              "    </tr>\n",
              "    <tr>\n",
              "      <th>309031</th>\n",
              "      <td>564061</td>\n",
              "      <td>23135</td>\n",
              "      <td>SMALL ZINC HEART WALL ORGANISER</td>\n",
              "      <td>2</td>\n",
              "      <td>2011-08-22 14:38:00</td>\n",
              "      <td>5.75</td>\n",
              "      <td>14505.0</td>\n",
              "      <td>United Kingdom</td>\n",
              "    </tr>\n",
              "    <tr>\n",
              "      <th>329325</th>\n",
              "      <td>565841</td>\n",
              "      <td>37327</td>\n",
              "      <td>ASSTD MULTICOLOUR CIRCLES MUG</td>\n",
              "      <td>6</td>\n",
              "      <td>2011-09-07 12:04:00</td>\n",
              "      <td>0.97</td>\n",
              "      <td>NaN</td>\n",
              "      <td>United Kingdom</td>\n",
              "    </tr>\n",
              "    <tr>\n",
              "      <th>521056</th>\n",
              "      <td>580311</td>\n",
              "      <td>22224</td>\n",
              "      <td>WHITE LOVEBIRD LANTERN</td>\n",
              "      <td>6</td>\n",
              "      <td>2011-12-02 14:48:00</td>\n",
              "      <td>2.95</td>\n",
              "      <td>18245.0</td>\n",
              "      <td>United Kingdom</td>\n",
              "    </tr>\n",
              "    <tr>\n",
              "      <th>182119</th>\n",
              "      <td>552520</td>\n",
              "      <td>21524</td>\n",
              "      <td>DOORMAT SPOTTY HOME SWEET HOME</td>\n",
              "      <td>1</td>\n",
              "      <td>2011-05-09 16:34:00</td>\n",
              "      <td>15.79</td>\n",
              "      <td>NaN</td>\n",
              "      <td>United Kingdom</td>\n",
              "    </tr>\n",
              "  </tbody>\n",
              "</table>\n",
              "</div>"
            ],
            "text/plain": [
              "       InvoiceNo StockCode  ... CustomerID         Country\n",
              "175304    551950     21506  ...    14911.0            EIRE\n",
              "102321    545013     22402  ...    13093.0  United Kingdom\n",
              "105866    545294     22027  ...    17965.0  United Kingdom\n",
              "242818    558371     23298  ...        NaN  United Kingdom\n",
              "466711    576329     22379  ...        NaN  United Kingdom\n",
              "159599    550348     20981  ...    16947.0  United Kingdom\n",
              "309031    564061     23135  ...    14505.0  United Kingdom\n",
              "329325    565841     37327  ...        NaN  United Kingdom\n",
              "521056    580311     22224  ...    18245.0  United Kingdom\n",
              "182119    552520     21524  ...        NaN  United Kingdom\n",
              "\n",
              "[10 rows x 8 columns]"
            ]
          },
          "metadata": {
            "tags": []
          },
          "execution_count": 4
        }
      ]
    },
    {
      "cell_type": "code",
      "metadata": {
        "id": "_lDj8qiZV4y0",
        "colab_type": "code",
        "outputId": "16711128-eaa3-4690-c2f4-2f7569245071",
        "colab": {
          "base_uri": "https://localhost:8080/",
          "height": 173
        }
      },
      "source": [
        "df.isnull().sum()"
      ],
      "execution_count": 5,
      "outputs": [
        {
          "output_type": "execute_result",
          "data": {
            "text/plain": [
              "InvoiceNo           0\n",
              "StockCode           0\n",
              "Description      1454\n",
              "Quantity            0\n",
              "InvoiceDate         0\n",
              "UnitPrice           0\n",
              "CustomerID     135080\n",
              "Country             0\n",
              "dtype: int64"
            ]
          },
          "metadata": {
            "tags": []
          },
          "execution_count": 5
        }
      ]
    },
    {
      "cell_type": "markdown",
      "metadata": {
        "id": "8H10vfYwIIde",
        "colab_type": "text"
      },
      "source": [
        ""
      ]
    },
    {
      "cell_type": "code",
      "metadata": {
        "id": "sUyTbgiWIU1P",
        "colab_type": "code",
        "outputId": "b8244e2c-c11f-4c15-92b3-6a8112f7f11b",
        "colab": {
          "base_uri": "https://localhost:8080/",
          "height": 35
        }
      },
      "source": [
        "# remove missing values\n",
        "\n",
        "df.dropna(inplace=True, axis=0)\n",
        "df.isnull().sum()\n",
        "df.shape"
      ],
      "execution_count": 6,
      "outputs": [
        {
          "output_type": "execute_result",
          "data": {
            "text/plain": [
              "(406829, 8)"
            ]
          },
          "metadata": {
            "tags": []
          },
          "execution_count": 6
        }
      ]
    },
    {
      "cell_type": "code",
      "metadata": {
        "id": "qtHc9cFrIuvy",
        "colab_type": "code",
        "outputId": "4cc0269b-daa9-45ed-b03c-2e2c4946ccb2",
        "colab": {
          "base_uri": "https://localhost:8080/",
          "height": 277
        }
      },
      "source": [
        "df.info()"
      ],
      "execution_count": 7,
      "outputs": [
        {
          "output_type": "stream",
          "text": [
            "<class 'pandas.core.frame.DataFrame'>\n",
            "Int64Index: 406829 entries, 0 to 541908\n",
            "Data columns (total 8 columns):\n",
            " #   Column       Non-Null Count   Dtype         \n",
            "---  ------       --------------   -----         \n",
            " 0   InvoiceNo    406829 non-null  object        \n",
            " 1   StockCode    406829 non-null  object        \n",
            " 2   Description  406829 non-null  object        \n",
            " 3   Quantity     406829 non-null  int64         \n",
            " 4   InvoiceDate  406829 non-null  datetime64[ns]\n",
            " 5   UnitPrice    406829 non-null  float64       \n",
            " 6   CustomerID   406829 non-null  float64       \n",
            " 7   Country      406829 non-null  object        \n",
            "dtypes: datetime64[ns](1), float64(2), int64(1), object(4)\n",
            "memory usage: 27.9+ MB\n"
          ],
          "name": "stdout"
        }
      ]
    },
    {
      "cell_type": "code",
      "metadata": {
        "id": "N3CA2JHJLda3",
        "colab_type": "code",
        "colab": {}
      },
      "source": [
        "df.StockCode = df.StockCode.astype('str')"
      ],
      "execution_count": 0,
      "outputs": []
    },
    {
      "cell_type": "code",
      "metadata": {
        "id": "QwXKQpkqJAVp",
        "colab_type": "code",
        "outputId": "983391c5-a702-4c72-fbfa-2d99ba0ac034",
        "colab": {
          "base_uri": "https://localhost:8080/",
          "height": 35
        }
      },
      "source": [
        "# number of unique customers\n",
        "df.CustomerID.nunique()"
      ],
      "execution_count": 9,
      "outputs": [
        {
          "output_type": "execute_result",
          "data": {
            "text/plain": [
              "4372"
            ]
          },
          "metadata": {
            "tags": []
          },
          "execution_count": 9
        }
      ]
    },
    {
      "cell_type": "code",
      "metadata": {
        "id": "lrMZLnVUZRex",
        "colab_type": "code",
        "outputId": "ff2752d6-edba-453c-e3f7-c196b8fa0528",
        "colab": {
          "base_uri": "https://localhost:8080/",
          "height": 225
        }
      },
      "source": [
        "df.CustomerID.value_counts()"
      ],
      "execution_count": 10,
      "outputs": [
        {
          "output_type": "execute_result",
          "data": {
            "text/plain": [
              "17841.0    7983\n",
              "14911.0    5903\n",
              "14096.0    5128\n",
              "12748.0    4642\n",
              "14606.0    2782\n",
              "           ... \n",
              "12943.0       1\n",
              "13135.0       1\n",
              "18068.0       1\n",
              "17347.0       1\n",
              "16093.0       1\n",
              "Name: CustomerID, Length: 4372, dtype: int64"
            ]
          },
          "metadata": {
            "tags": []
          },
          "execution_count": 10
        }
      ]
    },
    {
      "cell_type": "code",
      "metadata": {
        "id": "6jmUrOIbcT2W",
        "colab_type": "code",
        "colab": {}
      },
      "source": [
        "# uniqe customers\n",
        "customers = df.CustomerID.keys().tolist()"
      ],
      "execution_count": 0,
      "outputs": []
    },
    {
      "cell_type": "code",
      "metadata": {
        "id": "HMpJROjuc7-x",
        "colab_type": "code",
        "colab": {}
      },
      "source": [
        "# split the dataset based on the customers\n",
        "# 90% - 10%\n",
        "\n",
        "import random\n",
        "customers_train  = random.sample(customers, int(0.9*len(customers)))\n",
        "\n",
        "# create the train and test dataset\n",
        "train_df = df[df['CustomerID'].isin(customers_train)]\n",
        "valid_df = df[~df['CustomerID'].isin(customers_train)]"
      ],
      "execution_count": 0,
      "outputs": []
    },
    {
      "cell_type": "code",
      "metadata": {
        "id": "_Bz1SxIsPcXc",
        "colab_type": "code",
        "colab": {
          "base_uri": "https://localhost:8080/",
          "height": 52
        },
        "outputId": "c77fdb48-42a1-4867-f0c0-74b7af47da88"
      },
      "source": [
        "print('Shape of the train set ', train_df.shape)\n",
        "print('Shape of the validation set', valid_df.shape)"
      ],
      "execution_count": 13,
      "outputs": [
        {
          "output_type": "stream",
          "text": [
            "Shape of the train set  (226488, 8)\n",
            "Shape of the validation set (180341, 8)\n"
          ],
          "name": "stdout"
        }
      ]
    },
    {
      "cell_type": "code",
      "metadata": {
        "id": "wrSL9FQbKM4S",
        "colab_type": "code",
        "colab": {
          "base_uri": "https://localhost:8080/",
          "height": 87
        },
        "outputId": "c808fb31-95c2-4f74-e5d7-baa8666ff668"
      },
      "source": [
        "%%time\n",
        "\n",
        "# create a list of purchases maded by the customers\n",
        "\n",
        "purchases_train = []\n",
        "purchases_valid = []\n",
        "\n",
        "# populate the list with the product codes\n",
        "\n",
        "for i in tqdm(train_df['CustomerID']):\n",
        "    temp = train_df.loc[train_df['CustomerID'] == i, 'StockCode'].tolist()\n",
        "    purchases_train.append(temp)\n",
        "    \n",
        "for i in tqdm(valid_df['CustomerID']):\n",
        "    temp = valid_df.loc[valid_df['CustomerID'] == i, 'StockCode'].tolist()\n",
        "    purchases_valid.append(temp)"
      ],
      "execution_count": 16,
      "outputs": [
        {
          "output_type": "stream",
          "text": [
            "100%|██████████| 226488/226488 [02:27<00:00, 1531.99it/s]\n",
            "100%|██████████| 180341/180341 [01:49<00:00, 1643.65it/s]"
          ],
          "name": "stderr"
        },
        {
          "output_type": "stream",
          "text": [
            "CPU times: user 4min 17s, sys: 1.46 s, total: 4min 19s\n",
            "Wall time: 4min 18s\n"
          ],
          "name": "stdout"
        },
        {
          "output_type": "stream",
          "text": [
            "\n"
          ],
          "name": "stderr"
        }
      ]
    },
    {
      "cell_type": "code",
      "metadata": {
        "id": "bj5ob3xl2EiL",
        "colab_type": "code",
        "colab": {
          "base_uri": "https://localhost:8080/",
          "height": 35
        },
        "outputId": "e1c51e5d-9bd4-4432-d7be-6cf998e9fd73"
      },
      "source": [
        "cores = multiprocessing.cpu_count() # number of cores available\n",
        "cores"
      ],
      "execution_count": 25,
      "outputs": [
        {
          "output_type": "execute_result",
          "data": {
            "text/plain": [
              "2"
            ]
          },
          "metadata": {
            "tags": []
          },
          "execution_count": 25
        }
      ]
    },
    {
      "cell_type": "code",
      "metadata": {
        "id": "BN_0BPedUJAR",
        "colab_type": "code",
        "colab": {}
      },
      "source": [
        "from gensim.models import Word2Vec\n",
        "\n",
        "# to use skip gram architecture, set sg =1\n",
        "model = Word2Vec(window=5, sg =1, negative= 10,\n",
        "                alpha= 0.03,\n",
        "                min_alpha = 0.0007, \n",
        "                workers = 8,\n",
        "                seed = 1234)"
      ],
      "execution_count": 0,
      "outputs": []
    },
    {
      "cell_type": "code",
      "metadata": {
        "id": "uUTdAJlqXS2u",
        "colab_type": "code",
        "outputId": "a9e69c7e-1670-4dfe-c098-2fa0b558cd5f",
        "colab": {
          "base_uri": "https://localhost:8080/",
          "height": 277
        }
      },
      "source": [
        "%%time\n",
        "model.build_vocab(purchases_train, progress_per= 100000)"
      ],
      "execution_count": 31,
      "outputs": [
        {
          "output_type": "stream",
          "text": [
            "INFO - 05:30:19: collecting all words and their counts\n",
            "INFO - 05:30:19: PROGRESS: at sentence #0, processed 0 words, keeping 0 word types\n",
            "INFO - 05:30:26: PROGRESS: at sentence #100000, processed 59252164 words, keeping 3538 word types\n",
            "INFO - 05:30:35: PROGRESS: at sentence #200000, processed 136392645 words, keeping 3572 word types\n",
            "INFO - 05:30:37: collected 3572 word types from a corpus of 161637462 raw words and 226488 sentences\n",
            "INFO - 05:30:37: Loading a fresh vocabulary\n",
            "INFO - 05:30:37: effective_min_count=5 retains 3572 unique words (100% of original 3572, drops 0)\n",
            "INFO - 05:30:37: effective_min_count=5 leaves 161637462 word corpus (100% of original 161637462, drops 0)\n",
            "INFO - 05:30:37: deleting the raw counts dictionary of 3572 items\n",
            "INFO - 05:30:37: sample=0.001 downsamples 8 most-common words\n",
            "INFO - 05:30:37: downsampling leaves estimated 160959002 word corpus (99.6% of prior 161637462)\n",
            "INFO - 05:30:37: estimated required memory for 3572 words and 100 dimensions: 4643600 bytes\n",
            "INFO - 05:30:37: resetting layer weights\n"
          ],
          "name": "stderr"
        },
        {
          "output_type": "stream",
          "text": [
            "CPU times: user 18.6 s, sys: 13 ms, total: 18.7 s\n",
            "Wall time: 18.7 s\n"
          ],
          "name": "stdout"
        }
      ]
    },
    {
      "cell_type": "code",
      "metadata": {
        "id": "OlNTeskeYSPi",
        "colab_type": "code",
        "colab": {
          "base_uri": "https://localhost:8080/",
          "height": 1000
        },
        "outputId": "85741811-2017-4521-8c01-af0d56182dbd"
      },
      "source": [
        "%%time\n",
        "# train\n",
        "# model.corpus_count is the number of training examples\n",
        "model.train(purchases_train, \n",
        "            total_examples= model.corpus_count,\n",
        "            epochs= 2,\n",
        "            report_delay=60.0, # report every 60 seconds\n",
        "            )"
      ],
      "execution_count": 32,
      "outputs": [
        {
          "output_type": "stream",
          "text": [
            "INFO - 05:30:49: training model with 8 workers on 3572 vocabulary and 100 features, using sg=1 hs=0 sample=0.001 negative=10 window=5\n",
            "INFO - 05:30:51: EPOCH 1 - PROGRESS: at 0.15% examples, 83758 words/s, in_qsize 16, out_qsize 0\n",
            "INFO - 05:31:51: EPOCH 1 - PROGRESS: at 6.40% examples, 147527 words/s, in_qsize 15, out_qsize 0\n",
            "INFO - 05:32:51: EPOCH 1 - PROGRESS: at 13.62% examples, 148095 words/s, in_qsize 15, out_qsize 0\n",
            "INFO - 05:33:51: EPOCH 1 - PROGRESS: at 20.79% examples, 148287 words/s, in_qsize 15, out_qsize 0\n",
            "INFO - 05:34:51: EPOCH 1 - PROGRESS: at 27.46% examples, 148562 words/s, in_qsize 15, out_qsize 1\n",
            "INFO - 05:35:51: EPOCH 1 - PROGRESS: at 34.09% examples, 148805 words/s, in_qsize 15, out_qsize 0\n",
            "INFO - 05:36:51: EPOCH 1 - PROGRESS: at 40.71% examples, 148870 words/s, in_qsize 15, out_qsize 0\n",
            "INFO - 05:37:51: EPOCH 1 - PROGRESS: at 47.26% examples, 148614 words/s, in_qsize 15, out_qsize 1\n",
            "INFO - 05:38:51: EPOCH 1 - PROGRESS: at 53.29% examples, 148694 words/s, in_qsize 15, out_qsize 0\n",
            "INFO - 05:39:52: EPOCH 1 - PROGRESS: at 59.51% examples, 148644 words/s, in_qsize 15, out_qsize 0\n",
            "INFO - 05:40:52: EPOCH 1 - PROGRESS: at 64.08% examples, 149001 words/s, in_qsize 15, out_qsize 0\n",
            "INFO - 05:41:52: EPOCH 1 - PROGRESS: at 68.65% examples, 148727 words/s, in_qsize 15, out_qsize 0\n",
            "INFO - 05:42:52: EPOCH 1 - PROGRESS: at 73.40% examples, 149314 words/s, in_qsize 14, out_qsize 1\n",
            "INFO - 05:43:52: EPOCH 1 - PROGRESS: at 78.87% examples, 149641 words/s, in_qsize 12, out_qsize 4\n",
            "INFO - 05:44:52: EPOCH 1 - PROGRESS: at 83.96% examples, 149870 words/s, in_qsize 15, out_qsize 0\n",
            "INFO - 05:45:52: EPOCH 1 - PROGRESS: at 88.00% examples, 150145 words/s, in_qsize 16, out_qsize 0\n",
            "INFO - 05:46:52: EPOCH 1 - PROGRESS: at 92.65% examples, 150389 words/s, in_qsize 15, out_qsize 0\n",
            "INFO - 05:47:52: EPOCH 1 - PROGRESS: at 96.97% examples, 150591 words/s, in_qsize 15, out_qsize 0\n",
            "INFO - 05:48:36: worker thread finished; awaiting finish of 7 more threads\n",
            "INFO - 05:48:36: worker thread finished; awaiting finish of 6 more threads\n",
            "INFO - 05:48:36: worker thread finished; awaiting finish of 5 more threads\n",
            "INFO - 05:48:36: worker thread finished; awaiting finish of 4 more threads\n",
            "INFO - 05:48:36: worker thread finished; awaiting finish of 3 more threads\n",
            "INFO - 05:48:36: worker thread finished; awaiting finish of 2 more threads\n",
            "INFO - 05:48:36: worker thread finished; awaiting finish of 1 more threads\n",
            "INFO - 05:48:36: worker thread finished; awaiting finish of 0 more threads\n",
            "INFO - 05:48:36: EPOCH - 1 : training on 161637462 raw words (160958411 effective words) took 1067.1s, 150843 effective words/s\n",
            "INFO - 05:48:37: EPOCH 2 - PROGRESS: at 0.15% examples, 92640 words/s, in_qsize 15, out_qsize 1\n",
            "INFO - 05:49:38: EPOCH 2 - PROGRESS: at 6.40% examples, 147889 words/s, in_qsize 14, out_qsize 1\n",
            "INFO - 05:50:38: EPOCH 2 - PROGRESS: at 13.50% examples, 146830 words/s, in_qsize 15, out_qsize 0\n",
            "INFO - 05:51:38: EPOCH 2 - PROGRESS: at 20.47% examples, 143588 words/s, in_qsize 15, out_qsize 0\n",
            "INFO - 05:52:38: EPOCH 2 - PROGRESS: at 26.45% examples, 143896 words/s, in_qsize 15, out_qsize 0\n",
            "INFO - 05:53:38: EPOCH 2 - PROGRESS: at 33.12% examples, 144175 words/s, in_qsize 15, out_qsize 0\n",
            "INFO - 05:54:38: EPOCH 2 - PROGRESS: at 39.59% examples, 144084 words/s, in_qsize 15, out_qsize 0\n",
            "INFO - 05:55:38: EPOCH 2 - PROGRESS: at 46.08% examples, 143804 words/s, in_qsize 16, out_qsize 0\n",
            "INFO - 05:56:38: EPOCH 2 - PROGRESS: at 51.91% examples, 143731 words/s, in_qsize 15, out_qsize 0\n",
            "INFO - 05:57:38: EPOCH 2 - PROGRESS: at 57.95% examples, 143520 words/s, in_qsize 15, out_qsize 0\n",
            "INFO - 05:58:38: EPOCH 2 - PROGRESS: at 62.71% examples, 143788 words/s, in_qsize 15, out_qsize 0\n",
            "INFO - 05:59:38: EPOCH 2 - PROGRESS: at 66.76% examples, 144399 words/s, in_qsize 15, out_qsize 0\n",
            "INFO - 06:00:38: EPOCH 2 - PROGRESS: at 72.24% examples, 144763 words/s, in_qsize 15, out_qsize 0\n",
            "INFO - 06:01:38: EPOCH 2 - PROGRESS: at 76.15% examples, 144475 words/s, in_qsize 15, out_qsize 0\n",
            "INFO - 06:02:38: EPOCH 2 - PROGRESS: at 81.87% examples, 144418 words/s, in_qsize 15, out_qsize 0\n",
            "INFO - 06:03:38: EPOCH 2 - PROGRESS: at 85.93% examples, 144392 words/s, in_qsize 15, out_qsize 0\n",
            "INFO - 06:04:38: EPOCH 2 - PROGRESS: at 90.72% examples, 144265 words/s, in_qsize 15, out_qsize 0\n",
            "INFO - 06:05:38: EPOCH 2 - PROGRESS: at 93.94% examples, 144260 words/s, in_qsize 15, out_qsize 0\n",
            "INFO - 06:06:39: EPOCH 2 - PROGRESS: at 97.66% examples, 144207 words/s, in_qsize 16, out_qsize 1\n",
            "INFO - 06:07:13: worker thread finished; awaiting finish of 7 more threads\n",
            "INFO - 06:07:13: worker thread finished; awaiting finish of 6 more threads\n",
            "INFO - 06:07:13: worker thread finished; awaiting finish of 5 more threads\n",
            "INFO - 06:07:14: worker thread finished; awaiting finish of 4 more threads\n",
            "INFO - 06:07:14: worker thread finished; awaiting finish of 3 more threads\n",
            "INFO - 06:07:14: worker thread finished; awaiting finish of 2 more threads\n",
            "INFO - 06:07:14: worker thread finished; awaiting finish of 1 more threads\n",
            "INFO - 06:07:14: worker thread finished; awaiting finish of 0 more threads\n",
            "INFO - 06:07:14: EPOCH - 2 : training on 161637462 raw words (160958490 effective words) took 1117.2s, 144070 effective words/s\n",
            "INFO - 06:07:14: training on a 323274924 raw words (321916901 effective words) took 2184.3s, 147378 effective words/s\n"
          ],
          "name": "stderr"
        },
        {
          "output_type": "stream",
          "text": [
            "CPU times: user 1h 11min 34s, sys: 6.26 s, total: 1h 11min 41s\n",
            "Wall time: 36min 24s\n"
          ],
          "name": "stdout"
        },
        {
          "output_type": "execute_result",
          "data": {
            "text/plain": [
              "(321916901, 323274924)"
            ]
          },
          "metadata": {
            "tags": []
          },
          "execution_count": 32
        }
      ]
    },
    {
      "cell_type": "code",
      "metadata": {
        "id": "cnHxrO1bfvv5",
        "colab_type": "code",
        "colab": {
          "base_uri": "https://localhost:8080/",
          "height": 35
        },
        "outputId": "1efb515c-7b4a-4f7d-c983-7d850a124173"
      },
      "source": [
        "# As we do not plan to train the model any further, we are calling init_sims(), which will make the model much more memory-efficient:\n",
        "model.init_sims(replace=True)"
      ],
      "execution_count": 33,
      "outputs": [
        {
          "output_type": "stream",
          "text": [
            "INFO - 06:08:32: precomputing L2-norms of word weight vectors\n"
          ],
          "name": "stderr"
        }
      ]
    },
    {
      "cell_type": "code",
      "metadata": {
        "id": "e6FaLOa-_1ZJ",
        "colab_type": "code",
        "colab": {
          "base_uri": "https://localhost:8080/",
          "height": 35
        },
        "outputId": "a68a87a1-8e52-49f7-ae01-6176f74fbce8"
      },
      "source": [
        "print(model)"
      ],
      "execution_count": 34,
      "outputs": [
        {
          "output_type": "stream",
          "text": [
            "Word2Vec(vocab=3572, size=100, alpha=0.03)\n"
          ],
          "name": "stdout"
        }
      ]
    },
    {
      "cell_type": "code",
      "metadata": {
        "id": "_NZMQ2uF_3vt",
        "colab_type": "code",
        "colab": {
          "base_uri": "https://localhost:8080/",
          "height": 35
        },
        "outputId": "fbb1bc13-88e0-4ffc-d643-1f5447817d2d"
      },
      "source": [
        "# extract all vectors\n",
        "X = model[model.wv.vocab]\n",
        "X.shape"
      ],
      "execution_count": 37,
      "outputs": [
        {
          "output_type": "execute_result",
          "data": {
            "text/plain": [
              "(3572, 100)"
            ]
          },
          "metadata": {
            "tags": []
          },
          "execution_count": 37
        }
      ]
    },
    {
      "cell_type": "code",
      "metadata": {
        "id": "maSy0mZXAD7L",
        "colab_type": "code",
        "colab": {}
      },
      "source": [
        "import pickle\n",
        "pickle.dump(X, open('X_vector.pkl', 'wb'))"
      ],
      "execution_count": 0,
      "outputs": []
    },
    {
      "cell_type": "code",
      "metadata": {
        "id": "Is3xaN7iAeHS",
        "colab_type": "code",
        "colab": {
          "base_uri": "https://localhost:8080/",
          "height": 555
        },
        "outputId": "f7a93677-a41b-47ce-f7a0-cf1b63c58a5d"
      },
      "source": [
        "# Visualize word2vec embeddings\n",
        "\n",
        "import umap\n",
        "cluster_embeddings = umap.UMAP(n_neighbors= 30, n_components = 2, min_dist= 0.0, random_state= 42).fit_transform(X)\n",
        "\n",
        "plt.figure(figsize= (10, 9))\n",
        "plt.scatter(cluster_embeddings[:,0], cluster_embeddings[:, 1], s=3)"
      ],
      "execution_count": 44,
      "outputs": [
        {
          "output_type": "execute_result",
          "data": {
            "text/plain": [
              "<matplotlib.collections.PathCollection at 0x7f75a3bca7f0>"
            ]
          },
          "metadata": {
            "tags": []
          },
          "execution_count": 44
        },
        {
          "output_type": "display_data",
          "data": {
            "image/png": "[encoded data removed]",
            "text/plain": [
              "<Figure size 720x648 with 1 Axes>"
            ]
          },
          "metadata": {
            "tags": [],
            "needs_background": "light"
          }
        }
      ]
    },
    {
      "cell_type": "markdown",
      "metadata": {
        "id": "lnhWwzDPLuf3",
        "colab_type": "text"
      },
      "source": [
        "Now that we have created word2vec embeddings for every product, which is based on the product code or StockCode, we can identify similar products based on their embeddings"
      ]
    },
    {
      "cell_type": "code",
      "metadata": {
        "id": "DlMfwDTjJV3T",
        "colab_type": "code",
        "colab": {
          "base_uri": "https://localhost:8080/",
          "height": 415
        },
        "outputId": "f7cb2f5c-4bc8-4ccc-c3a4-2aeec6f983a0"
      },
      "source": [
        "products = train_df[['StockCode', 'Description']]\n",
        "\n",
        "products.drop_duplicates(subset='StockCode', inplace=True, keep= 'last')\n",
        "products"
      ],
      "execution_count": 47,
      "outputs": [
        {
          "output_type": "execute_result",
          "data": {
            "text/html": [
              "<div>\n",
              "<style scoped>\n",
              "    .dataframe tbody tr th:only-of-type {\n",
              "        vertical-align: middle;\n",
              "    }\n",
              "\n",
              "    .dataframe tbody tr th {\n",
              "        vertical-align: top;\n",
              "    }\n",
              "\n",
              "    .dataframe thead th {\n",
              "        text-align: right;\n",
              "    }\n",
              "</style>\n",
              "<table border=\"1\" class=\"dataframe\">\n",
              "  <thead>\n",
              "    <tr style=\"text-align: right;\">\n",
              "      <th></th>\n",
              "      <th>StockCode</th>\n",
              "      <th>Description</th>\n",
              "    </tr>\n",
              "  </thead>\n",
              "  <tbody>\n",
              "    <tr>\n",
              "      <th>902</th>\n",
              "      <td>21895</td>\n",
              "      <td>POTTING SHED SOW 'N' GROW SET</td>\n",
              "    </tr>\n",
              "    <tr>\n",
              "      <th>1985</th>\n",
              "      <td>20957</td>\n",
              "      <td>PORCELAIN HANGING BELL SMALL</td>\n",
              "    </tr>\n",
              "    <tr>\n",
              "      <th>2457</th>\n",
              "      <td>21488</td>\n",
              "      <td>RED WHITE SCARF  HOT WATER BOTTLE</td>\n",
              "    </tr>\n",
              "    <tr>\n",
              "      <th>3103</th>\n",
              "      <td>35271S</td>\n",
              "      <td>GOLD PRINT PAPER BAG</td>\n",
              "    </tr>\n",
              "    <tr>\n",
              "      <th>5024</th>\n",
              "      <td>16161M</td>\n",
              "      <td>WRAP  PINK FLOCK</td>\n",
              "    </tr>\n",
              "    <tr>\n",
              "      <th>...</th>\n",
              "      <td>...</td>\n",
              "      <td>...</td>\n",
              "    </tr>\n",
              "    <tr>\n",
              "      <th>541904</th>\n",
              "      <td>22613</td>\n",
              "      <td>PACK OF 20 SPACEBOY NAPKINS</td>\n",
              "    </tr>\n",
              "    <tr>\n",
              "      <th>541905</th>\n",
              "      <td>22899</td>\n",
              "      <td>CHILDREN'S APRON DOLLY GIRL</td>\n",
              "    </tr>\n",
              "    <tr>\n",
              "      <th>541906</th>\n",
              "      <td>23254</td>\n",
              "      <td>CHILDRENS CUTLERY DOLLY GIRL</td>\n",
              "    </tr>\n",
              "    <tr>\n",
              "      <th>541907</th>\n",
              "      <td>23255</td>\n",
              "      <td>CHILDRENS CUTLERY CIRCUS PARADE</td>\n",
              "    </tr>\n",
              "    <tr>\n",
              "      <th>541908</th>\n",
              "      <td>22138</td>\n",
              "      <td>BAKING SET 9 PIECE RETROSPOT</td>\n",
              "    </tr>\n",
              "  </tbody>\n",
              "</table>\n",
              "<p>3572 rows × 2 columns</p>\n",
              "</div>"
            ],
            "text/plain": [
              "       StockCode                        Description\n",
              "902        21895      POTTING SHED SOW 'N' GROW SET\n",
              "1985       20957       PORCELAIN HANGING BELL SMALL\n",
              "2457       21488  RED WHITE SCARF  HOT WATER BOTTLE\n",
              "3103      35271S               GOLD PRINT PAPER BAG\n",
              "5024      16161M                   WRAP  PINK FLOCK\n",
              "...          ...                                ...\n",
              "541904     22613        PACK OF 20 SPACEBOY NAPKINS\n",
              "541905     22899       CHILDREN'S APRON DOLLY GIRL \n",
              "541906     23254      CHILDRENS CUTLERY DOLLY GIRL \n",
              "541907     23255    CHILDRENS CUTLERY CIRCUS PARADE\n",
              "541908     22138      BAKING SET 9 PIECE RETROSPOT \n",
              "\n",
              "[3572 rows x 2 columns]"
            ]
          },
          "metadata": {
            "tags": []
          },
          "execution_count": 47
        }
      ]
    },
    {
      "cell_type": "code",
      "metadata": {
        "id": "DnsBsat2Md0w",
        "colab_type": "code",
        "colab": {
          "base_uri": "https://localhost:8080/",
          "height": 191
        },
        "outputId": "d2c5046a-4681-47ac-e7de-8eedb51e541a"
      },
      "source": [
        "# creating a product-id and product-description dictionary\n",
        "\n",
        "product_dict = products.groupby('StockCode')['Description'].apply(list).to_dict()\n",
        "\n",
        "# check a sample\n",
        "keys = random.sample(list(product_dict), 10)\n",
        "list(zip(keys, [product_dict[k] for k in keys]))"
      ],
      "execution_count": 82,
      "outputs": [
        {
          "output_type": "execute_result",
          "data": {
            "text/plain": [
              "[('23318', ['BOX OF 6 MINI VINTAGE CRACKERS']),\n",
              " ('21128', ['GOLD FISHING GNOME']),\n",
              " ('21793', ['CLASSIC FRENCH STYLE BASKET BROWN']),\n",
              " ('22910', ['PAPER CHAIN KIT VINTAGE CHRISTMAS']),\n",
              " ('21392', ['RED POLKADOT PUDDING BOWL']),\n",
              " ('22858', ['EASTER TIN KEEPSAKE']),\n",
              " ('20695', ['FLORAL BLUE MONSTER']),\n",
              " ('21877', ['HOME SWEET HOME MUG']),\n",
              " ('22920', ['HERB MARKER BASIL']),\n",
              " ('21192', ['WHITE BELL HONEYCOMB PAPER '])]"
            ]
          },
          "metadata": {
            "tags": []
          },
          "execution_count": 82
        }
      ]
    },
    {
      "cell_type": "code",
      "metadata": {
        "id": "z8T2DanUNrEA",
        "colab_type": "code",
        "colab": {
          "base_uri": "https://localhost:8080/",
          "height": 104
        },
        "outputId": "f81e2e44-52e5-4113-bc69-f97613561c4e"
      },
      "source": [
        "# Given a product embedding, find products with similar embeddings\n",
        "temp1 = model.most_similar('21785', topn=5)\n",
        "temp1"
      ],
      "execution_count": 97,
      "outputs": [
        {
          "output_type": "execute_result",
          "data": {
            "text/plain": [
              "[('85179A', 0.6353557109832764),\n",
              " ('21786', 0.6351869702339172),\n",
              " ('20980', 0.5926169157028198),\n",
              " ('84827', 0.5493873357772827),\n",
              " ('21544', 0.5321046113967896)]"
            ]
          },
          "metadata": {
            "tags": []
          },
          "execution_count": 97
        }
      ]
    },
    {
      "cell_type": "code",
      "metadata": {
        "id": "rJ9t4pnaPxAz",
        "colab_type": "code",
        "colab": {
          "base_uri": "https://localhost:8080/",
          "height": 104
        },
        "outputId": "35a0d0d0-8e7b-4a09-e5dc-7327fac1284d"
      },
      "source": [
        "for j in temp1:\n",
        "    print(product_dict[j[0]][0], j[1])"
      ],
      "execution_count": 95,
      "outputs": [
        {
          "output_type": "stream",
          "text": [
            "GREEN BITTY LIGHT CHAIN 0.6353557109832764\n",
            "POLKADOT RAIN HAT  0.6351869702339172\n",
            "36 PENCILS TUBE POSY 0.5926169157028198\n",
            "ASS DES PHONE SPONGE CRAFT STICKER 0.5493873357772827\n",
            "SKULLS  WATER TRANSFER TATTOOS  0.5321046113967896\n"
          ],
          "name": "stdout"
        }
      ]
    },
    {
      "cell_type": "code",
      "metadata": {
        "id": "c3KI0JWLVN-1",
        "colab_type": "code",
        "colab": {}
      },
      "source": [
        " #find 6 most similar products\n",
        "\n",
        "def similar_products(v, n =6):\n",
        "\n",
        "    # extract most similar products for the input vector\n",
        "    ms = model.most_similar(v, topn = n+1)\n",
        "\n",
        "    # extract name and similarity scores for similar products\n",
        "    new_ms= []\n",
        "    for j in ms:\n",
        "        pair = (product_dict[j[0]][0], j[1])\n",
        "        new_ms.append(pair)\n",
        "\n",
        "    return new_ms"
      ],
      "execution_count": 0,
      "outputs": []
    },
    {
      "cell_type": "code",
      "metadata": {
        "id": "SJxb1MBJX88q",
        "colab_type": "code",
        "colab": {
          "base_uri": "https://localhost:8080/",
          "height": 191
        },
        "outputId": "c59cd00c-c324-4a3a-997b-d288c8749a8d"
      },
      "source": [
        "# testing\n",
        "stock_code_test = '90019A'\n",
        "print('Product description of the code: {} is {}'.format(stock_code_test, product_dict[stock_code_test]))\n",
        "print('\\nFind similar products for the product code:{}'.format(stock_code_test))\n",
        "similar_products(stock_code_test)"
      ],
      "execution_count": 108,
      "outputs": [
        {
          "output_type": "stream",
          "text": [
            "Product description of the code: 90019A is ['SILVER M.O.P ORBIT BRACELET']\n",
            "\n",
            "Find similar products for the product code:90019A\n"
          ],
          "name": "stdout"
        },
        {
          "output_type": "execute_result",
          "data": {
            "text/plain": [
              "[('BAROQUE BUTTERFLY EARRINGS BLACK', 0.7397165298461914),\n",
              " ('CLEAR ACRYLIC FACETED BANGLE', 0.7394231557846069),\n",
              " ('ANTIQUE OLIVE GREEN FLOWER EARRINGS', 0.684190034866333),\n",
              " ('WHITE  ROSEBUD PEARL BRACELET', 0.6607744693756104),\n",
              " ('AMBER GLASS TASSLE BAG CHARM', 0.6382941603660583),\n",
              " ('SILVER BRACELET W PASTEL FLOWER', 0.6322119235992432),\n",
              " ('CRACKED GLAZE EARRINGS RED', 0.6224693059921265)]"
            ]
          },
          "metadata": {
            "tags": []
          },
          "execution_count": 108
        }
      ]
    },
    {
      "cell_type": "code",
      "metadata": {
        "id": "-yRktr0PYHm2",
        "colab_type": "code",
        "colab": {}
      },
      "source": [
        ""
      ],
      "execution_count": 0,
      "outputs": []
    }
  ]
}