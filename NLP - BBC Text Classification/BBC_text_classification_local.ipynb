{
  "nbformat": 4,
  "nbformat_minor": 0,
  "metadata": {
    "colab": {
      "name": "BBC text classification -local.ipynb",
      "provenance": []
    },
    "kernelspec": {
      "name": "python3",
      "display_name": "Python 3"
    }
  },
  "cells": [
    {
      "cell_type": "code",
      "metadata": {
        "id": "CJTmfl3VKRuc",
        "colab_type": "code",
        "colab": {}
      },
      "source": [
        "import os\n",
        "if not os.path.exists('./bbc-text.csv'):\n",
        "  !wget https://storage.googleapis.com/dataset-uploader/bbc/bbc-text.csv"
      ],
      "execution_count": 0,
      "outputs": []
    },
    {
      "cell_type": "code",
      "metadata": {
        "id": "wvivejJ8KVM4",
        "colab_type": "code",
        "colab": {
          "base_uri": "https://localhost:8080/",
          "height": 35
        },
        "outputId": "af9dd23c-1c70-4620-a595-7bfd94c15f6b"
      },
      "source": [
        "import os\n",
        "for dirname, _, filenames in os.walk('./'):\n",
        "  for filename in filenames:\n",
        "    if 'bbc' in filename:\n",
        "      print(os.path.join(dirname, filename))"
      ],
      "execution_count": 6,
      "outputs": [
        {
          "output_type": "stream",
          "text": [
            "./bbc-text.csv\n"
          ],
          "name": "stdout"
        }
      ]
    },
    {
      "cell_type": "code",
      "metadata": {
        "id": "DBVTZo-fK-lD",
        "colab_type": "code",
        "colab": {
          "base_uri": "https://localhost:8080/",
          "height": 121
        },
        "outputId": "9b227cda-ff5d-4e39-b9f5-15fc991c4597"
      },
      "source": [
        "import pandas as pd\n",
        "import numpy as np\n",
        "\n",
        "import seaborn as sns\n",
        "import matplotlib.pyplot as plt\n",
        "%matplotlib inline\n",
        "\n",
        "import nltk\n",
        "nltk.download('punkt')\n",
        "nltk.download('stopwords')\n",
        "nltk.download('wordnet')\n",
        "\n",
        "import re\n",
        "\n",
        "import sklearn\n",
        "\n",
        "import warnings\n",
        "warnings.filterwarnings(\"ignore\")"
      ],
      "execution_count": 70,
      "outputs": [
        {
          "output_type": "stream",
          "text": [
            "[nltk_data] Downloading package punkt to /root/nltk_data...\n",
            "[nltk_data]   Package punkt is already up-to-date!\n",
            "[nltk_data] Downloading package stopwords to /root/nltk_data...\n",
            "[nltk_data]   Package stopwords is already up-to-date!\n",
            "[nltk_data] Downloading package wordnet to /root/nltk_data...\n",
            "[nltk_data]   Package wordnet is already up-to-date!\n"
          ],
          "name": "stdout"
        }
      ]
    },
    {
      "cell_type": "code",
      "metadata": {
        "id": "YzMecPGYLnct",
        "colab_type": "code",
        "colab": {
          "base_uri": "https://localhost:8080/",
          "height": 364
        },
        "outputId": "a5b0707d-6236-4434-9997-4b4ae1221dad"
      },
      "source": [
        "# read the dataframe\n",
        "\n",
        "df = pd.read_csv('./bbc-text.csv', engine='c')\n",
        "\n",
        "print('dataset shape', df.shape)\n",
        "print(df.sample(10))\n",
        "\n",
        "print('\\nNumber of categories\\n', df.category.value_counts())"
      ],
      "execution_count": 13,
      "outputs": [
        {
          "output_type": "stream",
          "text": [
            "dataset shape (2225, 2)\n",
            "           category                                               text\n",
            "1128          sport  capriati to miss melbourne jennifer capriati h...\n",
            "1606          sport  edu describes tunnel fracas arsenal s edu has ...\n",
            "1810       business  yukos unit fetches $9bn at auction a little-kn...\n",
            "1939          sport  england claim dubai sevens glory england beat ...\n",
            "685        business  iraq and afghanistan in wto talks the world tr...\n",
            "222           sport  gardener battles to narrow win jason gardener ...\n",
            "1457          sport  iranian misses israel match iranian striker va...\n",
            "570   entertainment  us actor  found with gun residue  actor robert...\n",
            "1378  entertainment  singer christina aguilera to wed pop star chri...\n",
            "377        politics  top tories on lib dem  hit list  the liberal d...\n",
            "\n",
            "Number of categories\n",
            " sport            511\n",
            "business         510\n",
            "politics         417\n",
            "tech             401\n",
            "entertainment    386\n",
            "Name: category, dtype: int64\n"
          ],
          "name": "stdout"
        }
      ]
    },
    {
      "cell_type": "code",
      "metadata": {
        "id": "GBcHzrqdL5kX",
        "colab_type": "code",
        "colab": {
          "base_uri": "https://localhost:8080/",
          "height": 297
        },
        "outputId": "404326be-d79c-4edc-af74-2741031b98fa"
      },
      "source": [
        "sns.countplot(df['category'])"
      ],
      "execution_count": 14,
      "outputs": [
        {
          "output_type": "execute_result",
          "data": {
            "text/plain": [
              "<matplotlib.axes._subplots.AxesSubplot at 0x7f3041f59e10>"
            ]
          },
          "metadata": {
            "tags": []
          },
          "execution_count": 14
        },
        {
          "output_type": "display_data",
          "data": {
            "image/png": "[encoded data removed]",
            "text/plain": [
              "<Figure size 432x288 with 1 Axes>"
            ]
          },
          "metadata": {
            "tags": [],
            "needs_background": "light"
          }
        }
      ]
    },
    {
      "cell_type": "markdown",
      "metadata": {
        "id": "Csb-x4GkMno7",
        "colab_type": "text"
      },
      "source": [
        "Data cleansing"
      ]
    },
    {
      "cell_type": "code",
      "metadata": {
        "id": "u7riJbBJMfea",
        "colab_type": "code",
        "colab": {
          "base_uri": "https://localhost:8080/",
          "height": 295
        },
        "outputId": "d4ff9972-e5b2-43a0-9eee-c5c8d8b1a5f9"
      },
      "source": [
        "print('Data cleansing in progress.......')\n",
        "\n",
        "# keep only words and remove punctuations and special characters\n",
        "regex = re.compile('[A-za-z]{2,}')\n",
        "df['clean_text'] = df['text'].apply(lambda text: regex.findall(text.lower()))\n",
        "# join the text back\n",
        "df['clean_text'] = df['clean_text'].apply(lambda x: ' '.join([item for item in x]))\n",
        "\n",
        "# tokenize using 'nltk.word_tokenize'\n",
        "df['clean_text']  = df['clean_text'].apply(nltk.word_tokenize)\n",
        "print('tokenization complete.........')\n",
        "\n",
        "# remove stop words\n",
        "stop_words = set(nltk.corpus.stopwords.words('english'))\n",
        "df['clean_text'] = df['clean_text'].apply(lambda x: [item for item in x if item not in stop_words])\n",
        "print('removed stop words..........')\n",
        "\n",
        "# Lemmatization\n",
        "lem = nltk.stem.WordNetLemmatizer()\n",
        "df['clean_text'] = df['clean_text'].apply(lambda x: [lem.lemmatize(w, pos='v') for w in x])\n",
        "\n",
        "print('Lemmatization complete. Data cleaning complete')\n",
        "df['clean_text']"
      ],
      "execution_count": 55,
      "outputs": [
        {
          "output_type": "stream",
          "text": [
            "Data cleansing in progress.......\n",
            "tokenization complete.........\n",
            "removed stop words..........\n",
            "Lemmatization complete. Data cleaning complete\n"
          ],
          "name": "stdout"
        },
        {
          "output_type": "execute_result",
          "data": {
            "text/plain": [
              "0       [tv, future, hand, viewers, home, theatre, sys...\n",
              "1       [worldcom, boss, leave, book, alone, former, w...\n",
              "2       [tigers, wary, farrell, gamble, leicester, say...\n",
              "3       [yeading, face, newcastle, fa, cup, premiershi...\n",
              "4       [ocean, twelve, raid, box, office, ocean, twel...\n",
              "                              ...                        \n",
              "2220    [cars, pull, us, retail, figure, us, retail, s...\n",
              "2221    [kilroy, unveil, immigration, policy, ex, chat...\n",
              "2222    [rem, announce, new, glasgow, concert, us, ban...\n",
              "2223    [political, squabble, snowball, become, common...\n",
              "2224    [souness, delight, euro, progress, boss, graem...\n",
              "Name: clean_text, Length: 2225, dtype: object"
            ]
          },
          "metadata": {
            "tags": []
          },
          "execution_count": 55
        }
      ]
    },
    {
      "cell_type": "markdown",
      "metadata": {
        "id": "zr4mF1qAXnPT",
        "colab_type": "text"
      },
      "source": [
        "Classification using a `word2vec`\n",
        "Create embedding for the tokens using `word2vec` model\n",
        "The trained word vectors are stored in a `KeyedVectors` instance in `model.wv` as per [document](https://radimrehurek.com/gensim/models/word2vec.html)\n",
        "> vector = model.wv['computer']  # numpy vector of a word\n",
        "\n",
        "> `wv.index2word`: contain the word tokens\n",
        "\n",
        "> `wv.syn0` hold the raw vector representation as per [link](https://stackoverflow.com/questions/53301916/python-gensim-what-is-the-meaning-of-syn0-and-syn0norm)"
      ]
    },
    {
      "cell_type": "code",
      "metadata": {
        "id": "SxNXDW5EMr33",
        "colab_type": "code",
        "colab": {}
      },
      "source": [
        "from gensim.models import Word2Vec"
      ],
      "execution_count": 0,
      "outputs": []
    },
    {
      "cell_type": "code",
      "metadata": {
        "id": "TxfXDUnkPPSd",
        "colab_type": "code",
        "colab": {
          "base_uri": "https://localhost:8080/",
          "height": 1000
        },
        "outputId": "7f408490-1f7e-4679-cf82-74839ba80849"
      },
      "source": [
        "vec_model = Word2Vec(df['clean_text'])\n",
        "\n",
        "# combine the tokens with their vector representaions\n",
        "\n",
        "w2v = dict(zip(vec_model.wv.index2word, vec_model.wv.syn0))\n",
        "\n",
        "# randomly sample from the dictionary\n",
        "import random\n",
        "random.sample(w2v.items(), 3)"
      ],
      "execution_count": 69,
      "outputs": [
        {
          "output_type": "execute_result",
          "data": {
            "text/plain": [
              "[('charvis',\n",
              "  array([-6.35777488e-02, -3.82974111e-02, -4.10571042e-03, -2.70215608e-02,\n",
              "          2.60622855e-02,  1.03679456e-01, -1.03018165e-01,  1.16622131e-02,\n",
              "         -3.14209908e-02,  1.83630157e-02, -2.08866373e-02,  7.50203133e-02,\n",
              "         -6.58371137e-04, -7.08387047e-02,  6.55803904e-02,  1.71736646e-02,\n",
              "          3.03957649e-02, -3.75988707e-02, -2.04417296e-02, -1.20868618e-02,\n",
              "          8.04764777e-03, -9.82072800e-02, -3.59310731e-02,  2.53179651e-02,\n",
              "         -1.17174089e-02, -3.08029130e-02,  4.91798297e-03, -1.30077541e-01,\n",
              "         -8.87581259e-02,  1.88616067e-02,  4.01199833e-02, -1.11953892e-01,\n",
              "         -4.66816273e-04, -6.78891968e-03, -8.07297304e-02,  5.79738244e-02,\n",
              "          6.56713471e-02,  2.06460804e-03,  5.53929713e-03, -4.97841351e-02,\n",
              "         -5.14394045e-02,  1.17916828e-02,  4.00030054e-02,  1.05050407e-01,\n",
              "         -8.63436908e-02,  1.25413805e-01,  4.87769581e-02, -5.89469122e-03,\n",
              "         -3.64966281e-02, -2.07839683e-02,  5.49481809e-02,  5.03681973e-03,\n",
              "         -4.81145084e-03, -1.21010989e-02, -2.33114231e-02, -7.07489029e-02,\n",
              "          3.69221754e-02,  8.53968412e-02,  2.36106701e-02, -8.38087499e-03,\n",
              "         -3.12980600e-02, -1.53577123e-02,  1.02788191e-02,  6.18489785e-03,\n",
              "         -5.00174165e-02,  1.48895364e-02,  1.09649934e-02, -4.87589501e-02,\n",
              "          7.45558515e-02,  1.36928201e-01, -1.47463292e-01,  7.17847329e-03,\n",
              "         -4.24191579e-02,  5.54586947e-02,  1.20478779e-01,  3.14652584e-02,\n",
              "         -1.65309794e-02,  9.33731161e-03,  7.99157992e-02, -1.31926492e-01,\n",
              "          2.35214252e-02, -5.28935157e-02, -1.17683008e-01, -7.53554190e-03,\n",
              "         -2.72967443e-02,  7.20910206e-02,  1.55753464e-01,  8.31063539e-02,\n",
              "          1.73749365e-02, -2.50646789e-02,  4.86106165e-02,  5.92153482e-02,\n",
              "         -4.92586792e-02,  7.80024454e-02, -5.16229719e-02,  6.38521165e-02,\n",
              "         -3.60703059e-02,  2.61578560e-02,  6.91274181e-05, -7.81841725e-02],\n",
              "        dtype=float32)),\n",
              " ('com',\n",
              "  array([-0.21930543, -0.17957972,  0.09444503, -0.01443598,  0.2724549 ,\n",
              "          0.48055056, -0.2579865 , -0.04130384, -0.16130933,  0.23092239,\n",
              "         -0.26410624,  0.24157079, -0.11239588, -0.17001934,  0.10743859,\n",
              "          0.12810117, -0.03245788,  0.02745963, -0.26384738, -0.19064912,\n",
              "          0.21562618, -0.3618004 , -0.18661775,  0.18618661, -0.1494088 ,\n",
              "         -0.15604687,  0.01951562, -0.7447426 , -0.35429123,  0.07519298,\n",
              "          0.31357053, -0.4672548 , -0.09609012, -0.090366  , -0.3598881 ,\n",
              "          0.24717088,  0.19887939, -0.20686376,  0.20441225, -0.15637065,\n",
              "         -0.45917395,  0.03650685,  0.16747816,  0.45987934, -0.4887839 ,\n",
              "          0.4380379 ,  0.29125062, -0.08181408, -0.21585524, -0.0316072 ,\n",
              "          0.01411959, -0.0785774 , -0.05684212, -0.03566783, -0.03466061,\n",
              "         -0.19945702,  0.16592747,  0.35094187,  0.10755853,  0.16350324,\n",
              "         -0.0197234 , -0.03088555,  0.08400891,  0.09719951, -0.17438705,\n",
              "          0.05747275, -0.06200381, -0.33820006,  0.44907036,  0.64579326,\n",
              "         -0.59579676, -0.10964233, -0.11113696,  0.1694156 ,  0.54270107,\n",
              "          0.29376203, -0.07036986, -0.04845989,  0.40627992, -0.6272271 ,\n",
              "          0.06755584, -0.02814228, -0.36624   , -0.03275577, -0.24249256,\n",
              "          0.14411725,  0.38501593,  0.41752106,  0.00342149, -0.04377575,\n",
              "          0.27993795,  0.33736786, -0.2450197 ,  0.33871722, -0.29203153,\n",
              "          0.13138476,  0.0211347 ,  0.19118506, -0.08393487, -0.53102523],\n",
              "        dtype=float32)),\n",
              " ('odd',\n",
              "  array([-0.08490238, -0.06564087,  0.03089208, -0.01431975,  0.12102086,\n",
              "          0.2132326 , -0.15158251, -0.01693568, -0.07439549,  0.07004748,\n",
              "         -0.11880235,  0.10529661, -0.05154043, -0.12230887,  0.07002004,\n",
              "          0.05287454, -0.00658971, -0.03194373, -0.04570335, -0.0434465 ,\n",
              "          0.10197584, -0.19324683, -0.08132187,  0.04921593, -0.07914691,\n",
              "         -0.04141307, -0.00094132, -0.30538404, -0.15990548,  0.03907715,\n",
              "          0.10173736, -0.2479931 , -0.0281729 , -0.00956249, -0.15205787,\n",
              "          0.09706226,  0.09267121, -0.09212632,  0.07109393, -0.09854174,\n",
              "         -0.19733498,  0.01458121,  0.07418065,  0.20647407, -0.20474978,\n",
              "          0.20013496,  0.08498511, -0.02853602, -0.10729104, -0.04719588,\n",
              "          0.03039212, -0.03293566,  0.00303715, -0.01209268, -0.02279638,\n",
              "         -0.06500384,  0.05768883,  0.14823015,  0.04074508,  0.06740329,\n",
              "         -0.05379304, -0.01873602,  0.06650037,  0.03717458, -0.11099467,\n",
              "          0.0187209 , -0.02114106, -0.16761532,  0.18217823,  0.28976128,\n",
              "         -0.28959438, -0.0473026 , -0.06441215,  0.08678791,  0.2157676 ,\n",
              "          0.11736488, -0.03632576, -0.04497927,  0.17501052, -0.30822343,\n",
              "          0.01213461, -0.03714064, -0.20260336,  0.00739799, -0.10946386,\n",
              "          0.1264309 ,  0.17883778,  0.1910684 ,  0.03366037, -0.00915142,\n",
              "          0.13037239,  0.19379836, -0.10432176,  0.14908351, -0.14812164,\n",
              "          0.06707636,  0.01610924,  0.07769034, -0.02353815, -0.23064806],\n",
              "        dtype=float32))]"
            ]
          },
          "metadata": {
            "tags": []
          },
          "execution_count": 69
        }
      ]
    },
    {
      "cell_type": "code",
      "metadata": {
        "id": "lyB-DIdI_RdA",
        "colab_type": "code",
        "colab": {
          "base_uri": "https://localhost:8080/",
          "height": 35
        },
        "outputId": "6f044381-0d52-43f3-e207-69fcaca734ed"
      },
      "source": [
        "len(w2v.keys())"
      ],
      "execution_count": 102,
      "outputs": [
        {
          "output_type": "execute_result",
          "data": {
            "text/plain": [
              "8604"
            ]
          },
          "metadata": {
            "tags": []
          },
          "execution_count": 102
        }
      ]
    },
    {
      "cell_type": "code",
      "metadata": {
        "id": "sD2SiaNBW_OG",
        "colab_type": "code",
        "colab": {}
      },
      "source": [
        "# classification models\n",
        "\n",
        "# import models\n",
        "# from sklearn.naive_bayes import GaussianNB\n",
        "# from \n",
        "from sklearn.tree import DecisionTreeClassifier\n",
        "from sklearn.neural_network import MLPClassifier\n",
        "from sklearn.ensemble import GradientBoostingClassifier\n",
        "from sklearn.naive_bayes import GaussianNB, MultinomialNB\n",
        "from sklearn.model_selection import GridSearchCV\n",
        "\n",
        "clf_models = {\n",
        "      'Naive Bayes': GaussianNB(),\n",
        "      'SVC': sklearn.svm.SVC(),\n",
        "      'Decision Tree': DecisionTreeClassifier(),\n",
        "      'Perceptron': MLPClassifier(),\n",
        "      'GradientBoosting': GradientBoostingClassifier()\n",
        "}\n",
        "\n",
        "clf_params = {\n",
        "      'Naive Bayes': {},\n",
        "      'SVC': {'kernel': ['linear', 'rbf']},\n",
        "      'Decision Tree': {'min_samples_split': [2, 5], 'max_depth': [10, 15]},\n",
        "      'Perceptron': {'activation': ['relu', 'tanh', 'sigmoid']},\n",
        "      'GradientBoosting': {'min_samples_split': [2, 5], 'max_depth': [10, 15]}\n",
        "}\n",
        "\n",
        "# need to create class with a fit/transform method as the 'word2vec' model has no fit/transform method\n",
        "\n",
        "class Vectorizer(object):\n",
        "\n",
        "    def __init__(self, vec):\n",
        "        self.vec = vec,\n",
        "        self.dim = len(vec.keys())\n",
        "\n",
        "    def fit(self, X, y):\n",
        "        return self # no action required\n",
        "\n",
        "    def transform(self, X):\n",
        "        return np.array([np.mean([self.vec[w] for w in words if w in self.vec] or [np.zeros(self.dim)], axis=0) for words in X])\n",
        "\n",
        "\n",
        "# creating a class for Classifer as not every model has a fit/transform methods\n",
        "\n",
        "class Classifier(object):\n",
        "    \n",
        "    def __init__(self, model, param):\n",
        "        self.model = model\n",
        "        self.param = param\n",
        "        # grid search\n",
        "        self.gs = GridSearchCV(self.model, self.param, cv=5, refit=True)\n",
        "      \n",
        "    def fit(self, X, y):\n",
        "        return self.gs.fit(X, y)\n",
        "\n",
        "    def predict(self, X):\n",
        "        return self.gs.predict(X)\n",
        "\n",
        "# def grid_search(model, param):\n",
        "#     return GridSearchCV(model, param, cv=5)\n",
        "\n",
        "# train , test splits\n",
        "# X_train, X_test, y_train, y_test = sklearn.model_selection.train_test_split(df['text'], df['category'], test_size=0.2, shuffle=True)\n",
        "\n",
        "# from sklearn.pipeline import Pipeline, make_pipeline\n",
        "\n",
        "# for key in clf_models.keys():\n",
        "#     #pipeline  = make_pipeline(Vectorizer(w2v), Classifier(clf_models[key], clf_params[key]))\n",
        "#     pipeline = Pipeline([('Word2Vec vectorizer', Vectorizer(w2v)), ('Classifier', Classifier(clf_models[key], clf_params[key]))])\n",
        "#     pipeline.fit(X_train, y_train)\n",
        "#     y_pred = pipeline.predict(X_test)\n",
        "\n",
        "#     print(key, ':' )\n",
        "#     print('Accuracy: {:.2f} \\t Precision: {:.2f} \\t Recall: {:.2f} \\t F1: {:.2f}'.format(\n",
        "#         sklearn.metrics.accuracy_score(y_pred, y_test),\n",
        "#         sklearn.metrics.precision_score(y_pred, y_test, average='macro'),\n",
        "#         sklearn.metrics.recall_score(y_pred, y_test , average='macro'),\n",
        "#         sklearn.metrics.f1_score(y_pred, y_test, average='macro')\n",
        "#     ))"
      ],
      "execution_count": 0,
      "outputs": []
    },
    {
      "cell_type": "code",
      "metadata": {
        "id": "weyP0gw9L_JN",
        "colab_type": "code",
        "colab": {
          "base_uri": "https://localhost:8080/",
          "height": 173
        },
        "outputId": "f6ec4a54-3d37-4bd3-811a-fcbecf7052e9"
      },
      "source": [
        "# using TF-IDF vectorizer\n",
        "def Vectorize(vec, X_train, X_test):\n",
        "    X_train_vec = vec.fit_transform(X_train)\n",
        "    X_test_vec = vec.transform(X_test)\n",
        "\n",
        "    print(\"Vectorization complet .............\")\n",
        "    return X_train_vec, X_test_vec\n",
        "\n",
        "# use multiple classifiers with GridSearch\n",
        "\n",
        "def ML_modeling(models, params, X_train_vec, X_test_vec, y_train, y_test):\n",
        "\n",
        "    if not set(models.keys()).issubset(set(params.keys())):\n",
        "        raise ValueError('Some arguments missing')\n",
        "    \n",
        "    for key in models.keys():\n",
        "        model = models[key]\n",
        "        param = params[key]\n",
        "\n",
        "        # use GridSearchCV on the model and range of hyperparameters\n",
        "        gs = GridSearchCV(model, param, cv=5, refit=True)\n",
        "        gs.fit(X_train_vec, y_train)\n",
        "        y_pred = gs.predict(X_test_vec)\n",
        "\n",
        "        # find the best parameters of the model\n",
        "        print(key, ':', gs.best_params_)\n",
        "\n",
        "        print('Accuracy: {:.2f} \\t Precision: {:.2f} \\t Recall: {:.2f} \\t F1: {:.2f}'\\\n",
        "              .format(\n",
        "                  sklearn.metrics.accuracy_score(y_pred, y_test),\n",
        "                  sklearn.metrics.precision_score(y_pred, y_test, average='macro'),\n",
        "                  sklearn.metrics.recall_score(y_pred, y_test , average='macro'),\n",
        "                  sklearn.metrics.f1_score(y_pred, y_test, average='macro')\n",
        "              ))\n",
        "\n",
        "models = {\n",
        "    'Naive Bayes': MultinomialNB(), \n",
        "    'Decision Tree': DecisionTreeClassifier(),  \n",
        "    'Perceptron': MLPClassifier(),\n",
        "    'Gradient Boosting': GradientBoostingClassifier()\n",
        "}\n",
        "\n",
        "params = {\n",
        "    'Naive Bayes': { 'alpha': [0.5, 1], 'fit_prior': [True, False] }, \n",
        "    'Decision Tree': { 'min_samples_split': [1, 2, 5] }, \n",
        "    'Perceptron': { 'alpha': [0.0001, 0.001], 'activation': ['tanh', 'relu'] },\n",
        "    'Gradient Boosting': { 'learning_rate': [0.05, 0.1], 'min_samples_split': [2, 5] }\n",
        "}\n",
        "\n",
        "# use label encoder to encode the 'categories'\n",
        "from sklearn.preprocessing import LabelEncoder\n",
        "le = LabelEncoder()\n",
        "df['category'] = le.fit_transform(df['category'])\n",
        "labels = list(le.classes_)\n",
        "\n",
        "\n",
        "X_train, X_test, y_train, y_test = sklearn.model_selection.train_test_split(df['text'], df['category'], test_size=0.2, shuffle=True)\n",
        "\n",
        "# Vectorize using TfidfVectorizer\n",
        "\n",
        "from sklearn.feature_extraction.text import TfidfVectorizer\n",
        "X_train_vec, X_test_vec = Vectorize(TfidfVectorizer(), X_train, X_test)\n",
        "\n",
        "ML_modeling(models, params, X_train_vec, X_test_vec, y_train, y_test)"
      ],
      "execution_count": 135,
      "outputs": [
        {
          "output_type": "stream",
          "text": [
            "Vectorization complet .............\n",
            "Naive Bayes : {'alpha': 0.5, 'fit_prior': False}\n",
            "Accuracy: 0.97 \t Precision: 0.97 \t Recall: 0.97 \t F1: 0.97\n",
            "Decision Tree : {'min_samples_split': 2}\n",
            "Accuracy: 0.78 \t Precision: 0.78 \t Recall: 0.78 \t F1: 0.78\n",
            "Perceptron : {'activation': 'relu', 'alpha': 0.0001}\n",
            "Accuracy: 0.98 \t Precision: 0.98 \t Recall: 0.98 \t F1: 0.98\n",
            "Gradient Boosting : {'learning_rate': 0.1, 'min_samples_split': 5}\n",
            "Accuracy: 0.95 \t Precision: 0.95 \t Recall: 0.96 \t F1: 0.95\n"
          ],
          "name": "stdout"
        }
      ]
    },
    {
      "cell_type": "code",
      "metadata": {
        "id": "Dn8ZF6JQN2Dy",
        "colab_type": "code",
        "colab": {
          "base_uri": "https://localhost:8080/",
          "height": 35
        },
        "outputId": "6d4c0b2f-c66b-4ec5-abca-2b6eef5a1d34"
      },
      "source": [
        ""
      ],
      "execution_count": 131,
      "outputs": [
        {
          "output_type": "execute_result",
          "data": {
            "text/plain": [
              "True"
            ]
          },
          "metadata": {
            "tags": []
          },
          "execution_count": 131
        }
      ]
    },
    {
      "cell_type": "code",
      "metadata": {
        "id": "FvyIuQz_OI16",
        "colab_type": "code",
        "colab": {}
      },
      "source": [
        ""
      ],
      "execution_count": 0,
      "outputs": []
    }
  ]
}